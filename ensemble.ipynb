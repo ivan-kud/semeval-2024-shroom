{
 "cells": [
  {
   "cell_type": "markdown",
   "metadata": {},
   "source": [
    "# Setup"
   ]
  },
  {
   "cell_type": "code",
   "execution_count": 1,
   "metadata": {
    "execution": {
     "iopub.execute_input": "2024-04-02T07:49:40.798326Z",
     "iopub.status.busy": "2024-04-02T07:49:40.798072Z",
     "iopub.status.idle": "2024-04-02T07:49:40.804342Z",
     "shell.execute_reply": "2024-04-02T07:49:40.803867Z"
    }
   },
   "outputs": [],
   "source": [
    "import os\n",
    "\n",
    "os.environ[\"CUDA_DEVICE_ORDER\"] = \"PCI_BUS_ID\"\n",
    "os.environ[\"CUDA_VISIBLE_DEVICES\"] = \"0\""
   ]
  },
  {
   "cell_type": "code",
   "execution_count": 2,
   "metadata": {
    "execution": {
     "iopub.execute_input": "2024-04-02T07:49:40.806742Z",
     "iopub.status.busy": "2024-04-02T07:49:40.806483Z",
     "iopub.status.idle": "2024-04-02T07:49:41.992214Z",
     "shell.execute_reply": "2024-04-02T07:49:41.991640Z"
    }
   },
   "outputs": [],
   "source": [
    "import os\n",
    "from pathlib import Path\n",
    "import statistics\n",
    "\n",
    "import numpy as np\n",
    "import pandas as pd\n",
    "from scipy.stats import spearmanr\n",
    "from sklearn.metrics import accuracy_score\n",
    "from sklearn.model_selection import cross_val_score, KFold, StratifiedKFold, RepeatedStratifiedKFold\n",
    "\n",
    "import catboost as cb\n",
    "import optuna"
   ]
  },
  {
   "cell_type": "code",
   "execution_count": 3,
   "metadata": {
    "execution": {
     "iopub.execute_input": "2024-04-02T07:49:41.995372Z",
     "iopub.status.busy": "2024-04-02T07:49:41.995035Z",
     "iopub.status.idle": "2024-04-02T07:49:42.000176Z",
     "shell.execute_reply": "2024-04-02T07:49:41.999685Z"
    }
   },
   "outputs": [],
   "source": [
    "AUTO_FIND_HYPERPARAMETERS = True\n",
    "MANUAL_FIND_HYPERPARAMETERS = False\n",
    "EVALUATE_ON_VAL = False\n",
    "USE_CATBOOST_CLASSIFIER = False\n",
    "USE_TASK_FEATURES = False\n",
    "USE_LENGTH_FEATURES = True\n",
    "USE_NEUTRAL_PROBA_FEATURE = False\n",
    "RUN_NAME = 'test_article'\n",
    "\n",
    "INPUT_DATA_PATH = './data/'\n",
    "REFERENCE_PATH = './data/test/'\n",
    "OUTPUT_DATA_PATH = './output/'\n",
    "SUBMISSION_PATH = f'./output/catboost/{RUN_NAME}/'\n",
    "RESULT_PATH = f'./output/catboost/{RUN_NAME}/test.score.txt'\n",
    "MODELS = [\n",
    "    'FacebookAI-roberta-large-mnli',\n",
    "    # 'FacebookAI-roberta-large-mnli_inverse',\n",
    "    'deberta-selfchecknli',\n",
    "    # 'deberta-selfchecknli_inverse',\n",
    "    'google_t5_xxl_true_nli_mixture',\n",
    "    # 'google_t5_xxl_true_nli_mixture_inverse',\n",
    "    'sentence-transformers-nli-roberta-large',\n",
    "    # 'openchat',\n",
    "    'microsoft-deberta-base-mnli', \n",
    "    'microsoft-deberta-large-mnli', \n",
    "    'microsoft-deberta-xlarge-mnli',\n",
    "    'microsoft-deberta-v2-xlarge-mnli',\n",
    "    'microsoft-deberta-v2-xxlarge-mnli',\n",
    "    ]\n",
    "\n",
    "RANDOM_SEED = 424242\n",
    "TASKS = ['agnostic', 'aware']\n",
    "\n",
    "Path(SUBMISSION_PATH).mkdir(parents=True, exist_ok=True)"
   ]
  },
  {
   "cell_type": "markdown",
   "metadata": {},
   "source": [
    "# Load data"
   ]
  },
  {
   "cell_type": "code",
   "execution_count": 4,
   "metadata": {
    "execution": {
     "iopub.execute_input": "2024-04-02T07:49:42.002713Z",
     "iopub.status.busy": "2024-04-02T07:49:42.002435Z",
     "iopub.status.idle": "2024-04-02T07:49:42.119461Z",
     "shell.execute_reply": "2024-04-02T07:49:42.118845Z"
    }
   },
   "outputs": [
    {
     "name": "stdout",
     "output_type": "stream",
     "text": [
      "./data/val/val.model-agnostic.json\n",
      "./output/FacebookAI-roberta-large-mnli/val/val.model-agnostic.csv\n",
      "./output/deberta-selfchecknli/val/val.model-agnostic.csv\n",
      "./output/google_t5_xxl_true_nli_mixture/val/val.model-agnostic.csv\n",
      "./output/sentence-transformers-nli-roberta-large/val/val.model-agnostic.csv\n",
      "./output/microsoft-deberta-base-mnli/val/val.model-agnostic.csv\n",
      "./output/microsoft-deberta-large-mnli/val/val.model-agnostic.csv\n",
      "./output/microsoft-deberta-xlarge-mnli/val/val.model-agnostic.csv\n",
      "./output/microsoft-deberta-v2-xlarge-mnli/val/val.model-agnostic.csv\n",
      "./output/microsoft-deberta-v2-xxlarge-mnli/val/val.model-agnostic.csv\n",
      "./data/val/val.model-aware.json\n",
      "./output/FacebookAI-roberta-large-mnli/val/val.model-aware.csv\n",
      "./output/deberta-selfchecknli/val/val.model-aware.csv\n",
      "./output/google_t5_xxl_true_nli_mixture/val/val.model-aware.csv\n",
      "./output/sentence-transformers-nli-roberta-large/val/val.model-aware.csv\n",
      "./output/microsoft-deberta-base-mnli/val/val.model-aware.csv\n",
      "./output/microsoft-deberta-large-mnli/val/val.model-aware.csv\n",
      "./output/microsoft-deberta-xlarge-mnli/val/val.model-aware.csv\n",
      "./output/microsoft-deberta-v2-xlarge-mnli/val/val.model-aware.csv\n",
      "./output/microsoft-deberta-v2-xxlarge-mnli/val/val.model-aware.csv\n",
      "./data/test/test.model-agnostic.json\n",
      "./output/FacebookAI-roberta-large-mnli/test/test.model-agnostic.csv\n",
      "./output/deberta-selfchecknli/test/test.model-agnostic.csv\n",
      "./output/google_t5_xxl_true_nli_mixture/test/test.model-agnostic.csv\n",
      "./output/sentence-transformers-nli-roberta-large/test/test.model-agnostic.csv\n",
      "./output/microsoft-deberta-base-mnli/test/test.model-agnostic.csv\n",
      "./output/microsoft-deberta-large-mnli/test/test.model-agnostic.csv\n",
      "./output/microsoft-deberta-xlarge-mnli/test/test.model-agnostic.csv\n",
      "./output/microsoft-deberta-v2-xlarge-mnli/test/test.model-agnostic.csv\n",
      "./output/microsoft-deberta-v2-xxlarge-mnli/test/test.model-agnostic.csv\n",
      "./data/test/test.model-aware.json\n",
      "./output/FacebookAI-roberta-large-mnli/test/test.model-aware.csv\n",
      "./output/deberta-selfchecknli/test/test.model-aware.csv\n",
      "./output/google_t5_xxl_true_nli_mixture/test/test.model-aware.csv\n",
      "./output/sentence-transformers-nli-roberta-large/test/test.model-aware.csv\n",
      "./output/microsoft-deberta-base-mnli/test/test.model-aware.csv\n",
      "./output/microsoft-deberta-large-mnli/test/test.model-aware.csv\n",
      "./output/microsoft-deberta-xlarge-mnli/test/test.model-aware.csv\n",
      "./output/microsoft-deberta-v2-xlarge-mnli/test/test.model-aware.csv\n",
      "./output/microsoft-deberta-v2-xxlarge-mnli/test/test.model-aware.csv\n"
     ]
    }
   ],
   "source": [
    "X = {}\n",
    "y = {}\n",
    "for sample in ['val', 'test']:\n",
    "    for task in TASKS:\n",
    "        X[f'{sample}-{task}'] = []\n",
    "        \n",
    "        # Load 'task' and 'length' features\n",
    "        file = f'{INPUT_DATA_PATH}{sample}/{sample}.model-{task}.json'\n",
    "        df = pd.read_json(file, orient='records')\n",
    "        if sample == 'test':\n",
    "            df.set_index('id', drop=True, inplace=True)\n",
    "        if USE_TASK_FEATURES:\n",
    "            if MANUAL_FIND_HYPERPARAMETERS:\n",
    "                X[f'{sample}-{task}'].append(df['task'])\n",
    "            elif AUTO_FIND_HYPERPARAMETERS:\n",
    "                df['DM'] = df['task'].map({'DM': 1, 'MT': 0, 'PG': 0})\n",
    "                df['MT'] = df['task'].map({'DM': 0, 'MT': 1, 'PG': 0})\n",
    "                X[f'{sample}-{task}'].append(df[['DM', 'MT']])\n",
    "        if USE_LENGTH_FEATURES:\n",
    "            df['hyp_len'] = df['hyp'].str.len()\n",
    "            df['tgt_len'] = df['tgt'].str.len()\n",
    "            df['src_len'] = df['src'].str.len()\n",
    "            X[f'{sample}-{task}'].append(df[['hyp_len', 'tgt_len', 'src_len']])\n",
    "        print(file)\n",
    "        \n",
    "        # Load y\n",
    "        df.rename(columns={\"p(Hallucination)\": \"p\"}, inplace=True)\n",
    "        y[f'{sample}-{task}'] = df[['label', 'p']]\n",
    "\n",
    "        for model in MODELS:\n",
    "            # Load features from transformer-based models\n",
    "            file = f'{OUTPUT_DATA_PATH}{model}/{sample}/{sample}.model-{task}.csv'\n",
    "            df = pd.read_csv(file)\n",
    "            if sample == 'test':\n",
    "                df.set_index('id', drop=True, inplace=True)\n",
    "            if USE_NEUTRAL_PROBA_FEATURE:\n",
    "                if \"p(Entl)\" in df:\n",
    "                    df['p(Neutr)'] = 1 - df['p(Contr)'] - df['p(Entl)']\n",
    "                else:\n",
    "                    df['p(Entl)'] = 1 - df['p(Contr)']\n",
    "            df.rename(columns={\n",
    "                \"p(Contr)\": \"p(Contr)_\" + model,\n",
    "                \"p(Entl)\": \"p(Entl)_\" + model,\n",
    "                \"p(Neutr)\": \"p(Neutr)_\" + model,\n",
    "                }, inplace=True)\n",
    "            X[f'{sample}-{task}'].append(df)\n",
    "            print(file)\n",
    "        \n",
    "        # Concatenate X dataframes\n",
    "        X[f'{sample}-{task}'] = pd.concat(X[f'{sample}-{task}'], axis=1)"
   ]
  },
  {
   "cell_type": "code",
   "execution_count": 5,
   "metadata": {
    "execution": {
     "iopub.execute_input": "2024-04-02T07:49:42.157705Z",
     "iopub.status.busy": "2024-04-02T07:49:42.157413Z",
     "iopub.status.idle": "2024-04-02T07:49:42.161814Z",
     "shell.execute_reply": "2024-04-02T07:49:42.161215Z"
    }
   },
   "outputs": [
    {
     "name": "stdout",
     "output_type": "stream",
     "text": [
      "For X data:\n",
      "\t val-agnostic\n",
      "\t val-aware\n",
      "\t test-agnostic\n",
      "\t test-aware\n",
      "\n",
      "For y data:\n",
      "\t val-agnostic\n",
      "\t val-aware\n",
      "\t test-agnostic\n",
      "\t test-aware\n"
     ]
    }
   ],
   "source": [
    "# Print dataframe names\n",
    "print('For X data:')\n",
    "for df_name in X:\n",
    "    print('\\t', df_name)\n",
    "print()\n",
    "print('For y data:')\n",
    "for df_name in y:\n",
    "    print('\\t', df_name)"
   ]
  },
  {
   "cell_type": "code",
   "execution_count": 6,
   "metadata": {
    "execution": {
     "iopub.execute_input": "2024-04-02T07:49:42.164360Z",
     "iopub.status.busy": "2024-04-02T07:49:42.164110Z",
     "iopub.status.idle": "2024-04-02T07:49:42.183673Z",
     "shell.execute_reply": "2024-04-02T07:49:42.183193Z"
    }
   },
   "outputs": [
    {
     "data": {
      "text/html": [
       "<div>\n",
       "<style scoped>\n",
       "    .dataframe tbody tr th:only-of-type {\n",
       "        vertical-align: middle;\n",
       "    }\n",
       "\n",
       "    .dataframe tbody tr th {\n",
       "        vertical-align: top;\n",
       "    }\n",
       "\n",
       "    .dataframe thead th {\n",
       "        text-align: right;\n",
       "    }\n",
       "</style>\n",
       "<table border=\"1\" class=\"dataframe\">\n",
       "  <thead>\n",
       "    <tr style=\"text-align: right;\">\n",
       "      <th></th>\n",
       "      <th>hyp_len</th>\n",
       "      <th>tgt_len</th>\n",
       "      <th>src_len</th>\n",
       "      <th>p(Contr)_FacebookAI-roberta-large-mnli</th>\n",
       "      <th>p(Contr)_deberta-selfchecknli</th>\n",
       "      <th>p(Contr)_google_t5_xxl_true_nli_mixture</th>\n",
       "      <th>p(Contr)_sentence-transformers-nli-roberta-large</th>\n",
       "      <th>p(Contr)_microsoft-deberta-base-mnli</th>\n",
       "      <th>p(Entl)_microsoft-deberta-base-mnli</th>\n",
       "      <th>p(Contr)_microsoft-deberta-large-mnli</th>\n",
       "      <th>p(Entl)_microsoft-deberta-large-mnli</th>\n",
       "      <th>p(Contr)_microsoft-deberta-xlarge-mnli</th>\n",
       "      <th>p(Entl)_microsoft-deberta-xlarge-mnli</th>\n",
       "      <th>p(Contr)_microsoft-deberta-v2-xlarge-mnli</th>\n",
       "      <th>p(Entl)_microsoft-deberta-v2-xlarge-mnli</th>\n",
       "      <th>p(Contr)_microsoft-deberta-v2-xxlarge-mnli</th>\n",
       "      <th>p(Entl)_microsoft-deberta-v2-xxlarge-mnli</th>\n",
       "    </tr>\n",
       "  </thead>\n",
       "  <tbody>\n",
       "    <tr>\n",
       "      <th>0</th>\n",
       "      <td>41</td>\n",
       "      <td>36</td>\n",
       "      <td>316</td>\n",
       "      <td>0.001844</td>\n",
       "      <td>0.002097</td>\n",
       "      <td>0</td>\n",
       "      <td>0.053903</td>\n",
       "      <td>0.001249</td>\n",
       "      <td>0.918769</td>\n",
       "      <td>0.000930</td>\n",
       "      <td>0.925807</td>\n",
       "      <td>0.001269</td>\n",
       "      <td>0.937311</td>\n",
       "      <td>0.001208</td>\n",
       "      <td>0.956369</td>\n",
       "      <td>0.002282</td>\n",
       "      <td>0.913186</td>\n",
       "    </tr>\n",
       "    <tr>\n",
       "      <th>1</th>\n",
       "      <td>32</td>\n",
       "      <td>1</td>\n",
       "      <td>451</td>\n",
       "      <td>0.289209</td>\n",
       "      <td>0.643224</td>\n",
       "      <td>1</td>\n",
       "      <td>0.955537</td>\n",
       "      <td>0.043280</td>\n",
       "      <td>0.451597</td>\n",
       "      <td>0.053752</td>\n",
       "      <td>0.202548</td>\n",
       "      <td>0.056093</td>\n",
       "      <td>0.335795</td>\n",
       "      <td>0.026490</td>\n",
       "      <td>0.200199</td>\n",
       "      <td>0.034473</td>\n",
       "      <td>0.020775</td>\n",
       "    </tr>\n",
       "    <tr>\n",
       "      <th>2</th>\n",
       "      <td>34</td>\n",
       "      <td>36</td>\n",
       "      <td>181</td>\n",
       "      <td>0.993463</td>\n",
       "      <td>0.707190</td>\n",
       "      <td>1</td>\n",
       "      <td>0.107394</td>\n",
       "      <td>0.367452</td>\n",
       "      <td>0.423152</td>\n",
       "      <td>0.843042</td>\n",
       "      <td>0.030436</td>\n",
       "      <td>0.409416</td>\n",
       "      <td>0.335741</td>\n",
       "      <td>0.669810</td>\n",
       "      <td>0.130411</td>\n",
       "      <td>0.604200</td>\n",
       "      <td>0.209205</td>\n",
       "    </tr>\n",
       "    <tr>\n",
       "      <th>3</th>\n",
       "      <td>17</td>\n",
       "      <td>100</td>\n",
       "      <td>149</td>\n",
       "      <td>0.094564</td>\n",
       "      <td>0.008859</td>\n",
       "      <td>0</td>\n",
       "      <td>0.428500</td>\n",
       "      <td>0.045262</td>\n",
       "      <td>0.933873</td>\n",
       "      <td>0.010749</td>\n",
       "      <td>0.969606</td>\n",
       "      <td>0.004535</td>\n",
       "      <td>0.980909</td>\n",
       "      <td>0.052765</td>\n",
       "      <td>0.911118</td>\n",
       "      <td>0.007620</td>\n",
       "      <td>0.975416</td>\n",
       "    </tr>\n",
       "    <tr>\n",
       "      <th>4</th>\n",
       "      <td>39</td>\n",
       "      <td>63</td>\n",
       "      <td>441</td>\n",
       "      <td>0.013538</td>\n",
       "      <td>0.004337</td>\n",
       "      <td>0</td>\n",
       "      <td>0.059323</td>\n",
       "      <td>0.209675</td>\n",
       "      <td>0.284467</td>\n",
       "      <td>0.030628</td>\n",
       "      <td>0.928012</td>\n",
       "      <td>0.008921</td>\n",
       "      <td>0.891682</td>\n",
       "      <td>0.003898</td>\n",
       "      <td>0.962758</td>\n",
       "      <td>0.013182</td>\n",
       "      <td>0.932905</td>\n",
       "    </tr>\n",
       "    <tr>\n",
       "      <th>...</th>\n",
       "      <td>...</td>\n",
       "      <td>...</td>\n",
       "      <td>...</td>\n",
       "      <td>...</td>\n",
       "      <td>...</td>\n",
       "      <td>...</td>\n",
       "      <td>...</td>\n",
       "      <td>...</td>\n",
       "      <td>...</td>\n",
       "      <td>...</td>\n",
       "      <td>...</td>\n",
       "      <td>...</td>\n",
       "      <td>...</td>\n",
       "      <td>...</td>\n",
       "      <td>...</td>\n",
       "      <td>...</td>\n",
       "      <td>...</td>\n",
       "    </tr>\n",
       "    <tr>\n",
       "      <th>494</th>\n",
       "      <td>32</td>\n",
       "      <td>39</td>\n",
       "      <td>30</td>\n",
       "      <td>0.001673</td>\n",
       "      <td>0.000138</td>\n",
       "      <td>0</td>\n",
       "      <td>0.014917</td>\n",
       "      <td>0.000238</td>\n",
       "      <td>0.997373</td>\n",
       "      <td>0.000179</td>\n",
       "      <td>0.998278</td>\n",
       "      <td>0.000507</td>\n",
       "      <td>0.994063</td>\n",
       "      <td>0.000151</td>\n",
       "      <td>0.998987</td>\n",
       "      <td>0.000825</td>\n",
       "      <td>0.995205</td>\n",
       "    </tr>\n",
       "    <tr>\n",
       "      <th>495</th>\n",
       "      <td>42</td>\n",
       "      <td>46</td>\n",
       "      <td>48</td>\n",
       "      <td>0.004702</td>\n",
       "      <td>0.000263</td>\n",
       "      <td>0</td>\n",
       "      <td>0.024462</td>\n",
       "      <td>0.002412</td>\n",
       "      <td>0.963516</td>\n",
       "      <td>0.022022</td>\n",
       "      <td>0.900231</td>\n",
       "      <td>0.024779</td>\n",
       "      <td>0.931660</td>\n",
       "      <td>0.005710</td>\n",
       "      <td>0.983528</td>\n",
       "      <td>0.001241</td>\n",
       "      <td>0.991755</td>\n",
       "    </tr>\n",
       "    <tr>\n",
       "      <th>496</th>\n",
       "      <td>43</td>\n",
       "      <td>42</td>\n",
       "      <td>43</td>\n",
       "      <td>0.001838</td>\n",
       "      <td>0.000291</td>\n",
       "      <td>0</td>\n",
       "      <td>0.016321</td>\n",
       "      <td>0.000273</td>\n",
       "      <td>0.996779</td>\n",
       "      <td>0.000256</td>\n",
       "      <td>0.996457</td>\n",
       "      <td>0.000437</td>\n",
       "      <td>0.992136</td>\n",
       "      <td>0.000263</td>\n",
       "      <td>0.998185</td>\n",
       "      <td>0.000795</td>\n",
       "      <td>0.994654</td>\n",
       "    </tr>\n",
       "    <tr>\n",
       "      <th>497</th>\n",
       "      <td>28</td>\n",
       "      <td>31</td>\n",
       "      <td>22</td>\n",
       "      <td>0.000960</td>\n",
       "      <td>0.000053</td>\n",
       "      <td>0</td>\n",
       "      <td>0.042848</td>\n",
       "      <td>0.000354</td>\n",
       "      <td>0.995894</td>\n",
       "      <td>0.000149</td>\n",
       "      <td>0.997803</td>\n",
       "      <td>0.000396</td>\n",
       "      <td>0.993571</td>\n",
       "      <td>0.000123</td>\n",
       "      <td>0.998568</td>\n",
       "      <td>0.000770</td>\n",
       "      <td>0.994802</td>\n",
       "    </tr>\n",
       "    <tr>\n",
       "      <th>498</th>\n",
       "      <td>43</td>\n",
       "      <td>43</td>\n",
       "      <td>39</td>\n",
       "      <td>0.005383</td>\n",
       "      <td>0.000145</td>\n",
       "      <td>0</td>\n",
       "      <td>0.024805</td>\n",
       "      <td>0.000310</td>\n",
       "      <td>0.997303</td>\n",
       "      <td>0.000250</td>\n",
       "      <td>0.997948</td>\n",
       "      <td>0.000498</td>\n",
       "      <td>0.994475</td>\n",
       "      <td>0.000252</td>\n",
       "      <td>0.998596</td>\n",
       "      <td>0.000879</td>\n",
       "      <td>0.995142</td>\n",
       "    </tr>\n",
       "  </tbody>\n",
       "</table>\n",
       "<p>499 rows × 17 columns</p>\n",
       "</div>"
      ],
      "text/plain": [
       "     hyp_len  tgt_len  src_len  p(Contr)_FacebookAI-roberta-large-mnli  \\\n",
       "0         41       36      316                                0.001844   \n",
       "1         32        1      451                                0.289209   \n",
       "2         34       36      181                                0.993463   \n",
       "3         17      100      149                                0.094564   \n",
       "4         39       63      441                                0.013538   \n",
       "..       ...      ...      ...                                     ...   \n",
       "494       32       39       30                                0.001673   \n",
       "495       42       46       48                                0.004702   \n",
       "496       43       42       43                                0.001838   \n",
       "497       28       31       22                                0.000960   \n",
       "498       43       43       39                                0.005383   \n",
       "\n",
       "     p(Contr)_deberta-selfchecknli  p(Contr)_google_t5_xxl_true_nli_mixture  \\\n",
       "0                         0.002097                                        0   \n",
       "1                         0.643224                                        1   \n",
       "2                         0.707190                                        1   \n",
       "3                         0.008859                                        0   \n",
       "4                         0.004337                                        0   \n",
       "..                             ...                                      ...   \n",
       "494                       0.000138                                        0   \n",
       "495                       0.000263                                        0   \n",
       "496                       0.000291                                        0   \n",
       "497                       0.000053                                        0   \n",
       "498                       0.000145                                        0   \n",
       "\n",
       "     p(Contr)_sentence-transformers-nli-roberta-large  \\\n",
       "0                                            0.053903   \n",
       "1                                            0.955537   \n",
       "2                                            0.107394   \n",
       "3                                            0.428500   \n",
       "4                                            0.059323   \n",
       "..                                                ...   \n",
       "494                                          0.014917   \n",
       "495                                          0.024462   \n",
       "496                                          0.016321   \n",
       "497                                          0.042848   \n",
       "498                                          0.024805   \n",
       "\n",
       "     p(Contr)_microsoft-deberta-base-mnli  \\\n",
       "0                                0.001249   \n",
       "1                                0.043280   \n",
       "2                                0.367452   \n",
       "3                                0.045262   \n",
       "4                                0.209675   \n",
       "..                                    ...   \n",
       "494                              0.000238   \n",
       "495                              0.002412   \n",
       "496                              0.000273   \n",
       "497                              0.000354   \n",
       "498                              0.000310   \n",
       "\n",
       "     p(Entl)_microsoft-deberta-base-mnli  \\\n",
       "0                               0.918769   \n",
       "1                               0.451597   \n",
       "2                               0.423152   \n",
       "3                               0.933873   \n",
       "4                               0.284467   \n",
       "..                                   ...   \n",
       "494                             0.997373   \n",
       "495                             0.963516   \n",
       "496                             0.996779   \n",
       "497                             0.995894   \n",
       "498                             0.997303   \n",
       "\n",
       "     p(Contr)_microsoft-deberta-large-mnli  \\\n",
       "0                                 0.000930   \n",
       "1                                 0.053752   \n",
       "2                                 0.843042   \n",
       "3                                 0.010749   \n",
       "4                                 0.030628   \n",
       "..                                     ...   \n",
       "494                               0.000179   \n",
       "495                               0.022022   \n",
       "496                               0.000256   \n",
       "497                               0.000149   \n",
       "498                               0.000250   \n",
       "\n",
       "     p(Entl)_microsoft-deberta-large-mnli  \\\n",
       "0                                0.925807   \n",
       "1                                0.202548   \n",
       "2                                0.030436   \n",
       "3                                0.969606   \n",
       "4                                0.928012   \n",
       "..                                    ...   \n",
       "494                              0.998278   \n",
       "495                              0.900231   \n",
       "496                              0.996457   \n",
       "497                              0.997803   \n",
       "498                              0.997948   \n",
       "\n",
       "     p(Contr)_microsoft-deberta-xlarge-mnli  \\\n",
       "0                                  0.001269   \n",
       "1                                  0.056093   \n",
       "2                                  0.409416   \n",
       "3                                  0.004535   \n",
       "4                                  0.008921   \n",
       "..                                      ...   \n",
       "494                                0.000507   \n",
       "495                                0.024779   \n",
       "496                                0.000437   \n",
       "497                                0.000396   \n",
       "498                                0.000498   \n",
       "\n",
       "     p(Entl)_microsoft-deberta-xlarge-mnli  \\\n",
       "0                                 0.937311   \n",
       "1                                 0.335795   \n",
       "2                                 0.335741   \n",
       "3                                 0.980909   \n",
       "4                                 0.891682   \n",
       "..                                     ...   \n",
       "494                               0.994063   \n",
       "495                               0.931660   \n",
       "496                               0.992136   \n",
       "497                               0.993571   \n",
       "498                               0.994475   \n",
       "\n",
       "     p(Contr)_microsoft-deberta-v2-xlarge-mnli  \\\n",
       "0                                     0.001208   \n",
       "1                                     0.026490   \n",
       "2                                     0.669810   \n",
       "3                                     0.052765   \n",
       "4                                     0.003898   \n",
       "..                                         ...   \n",
       "494                                   0.000151   \n",
       "495                                   0.005710   \n",
       "496                                   0.000263   \n",
       "497                                   0.000123   \n",
       "498                                   0.000252   \n",
       "\n",
       "     p(Entl)_microsoft-deberta-v2-xlarge-mnli  \\\n",
       "0                                    0.956369   \n",
       "1                                    0.200199   \n",
       "2                                    0.130411   \n",
       "3                                    0.911118   \n",
       "4                                    0.962758   \n",
       "..                                        ...   \n",
       "494                                  0.998987   \n",
       "495                                  0.983528   \n",
       "496                                  0.998185   \n",
       "497                                  0.998568   \n",
       "498                                  0.998596   \n",
       "\n",
       "     p(Contr)_microsoft-deberta-v2-xxlarge-mnli  \\\n",
       "0                                      0.002282   \n",
       "1                                      0.034473   \n",
       "2                                      0.604200   \n",
       "3                                      0.007620   \n",
       "4                                      0.013182   \n",
       "..                                          ...   \n",
       "494                                    0.000825   \n",
       "495                                    0.001241   \n",
       "496                                    0.000795   \n",
       "497                                    0.000770   \n",
       "498                                    0.000879   \n",
       "\n",
       "     p(Entl)_microsoft-deberta-v2-xxlarge-mnli  \n",
       "0                                     0.913186  \n",
       "1                                     0.020775  \n",
       "2                                     0.209205  \n",
       "3                                     0.975416  \n",
       "4                                     0.932905  \n",
       "..                                         ...  \n",
       "494                                   0.995205  \n",
       "495                                   0.991755  \n",
       "496                                   0.994654  \n",
       "497                                   0.994802  \n",
       "498                                   0.995142  \n",
       "\n",
       "[499 rows x 17 columns]"
      ]
     },
     "execution_count": 6,
     "metadata": {},
     "output_type": "execute_result"
    }
   ],
   "source": [
    "X['val-agnostic']"
   ]
  },
  {
   "cell_type": "code",
   "execution_count": 7,
   "metadata": {
    "execution": {
     "iopub.execute_input": "2024-04-02T07:49:42.186099Z",
     "iopub.status.busy": "2024-04-02T07:49:42.185872Z",
     "iopub.status.idle": "2024-04-02T07:49:42.193043Z",
     "shell.execute_reply": "2024-04-02T07:49:42.192584Z"
    }
   },
   "outputs": [
    {
     "data": {
      "text/html": [
       "<div>\n",
       "<style scoped>\n",
       "    .dataframe tbody tr th:only-of-type {\n",
       "        vertical-align: middle;\n",
       "    }\n",
       "\n",
       "    .dataframe tbody tr th {\n",
       "        vertical-align: top;\n",
       "    }\n",
       "\n",
       "    .dataframe thead th {\n",
       "        text-align: right;\n",
       "    }\n",
       "</style>\n",
       "<table border=\"1\" class=\"dataframe\">\n",
       "  <thead>\n",
       "    <tr style=\"text-align: right;\">\n",
       "      <th></th>\n",
       "      <th>label</th>\n",
       "      <th>p</th>\n",
       "    </tr>\n",
       "  </thead>\n",
       "  <tbody>\n",
       "    <tr>\n",
       "      <th>0</th>\n",
       "      <td>Not Hallucination</td>\n",
       "      <td>0.2</td>\n",
       "    </tr>\n",
       "    <tr>\n",
       "      <th>1</th>\n",
       "      <td>Hallucination</td>\n",
       "      <td>0.8</td>\n",
       "    </tr>\n",
       "    <tr>\n",
       "      <th>2</th>\n",
       "      <td>Not Hallucination</td>\n",
       "      <td>0.0</td>\n",
       "    </tr>\n",
       "    <tr>\n",
       "      <th>3</th>\n",
       "      <td>Not Hallucination</td>\n",
       "      <td>0.2</td>\n",
       "    </tr>\n",
       "    <tr>\n",
       "      <th>4</th>\n",
       "      <td>Not Hallucination</td>\n",
       "      <td>0.0</td>\n",
       "    </tr>\n",
       "    <tr>\n",
       "      <th>...</th>\n",
       "      <td>...</td>\n",
       "      <td>...</td>\n",
       "    </tr>\n",
       "    <tr>\n",
       "      <th>494</th>\n",
       "      <td>Not Hallucination</td>\n",
       "      <td>0.0</td>\n",
       "    </tr>\n",
       "    <tr>\n",
       "      <th>495</th>\n",
       "      <td>Not Hallucination</td>\n",
       "      <td>0.2</td>\n",
       "    </tr>\n",
       "    <tr>\n",
       "      <th>496</th>\n",
       "      <td>Not Hallucination</td>\n",
       "      <td>0.0</td>\n",
       "    </tr>\n",
       "    <tr>\n",
       "      <th>497</th>\n",
       "      <td>Not Hallucination</td>\n",
       "      <td>0.0</td>\n",
       "    </tr>\n",
       "    <tr>\n",
       "      <th>498</th>\n",
       "      <td>Not Hallucination</td>\n",
       "      <td>0.0</td>\n",
       "    </tr>\n",
       "  </tbody>\n",
       "</table>\n",
       "<p>499 rows × 2 columns</p>\n",
       "</div>"
      ],
      "text/plain": [
       "                 label    p\n",
       "0    Not Hallucination  0.2\n",
       "1        Hallucination  0.8\n",
       "2    Not Hallucination  0.0\n",
       "3    Not Hallucination  0.2\n",
       "4    Not Hallucination  0.0\n",
       "..                 ...  ...\n",
       "494  Not Hallucination  0.0\n",
       "495  Not Hallucination  0.2\n",
       "496  Not Hallucination  0.0\n",
       "497  Not Hallucination  0.0\n",
       "498  Not Hallucination  0.0\n",
       "\n",
       "[499 rows x 2 columns]"
      ]
     },
     "execution_count": 7,
     "metadata": {},
     "output_type": "execute_result"
    }
   ],
   "source": [
    "y['val-agnostic']"
   ]
  },
  {
   "cell_type": "markdown",
   "metadata": {},
   "source": [
    "# CatBoost Classifier\n",
    "## Find parameters"
   ]
  },
  {
   "cell_type": "code",
   "execution_count": 8,
   "metadata": {
    "execution": {
     "iopub.execute_input": "2024-04-02T07:49:42.195558Z",
     "iopub.status.busy": "2024-04-02T07:49:42.195325Z",
     "iopub.status.idle": "2024-04-02T07:49:42.202476Z",
     "shell.execute_reply": "2024-04-02T07:49:42.202004Z"
    }
   },
   "outputs": [],
   "source": [
    "def objective(trial):\n",
    "    params = {\n",
    "        'iterations': trial.suggest_int('iterations', 100, 400),\n",
    "        'learning_rate': trial.suggest_loguniform('learning_rate', 0.005, 0.1),\n",
    "        'depth': trial.suggest_int('depth', 6, 12),\n",
    "        'l2_leaf_reg': trial.suggest_loguniform('l2_leaf_reg', 1e-2, 10),\n",
    "        'border_count': trial.suggest_int('border_count', 5, 200),\n",
    "        'verbose': False,\n",
    "        'random_seed': RANDOM_SEED\n",
    "    }\n",
    "\n",
    "    model = cb.CatBoostClassifier(**params)\n",
    "\n",
    "    # Cross validation\n",
    "    sample = 'val'\n",
    "    cv = StratifiedKFold(n_splits=10, shuffle=True, random_state=RANDOM_SEED)\n",
    "    accuracy = cross_val_score(model, X[f'{sample}-{task}'], y[f'{sample}-{task}']['label'], cv=cv, scoring='accuracy').mean()\n",
    "\n",
    "    return accuracy\n",
    "\n",
    "\n",
    "best_params_dict = {}\n",
    "if USE_CATBOOST_CLASSIFIER and AUTO_FIND_HYPERPARAMETERS:\n",
    "    for task in TASKS:\n",
    "        study = optuna.create_study(direction='maximize')\n",
    "        study.optimize(objective, n_trials=100)\n",
    "        best_params_dict[task] = study.best_params\n",
    "\n",
    "elif USE_CATBOOST_CLASSIFIER:\n",
    "    best_params_dict['agnostic'] = {'iterations': 216, 'learning_rate': 0.0102019005543733, 'depth': 12, 'l2_leaf_reg': 0.09976943036124933, 'border_count': 39}\n",
    "    best_params_dict['aware'] = {'iterations': 129, 'learning_rate': 0.005371920324746337, 'depth': 9, 'l2_leaf_reg': 0.6911690977933583, 'border_count': 186}"
   ]
  },
  {
   "cell_type": "code",
   "execution_count": 9,
   "metadata": {
    "execution": {
     "iopub.execute_input": "2024-04-02T07:49:42.204824Z",
     "iopub.status.busy": "2024-04-02T07:49:42.204603Z",
     "iopub.status.idle": "2024-04-02T07:49:42.207649Z",
     "shell.execute_reply": "2024-04-02T07:49:42.207185Z"
    }
   },
   "outputs": [],
   "source": [
    "if USE_CATBOOST_CLASSIFIER:\n",
    "    for task in TASKS:\n",
    "        print(\"Best Params:\", task.ljust(15), best_params_dict[task])"
   ]
  },
  {
   "cell_type": "markdown",
   "metadata": {},
   "source": [
    "## Evaluate on validation sample"
   ]
  },
  {
   "cell_type": "code",
   "execution_count": 10,
   "metadata": {
    "execution": {
     "iopub.execute_input": "2024-04-02T07:49:42.210396Z",
     "iopub.status.busy": "2024-04-02T07:49:42.210077Z",
     "iopub.status.idle": "2024-04-02T07:49:42.215670Z",
     "shell.execute_reply": "2024-04-02T07:49:42.215186Z"
    }
   },
   "outputs": [],
   "source": [
    "if USE_CATBOOST_CLASSIFIER and EVALUATE_ON_VAL:\n",
    "    cv = RepeatedStratifiedKFold(n_splits=10, n_repeats=5, random_state=RANDOM_SEED)\n",
    "    sample = 'val'\n",
    "    mean_accuracy_dict = {}\n",
    "    for task in TASKS:\n",
    "        model = cb.CatBoostClassifier(**best_params_dict[task])\n",
    "        accuracy = []\n",
    "        for i, (train_index, test_index) in enumerate(cv.split(X[f'{sample}-{task}'], y[f'{sample}-{task}']['label'])):\n",
    "            # Train\n",
    "            X_train = X[f'{sample}-{task}'].loc[train_index]\n",
    "            y_train = y[f'{sample}-{task}']['label'].loc[train_index]\n",
    "            model.fit(X_train, y_train)\n",
    "\n",
    "            # Predict\n",
    "            X_test = X[f'{sample}-{task}'].loc[test_index]\n",
    "            y_test = y[f'{sample}-{task}']['label'].loc[test_index]\n",
    "            y_pred = model.predict(X_test)\n",
    "\n",
    "            # Calc metric\n",
    "            accuracy.append(accuracy_score(y_test, y_pred))\n",
    "            \n",
    "        # Calc average metric\n",
    "        mean_accuracy = statistics.fmean(accuracy)\n",
    "        mean_accuracy_dict[task] = mean_accuracy"
   ]
  },
  {
   "cell_type": "code",
   "execution_count": 11,
   "metadata": {
    "execution": {
     "iopub.execute_input": "2024-04-02T07:49:42.218089Z",
     "iopub.status.busy": "2024-04-02T07:49:42.217860Z",
     "iopub.status.idle": "2024-04-02T07:49:42.221184Z",
     "shell.execute_reply": "2024-04-02T07:49:42.220694Z"
    }
   },
   "outputs": [],
   "source": [
    "if USE_CATBOOST_CLASSIFIER and EVALUATE_ON_VAL:\n",
    "    for task in TASKS:\n",
    "        print('Accuracy:', task.ljust(15), mean_accuracy_dict[task])"
   ]
  },
  {
   "cell_type": "markdown",
   "metadata": {},
   "source": [
    "## Train on 100 % of data"
   ]
  },
  {
   "cell_type": "code",
   "execution_count": 12,
   "metadata": {
    "execution": {
     "iopub.execute_input": "2024-04-02T07:49:42.223645Z",
     "iopub.status.busy": "2024-04-02T07:49:42.223419Z",
     "iopub.status.idle": "2024-04-02T07:49:42.226930Z",
     "shell.execute_reply": "2024-04-02T07:49:42.226344Z"
    }
   },
   "outputs": [],
   "source": [
    "if USE_CATBOOST_CLASSIFIER:\n",
    "    sample = 'val'\n",
    "    models = {}\n",
    "    for task in TASKS:\n",
    "        model = cb.CatBoostClassifier(**best_params_dict[task])\n",
    "        model.fit(X[f'{sample}-{task}'], y[f'{sample}-{task}']['label'])\n",
    "        models[task] = model"
   ]
  },
  {
   "cell_type": "markdown",
   "metadata": {},
   "source": [
    "## Predict"
   ]
  },
  {
   "cell_type": "code",
   "execution_count": 13,
   "metadata": {
    "execution": {
     "iopub.execute_input": "2024-04-02T07:49:42.229360Z",
     "iopub.status.busy": "2024-04-02T07:49:42.229132Z",
     "iopub.status.idle": "2024-04-02T07:49:42.232454Z",
     "shell.execute_reply": "2024-04-02T07:49:42.231968Z"
    }
   },
   "outputs": [],
   "source": [
    "if USE_CATBOOST_CLASSIFIER:\n",
    "    sample = 'test'\n",
    "    preds_label = {}\n",
    "    for task in TASKS:\n",
    "        preds_label[task] = models[task].predict(X[f'{sample}-{task}'])\n",
    "        print(f'{sample}-{task} - done!')"
   ]
  },
  {
   "cell_type": "markdown",
   "metadata": {},
   "source": [
    "# CatBoost Regressor\n",
    "## Manual search hyperparameters"
   ]
  },
  {
   "cell_type": "code",
   "execution_count": 14,
   "metadata": {
    "execution": {
     "iopub.execute_input": "2024-04-02T07:49:42.235096Z",
     "iopub.status.busy": "2024-04-02T07:49:42.234627Z",
     "iopub.status.idle": "2024-04-02T07:49:42.239278Z",
     "shell.execute_reply": "2024-04-02T07:49:42.238780Z"
    }
   },
   "outputs": [],
   "source": [
    "if MANUAL_FIND_HYPERPARAMETERS:\n",
    "    task = 'agnostic'\n",
    "\n",
    "    # initialize Pool\n",
    "    train_pool = cb.Pool(\n",
    "        X[f'val-{task}'], \n",
    "        y[f'val-{task}']['p'], \n",
    "        cat_features=['task'],\n",
    "        )\n",
    "    test_pool = cb.Pool(\n",
    "        X[f'test-{task}'], \n",
    "        cat_features=['task'],\n",
    "        )\n",
    "\n",
    "    params = {\n",
    "        'learning_rate': 0.02,\n",
    "        'iterations': 1000,\n",
    "        'depth': 4,\n",
    "        'early_stopping_rounds': 350,\n",
    "        'verbose': False,\n",
    "        'loss_function': 'RMSE',\n",
    "        'task_type': 'GPU',\n",
    "    }\n",
    "\n",
    "    scores = cb.cv(\n",
    "        train_pool,\n",
    "        params,\n",
    "        fold_count=10,\n",
    "        plot=True,\n",
    "    )\n",
    "\n",
    "    display(scores)\n",
    "    scores['test-RMSE-mean'].plot(ylim=[0.21, 0.24], grid=True);"
   ]
  },
  {
   "cell_type": "code",
   "execution_count": 15,
   "metadata": {
    "execution": {
     "iopub.execute_input": "2024-04-02T07:49:42.241656Z",
     "iopub.status.busy": "2024-04-02T07:49:42.241370Z",
     "iopub.status.idle": "2024-04-02T07:49:42.244488Z",
     "shell.execute_reply": "2024-04-02T07:49:42.244000Z"
    }
   },
   "outputs": [],
   "source": [
    "if MANUAL_FIND_HYPERPARAMETERS:\n",
    "    iter = 480\n",
    "    print(scores['test-RMSE-mean'][iter])\n",
    "    print(scores['test-RMSE-std'][iter])"
   ]
  },
  {
   "cell_type": "code",
   "execution_count": 16,
   "metadata": {
    "execution": {
     "iopub.execute_input": "2024-04-02T07:49:42.247074Z",
     "iopub.status.busy": "2024-04-02T07:49:42.246761Z",
     "iopub.status.idle": "2024-04-02T07:49:42.251045Z",
     "shell.execute_reply": "2024-04-02T07:49:42.250473Z"
    }
   },
   "outputs": [],
   "source": [
    "if MANUAL_FIND_HYPERPARAMETERS:\n",
    "    pd.DataFrame({\n",
    "        'lr': [0.07, 0.07, 0.05, 0.05, 0.04, 0.03, 0.03, 0.02, 0.02],\n",
    "        'iter': [140, 200, 190, 190, 190, 440, 240, 480, 600],\n",
    "        'depth': [4, 6, 4, 6, 6, 4, 6, 4, 6],\n",
    "        'RMSE-mean': [0.221920, 0.222109, 0.222369, 0.221364, 0.221469, 0.221713, 0.223381, 0.221618, 0.223620],\n",
    "        'RMSE-std':  [0.024485, 0.026171, 0.023741, 0.025904, 0.023871, 0.025716, 0.024253, 0.025951, 0.024863],\n",
    "    })"
   ]
  },
  {
   "cell_type": "code",
   "execution_count": 17,
   "metadata": {
    "execution": {
     "iopub.execute_input": "2024-04-02T07:49:42.253341Z",
     "iopub.status.busy": "2024-04-02T07:49:42.253119Z",
     "iopub.status.idle": "2024-04-02T07:49:42.256278Z",
     "shell.execute_reply": "2024-04-02T07:49:42.255798Z"
    }
   },
   "outputs": [],
   "source": [
    "if MANUAL_FIND_HYPERPARAMETERS:\n",
    "    model = cb.CatBoostRegressor(**params)\n",
    "    model.fit(\n",
    "        train_pool,\n",
    "        # eval_set=,\n",
    "        plot=True,\n",
    "    )\n",
    "\n",
    "    preds = model.predict(test_pool)\n",
    "    print(preds)"
   ]
  },
  {
   "cell_type": "markdown",
   "metadata": {},
   "source": [
    "## Auto search hyperparameters"
   ]
  },
  {
   "cell_type": "code",
   "execution_count": 18,
   "metadata": {
    "execution": {
     "iopub.execute_input": "2024-04-02T07:49:42.258664Z",
     "iopub.status.busy": "2024-04-02T07:49:42.258414Z",
     "iopub.status.idle": "2024-04-02T08:39:54.513234Z",
     "shell.execute_reply": "2024-04-02T08:39:54.512645Z"
    }
   },
   "outputs": [
    {
     "name": "stderr",
     "output_type": "stream",
     "text": [
      "[I 2024-04-02 07:49:42,262] A new study created in memory with name: no-name-d0043247-272d-481c-ab60-6e287f4580c7\n"
     ]
    },
    {
     "name": "stderr",
     "output_type": "stream",
     "text": [
      "/tmp/ipykernel_637554/1172307581.py:4: FutureWarning: suggest_loguniform has been deprecated in v3.0.0. This feature will be removed in v6.0.0. See https://github.com/optuna/optuna/releases/tag/v3.0.0. Use suggest_float(..., log=True) instead.\n",
      "  'learning_rate': trial.suggest_loguniform('learning_rate', 0.005, 0.5),\n"
     ]
    },
    {
     "name": "stderr",
     "output_type": "stream",
     "text": [
      "[I 2024-04-02 07:50:00,770] Trial 0 finished with value: 0.05264825743571246 and parameters: {'iterations': 386, 'learning_rate': 0.01667442575532042, 'depth': 9}. Best is trial 0 with value: 0.05264825743571246.\n"
     ]
    },
    {
     "name": "stderr",
     "output_type": "stream",
     "text": [
      "/tmp/ipykernel_637554/1172307581.py:4: FutureWarning: suggest_loguniform has been deprecated in v3.0.0. This feature will be removed in v6.0.0. See https://github.com/optuna/optuna/releases/tag/v3.0.0. Use suggest_float(..., log=True) instead.\n",
      "  'learning_rate': trial.suggest_loguniform('learning_rate', 0.005, 0.5),\n"
     ]
    },
    {
     "name": "stderr",
     "output_type": "stream",
     "text": [
      "[I 2024-04-02 07:50:11,731] Trial 1 finished with value: 0.052488499124595744 and parameters: {'iterations': 311, 'learning_rate': 0.016836294833420033, 'depth': 8}. Best is trial 1 with value: 0.052488499124595744.\n"
     ]
    },
    {
     "name": "stderr",
     "output_type": "stream",
     "text": [
      "/tmp/ipykernel_637554/1172307581.py:4: FutureWarning: suggest_loguniform has been deprecated in v3.0.0. This feature will be removed in v6.0.0. See https://github.com/optuna/optuna/releases/tag/v3.0.0. Use suggest_float(..., log=True) instead.\n",
      "  'learning_rate': trial.suggest_loguniform('learning_rate', 0.005, 0.5),\n"
     ]
    },
    {
     "name": "stderr",
     "output_type": "stream",
     "text": [
      "[I 2024-04-02 07:50:14,726] Trial 2 finished with value: 0.05242605060648967 and parameters: {'iterations': 315, 'learning_rate': 0.01299757917816907, 'depth': 5}. Best is trial 2 with value: 0.05242605060648967.\n"
     ]
    },
    {
     "name": "stderr",
     "output_type": "stream",
     "text": [
      "/tmp/ipykernel_637554/1172307581.py:4: FutureWarning: suggest_loguniform has been deprecated in v3.0.0. This feature will be removed in v6.0.0. See https://github.com/optuna/optuna/releases/tag/v3.0.0. Use suggest_float(..., log=True) instead.\n",
      "  'learning_rate': trial.suggest_loguniform('learning_rate', 0.005, 0.5),\n"
     ]
    },
    {
     "name": "stderr",
     "output_type": "stream",
     "text": [
      "[I 2024-04-02 07:50:16,380] Trial 3 finished with value: 0.05151647287879747 and parameters: {'iterations': 108, 'learning_rate': 0.07234440674495919, 'depth': 6}. Best is trial 3 with value: 0.05151647287879747.\n"
     ]
    },
    {
     "name": "stderr",
     "output_type": "stream",
     "text": [
      "/tmp/ipykernel_637554/1172307581.py:4: FutureWarning: suggest_loguniform has been deprecated in v3.0.0. This feature will be removed in v6.0.0. See https://github.com/optuna/optuna/releases/tag/v3.0.0. Use suggest_float(..., log=True) instead.\n",
      "  'learning_rate': trial.suggest_loguniform('learning_rate', 0.005, 0.5),\n"
     ]
    },
    {
     "name": "stderr",
     "output_type": "stream",
     "text": [
      "[I 2024-04-02 07:53:15,673] Trial 4 finished with value: 0.053844414434492616 and parameters: {'iterations': 282, 'learning_rate': 0.04095616690746439, 'depth': 13}. Best is trial 3 with value: 0.05151647287879747.\n"
     ]
    },
    {
     "name": "stderr",
     "output_type": "stream",
     "text": [
      "/tmp/ipykernel_637554/1172307581.py:4: FutureWarning: suggest_loguniform has been deprecated in v3.0.0. This feature will be removed in v6.0.0. See https://github.com/optuna/optuna/releases/tag/v3.0.0. Use suggest_float(..., log=True) instead.\n",
      "  'learning_rate': trial.suggest_loguniform('learning_rate', 0.005, 0.5),\n"
     ]
    },
    {
     "name": "stderr",
     "output_type": "stream",
     "text": [
      "[I 2024-04-02 07:55:08,924] Trial 5 finished with value: 0.054549186008717235 and parameters: {'iterations': 386, 'learning_rate': 0.00733246752219187, 'depth': 12}. Best is trial 3 with value: 0.05151647287879747.\n"
     ]
    },
    {
     "name": "stderr",
     "output_type": "stream",
     "text": [
      "/tmp/ipykernel_637554/1172307581.py:4: FutureWarning: suggest_loguniform has been deprecated in v3.0.0. This feature will be removed in v6.0.0. See https://github.com/optuna/optuna/releases/tag/v3.0.0. Use suggest_float(..., log=True) instead.\n",
      "  'learning_rate': trial.suggest_loguniform('learning_rate', 0.005, 0.5),\n"
     ]
    },
    {
     "name": "stderr",
     "output_type": "stream",
     "text": [
      "[I 2024-04-02 07:55:18,893] Trial 6 finished with value: 0.055559461186669254 and parameters: {'iterations': 323, 'learning_rate': 0.12157666851664459, 'depth': 8}. Best is trial 3 with value: 0.05151647287879747.\n"
     ]
    },
    {
     "name": "stderr",
     "output_type": "stream",
     "text": [
      "/tmp/ipykernel_637554/1172307581.py:4: FutureWarning: suggest_loguniform has been deprecated in v3.0.0. This feature will be removed in v6.0.0. See https://github.com/optuna/optuna/releases/tag/v3.0.0. Use suggest_float(..., log=True) instead.\n",
      "  'learning_rate': trial.suggest_loguniform('learning_rate', 0.005, 0.5),\n"
     ]
    },
    {
     "name": "stderr",
     "output_type": "stream",
     "text": [
      "[I 2024-04-02 07:55:27,856] Trial 7 finished with value: 0.052731471160079216 and parameters: {'iterations': 178, 'learning_rate': 0.06309072258745413, 'depth': 9}. Best is trial 3 with value: 0.05151647287879747.\n"
     ]
    },
    {
     "name": "stderr",
     "output_type": "stream",
     "text": [
      "/tmp/ipykernel_637554/1172307581.py:4: FutureWarning: suggest_loguniform has been deprecated in v3.0.0. This feature will be removed in v6.0.0. See https://github.com/optuna/optuna/releases/tag/v3.0.0. Use suggest_float(..., log=True) instead.\n",
      "  'learning_rate': trial.suggest_loguniform('learning_rate', 0.005, 0.5),\n"
     ]
    },
    {
     "name": "stderr",
     "output_type": "stream",
     "text": [
      "[I 2024-04-02 07:55:48,384] Trial 8 finished with value: 0.052393895897733245 and parameters: {'iterations': 386, 'learning_rate': 0.0319509573900684, 'depth': 9}. Best is trial 3 with value: 0.05151647287879747.\n"
     ]
    },
    {
     "name": "stderr",
     "output_type": "stream",
     "text": [
      "/tmp/ipykernel_637554/1172307581.py:4: FutureWarning: suggest_loguniform has been deprecated in v3.0.0. This feature will be removed in v6.0.0. See https://github.com/optuna/optuna/releases/tag/v3.0.0. Use suggest_float(..., log=True) instead.\n",
      "  'learning_rate': trial.suggest_loguniform('learning_rate', 0.005, 0.5),\n"
     ]
    },
    {
     "name": "stderr",
     "output_type": "stream",
     "text": [
      "[I 2024-04-02 07:55:58,695] Trial 9 finished with value: 0.05486283738943446 and parameters: {'iterations': 350, 'learning_rate': 0.19357698056115788, 'depth': 8}. Best is trial 3 with value: 0.05151647287879747.\n"
     ]
    },
    {
     "name": "stderr",
     "output_type": "stream",
     "text": [
      "/tmp/ipykernel_637554/1172307581.py:4: FutureWarning: suggest_loguniform has been deprecated in v3.0.0. This feature will be removed in v6.0.0. See https://github.com/optuna/optuna/releases/tag/v3.0.0. Use suggest_float(..., log=True) instead.\n",
      "  'learning_rate': trial.suggest_loguniform('learning_rate', 0.005, 0.5),\n"
     ]
    },
    {
     "name": "stderr",
     "output_type": "stream",
     "text": [
      "[I 2024-04-02 07:55:59,494] Trial 10 finished with value: 0.05461150472828145 and parameters: {'iterations': 53, 'learning_rate': 0.2772283039129013, 'depth': 4}. Best is trial 3 with value: 0.05151647287879747.\n"
     ]
    },
    {
     "name": "stderr",
     "output_type": "stream",
     "text": [
      "/tmp/ipykernel_637554/1172307581.py:4: FutureWarning: suggest_loguniform has been deprecated in v3.0.0. This feature will be removed in v6.0.0. See https://github.com/optuna/optuna/releases/tag/v3.0.0. Use suggest_float(..., log=True) instead.\n",
      "  'learning_rate': trial.suggest_loguniform('learning_rate', 0.005, 0.5),\n"
     ]
    },
    {
     "name": "stderr",
     "output_type": "stream",
     "text": [
      "[I 2024-04-02 07:56:25,885] Trial 11 finished with value: 0.053836970182262564 and parameters: {'iterations': 155, 'learning_rate': 0.0485103148364968, 'depth': 11}. Best is trial 3 with value: 0.05151647287879747.\n"
     ]
    },
    {
     "name": "stderr",
     "output_type": "stream",
     "text": [
      "/tmp/ipykernel_637554/1172307581.py:4: FutureWarning: suggest_loguniform has been deprecated in v3.0.0. This feature will be removed in v6.0.0. See https://github.com/optuna/optuna/releases/tag/v3.0.0. Use suggest_float(..., log=True) instead.\n",
      "  'learning_rate': trial.suggest_loguniform('learning_rate', 0.005, 0.5),\n"
     ]
    },
    {
     "name": "stderr",
     "output_type": "stream",
     "text": [
      "[I 2024-04-02 07:56:27,601] Trial 12 finished with value: 0.05218672350925544 and parameters: {'iterations': 59, 'learning_rate': 0.09290807316449608, 'depth': 6}. Best is trial 3 with value: 0.05151647287879747.\n"
     ]
    },
    {
     "name": "stderr",
     "output_type": "stream",
     "text": [
      "/tmp/ipykernel_637554/1172307581.py:4: FutureWarning: suggest_loguniform has been deprecated in v3.0.0. This feature will be removed in v6.0.0. See https://github.com/optuna/optuna/releases/tag/v3.0.0. Use suggest_float(..., log=True) instead.\n",
      "  'learning_rate': trial.suggest_loguniform('learning_rate', 0.005, 0.5),\n"
     ]
    },
    {
     "name": "stderr",
     "output_type": "stream",
     "text": [
      "[I 2024-04-02 07:56:28,902] Trial 13 finished with value: 0.05972451915519603 and parameters: {'iterations': 68, 'learning_rate': 0.47355568674799076, 'depth': 6}. Best is trial 3 with value: 0.05151647287879747.\n"
     ]
    },
    {
     "name": "stderr",
     "output_type": "stream",
     "text": [
      "/tmp/ipykernel_637554/1172307581.py:4: FutureWarning: suggest_loguniform has been deprecated in v3.0.0. This feature will be removed in v6.0.0. See https://github.com/optuna/optuna/releases/tag/v3.0.0. Use suggest_float(..., log=True) instead.\n",
      "  'learning_rate': trial.suggest_loguniform('learning_rate', 0.005, 0.5),\n"
     ]
    },
    {
     "name": "stderr",
     "output_type": "stream",
     "text": [
      "[I 2024-04-02 07:56:30,682] Trial 14 finished with value: 0.053277890263932724 and parameters: {'iterations': 109, 'learning_rate': 0.10649164708114692, 'depth': 6}. Best is trial 3 with value: 0.05151647287879747.\n"
     ]
    },
    {
     "name": "stderr",
     "output_type": "stream",
     "text": [
      "/tmp/ipykernel_637554/1172307581.py:4: FutureWarning: suggest_loguniform has been deprecated in v3.0.0. This feature will be removed in v6.0.0. See https://github.com/optuna/optuna/releases/tag/v3.0.0. Use suggest_float(..., log=True) instead.\n",
      "  'learning_rate': trial.suggest_loguniform('learning_rate', 0.005, 0.5),\n"
     ]
    },
    {
     "name": "stderr",
     "output_type": "stream",
     "text": [
      "[I 2024-04-02 07:56:31,884] Trial 15 finished with value: 0.05159916853080663 and parameters: {'iterations': 114, 'learning_rate': 0.0892020572841322, 'depth': 4}. Best is trial 3 with value: 0.05151647287879747.\n"
     ]
    },
    {
     "name": "stderr",
     "output_type": "stream",
     "text": [
      "/tmp/ipykernel_637554/1172307581.py:4: FutureWarning: suggest_loguniform has been deprecated in v3.0.0. This feature will be removed in v6.0.0. See https://github.com/optuna/optuna/releases/tag/v3.0.0. Use suggest_float(..., log=True) instead.\n",
      "  'learning_rate': trial.suggest_loguniform('learning_rate', 0.005, 0.5),\n"
     ]
    },
    {
     "name": "stderr",
     "output_type": "stream",
     "text": [
      "[I 2024-04-02 07:56:33,765] Trial 16 finished with value: 0.0559541198907032 and parameters: {'iterations': 223, 'learning_rate': 0.18775625719402006, 'depth': 4}. Best is trial 3 with value: 0.05151647287879747.\n"
     ]
    },
    {
     "name": "stderr",
     "output_type": "stream",
     "text": [
      "/tmp/ipykernel_637554/1172307581.py:4: FutureWarning: suggest_loguniform has been deprecated in v3.0.0. This feature will be removed in v6.0.0. See https://github.com/optuna/optuna/releases/tag/v3.0.0. Use suggest_float(..., log=True) instead.\n",
      "  'learning_rate': trial.suggest_loguniform('learning_rate', 0.005, 0.5),\n"
     ]
    },
    {
     "name": "stderr",
     "output_type": "stream",
     "text": [
      "[I 2024-04-02 07:56:35,277] Trial 17 finished with value: 0.05224411650500823 and parameters: {'iterations': 123, 'learning_rate': 0.07737969120115025, 'depth': 5}. Best is trial 3 with value: 0.05151647287879747.\n"
     ]
    },
    {
     "name": "stderr",
     "output_type": "stream",
     "text": [
      "/tmp/ipykernel_637554/1172307581.py:4: FutureWarning: suggest_loguniform has been deprecated in v3.0.0. This feature will be removed in v6.0.0. See https://github.com/optuna/optuna/releases/tag/v3.0.0. Use suggest_float(..., log=True) instead.\n",
      "  'learning_rate': trial.suggest_loguniform('learning_rate', 0.005, 0.5),\n"
     ]
    },
    {
     "name": "stderr",
     "output_type": "stream",
     "text": [
      "[I 2024-04-02 07:56:39,637] Trial 18 finished with value: 0.052341306958212444 and parameters: {'iterations': 229, 'learning_rate': 0.024646158334153685, 'depth': 7}. Best is trial 3 with value: 0.05151647287879747.\n"
     ]
    },
    {
     "name": "stderr",
     "output_type": "stream",
     "text": [
      "/tmp/ipykernel_637554/1172307581.py:4: FutureWarning: suggest_loguniform has been deprecated in v3.0.0. This feature will be removed in v6.0.0. See https://github.com/optuna/optuna/releases/tag/v3.0.0. Use suggest_float(..., log=True) instead.\n",
      "  'learning_rate': trial.suggest_loguniform('learning_rate', 0.005, 0.5),\n"
     ]
    },
    {
     "name": "stderr",
     "output_type": "stream",
     "text": [
      "[I 2024-04-02 07:56:40,869] Trial 19 finished with value: 0.05364841660815835 and parameters: {'iterations': 113, 'learning_rate': 0.1422573028232725, 'depth': 4}. Best is trial 3 with value: 0.05151647287879747.\n"
     ]
    },
    {
     "name": "stderr",
     "output_type": "stream",
     "text": [
      "/tmp/ipykernel_637554/1172307581.py:4: FutureWarning: suggest_loguniform has been deprecated in v3.0.0. This feature will be removed in v6.0.0. See https://github.com/optuna/optuna/releases/tag/v3.0.0. Use suggest_float(..., log=True) instead.\n",
      "  'learning_rate': trial.suggest_loguniform('learning_rate', 0.005, 0.5),\n"
     ]
    },
    {
     "name": "stderr",
     "output_type": "stream",
     "text": [
      "[I 2024-04-02 07:56:42,941] Trial 20 finished with value: 0.05841031836783654 and parameters: {'iterations': 194, 'learning_rate': 0.32819191414252075, 'depth': 5}. Best is trial 3 with value: 0.05151647287879747.\n"
     ]
    },
    {
     "name": "stderr",
     "output_type": "stream",
     "text": [
      "/tmp/ipykernel_637554/1172307581.py:4: FutureWarning: suggest_loguniform has been deprecated in v3.0.0. This feature will be removed in v6.0.0. See https://github.com/optuna/optuna/releases/tag/v3.0.0. Use suggest_float(..., log=True) instead.\n",
      "  'learning_rate': trial.suggest_loguniform('learning_rate', 0.005, 0.5),\n"
     ]
    },
    {
     "name": "stderr",
     "output_type": "stream",
     "text": [
      "[I 2024-04-02 07:56:44,434] Trial 21 finished with value: 0.053116617610918807 and parameters: {'iterations': 89, 'learning_rate': 0.08851945779299966, 'depth': 6}. Best is trial 3 with value: 0.05151647287879747.\n"
     ]
    },
    {
     "name": "stderr",
     "output_type": "stream",
     "text": [
      "/tmp/ipykernel_637554/1172307581.py:4: FutureWarning: suggest_loguniform has been deprecated in v3.0.0. This feature will be removed in v6.0.0. See https://github.com/optuna/optuna/releases/tag/v3.0.0. Use suggest_float(..., log=True) instead.\n",
      "  'learning_rate': trial.suggest_loguniform('learning_rate', 0.005, 0.5),\n"
     ]
    },
    {
     "name": "stderr",
     "output_type": "stream",
     "text": [
      "[I 2024-04-02 07:56:48,734] Trial 22 finished with value: 0.05250571087441815 and parameters: {'iterations': 145, 'learning_rate': 0.06394751683798876, 'depth': 7}. Best is trial 3 with value: 0.05151647287879747.\n"
     ]
    },
    {
     "name": "stderr",
     "output_type": "stream",
     "text": [
      "/tmp/ipykernel_637554/1172307581.py:4: FutureWarning: suggest_loguniform has been deprecated in v3.0.0. This feature will be removed in v6.0.0. See https://github.com/optuna/optuna/releases/tag/v3.0.0. Use suggest_float(..., log=True) instead.\n",
      "  'learning_rate': trial.suggest_loguniform('learning_rate', 0.005, 0.5),\n"
     ]
    },
    {
     "name": "stderr",
     "output_type": "stream",
     "text": [
      "[I 2024-04-02 07:56:49,937] Trial 23 finished with value: 0.05247252927790409 and parameters: {'iterations': 84, 'learning_rate': 0.16421106490635262, 'depth': 5}. Best is trial 3 with value: 0.05151647287879747.\n"
     ]
    },
    {
     "name": "stderr",
     "output_type": "stream",
     "text": [
      "/tmp/ipykernel_637554/1172307581.py:4: FutureWarning: suggest_loguniform has been deprecated in v3.0.0. This feature will be removed in v6.0.0. See https://github.com/optuna/optuna/releases/tag/v3.0.0. Use suggest_float(..., log=True) instead.\n",
      "  'learning_rate': trial.suggest_loguniform('learning_rate', 0.005, 0.5),\n"
     ]
    },
    {
     "name": "stderr",
     "output_type": "stream",
     "text": [
      "[I 2024-04-02 07:56:51,352] Trial 24 finished with value: 0.05184720221674692 and parameters: {'iterations': 52, 'learning_rate': 0.09191035413541408, 'depth': 7}. Best is trial 3 with value: 0.05151647287879747.\n"
     ]
    },
    {
     "name": "stderr",
     "output_type": "stream",
     "text": [
      "/tmp/ipykernel_637554/1172307581.py:4: FutureWarning: suggest_loguniform has been deprecated in v3.0.0. This feature will be removed in v6.0.0. See https://github.com/optuna/optuna/releases/tag/v3.0.0. Use suggest_float(..., log=True) instead.\n",
      "  'learning_rate': trial.suggest_loguniform('learning_rate', 0.005, 0.5),\n"
     ]
    },
    {
     "name": "stderr",
     "output_type": "stream",
     "text": [
      "[I 2024-04-02 07:56:54,301] Trial 25 finished with value: 0.05240166630247902 and parameters: {'iterations': 140, 'learning_rate': 0.03397745933024397, 'depth': 7}. Best is trial 3 with value: 0.05151647287879747.\n"
     ]
    },
    {
     "name": "stderr",
     "output_type": "stream",
     "text": [
      "/tmp/ipykernel_637554/1172307581.py:4: FutureWarning: suggest_loguniform has been deprecated in v3.0.0. This feature will be removed in v6.0.0. See https://github.com/optuna/optuna/releases/tag/v3.0.0. Use suggest_float(..., log=True) instead.\n",
      "  'learning_rate': trial.suggest_loguniform('learning_rate', 0.005, 0.5),\n"
     ]
    },
    {
     "name": "stderr",
     "output_type": "stream",
     "text": [
      "[I 2024-04-02 07:57:02,654] Trial 26 finished with value: 0.053258567177205327 and parameters: {'iterations': 91, 'learning_rate': 0.061127096838606974, 'depth': 10}. Best is trial 3 with value: 0.05151647287879747.\n"
     ]
    },
    {
     "name": "stderr",
     "output_type": "stream",
     "text": [
      "/tmp/ipykernel_637554/1172307581.py:4: FutureWarning: suggest_loguniform has been deprecated in v3.0.0. This feature will be removed in v6.0.0. See https://github.com/optuna/optuna/releases/tag/v3.0.0. Use suggest_float(..., log=True) instead.\n",
      "  'learning_rate': trial.suggest_loguniform('learning_rate', 0.005, 0.5),\n"
     ]
    },
    {
     "name": "stderr",
     "output_type": "stream",
     "text": [
      "[I 2024-04-02 07:57:06,174] Trial 27 finished with value: 0.05393590020520557 and parameters: {'iterations': 173, 'learning_rate': 0.2730898803586015, 'depth': 7}. Best is trial 3 with value: 0.05151647287879747.\n"
     ]
    },
    {
     "name": "stderr",
     "output_type": "stream",
     "text": [
      "/tmp/ipykernel_637554/1172307581.py:4: FutureWarning: suggest_loguniform has been deprecated in v3.0.0. This feature will be removed in v6.0.0. See https://github.com/optuna/optuna/releases/tag/v3.0.0. Use suggest_float(..., log=True) instead.\n",
      "  'learning_rate': trial.suggest_loguniform('learning_rate', 0.005, 0.5),\n"
     ]
    },
    {
     "name": "stderr",
     "output_type": "stream",
     "text": [
      "[I 2024-04-02 07:57:08,268] Trial 28 finished with value: 0.05485419027164166 and parameters: {'iterations': 256, 'learning_rate': 0.12340967036355631, 'depth': 4}. Best is trial 3 with value: 0.05151647287879747.\n"
     ]
    },
    {
     "name": "stderr",
     "output_type": "stream",
     "text": [
      "/tmp/ipykernel_637554/1172307581.py:4: FutureWarning: suggest_loguniform has been deprecated in v3.0.0. This feature will be removed in v6.0.0. See https://github.com/optuna/optuna/releases/tag/v3.0.0. Use suggest_float(..., log=True) instead.\n",
      "  'learning_rate': trial.suggest_loguniform('learning_rate', 0.005, 0.5),\n"
     ]
    },
    {
     "name": "stderr",
     "output_type": "stream",
     "text": [
      "[I 2024-04-02 07:57:12,852] Trial 29 finished with value: 0.05551257503654448 and parameters: {'iterations': 50, 'learning_rate': 0.04674417367283048, 'depth': 10}. Best is trial 3 with value: 0.05151647287879747.\n"
     ]
    },
    {
     "name": "stderr",
     "output_type": "stream",
     "text": [
      "/tmp/ipykernel_637554/1172307581.py:4: FutureWarning: suggest_loguniform has been deprecated in v3.0.0. This feature will be removed in v6.0.0. See https://github.com/optuna/optuna/releases/tag/v3.0.0. Use suggest_float(..., log=True) instead.\n",
      "  'learning_rate': trial.suggest_loguniform('learning_rate', 0.005, 0.5),\n"
     ]
    },
    {
     "name": "stderr",
     "output_type": "stream",
     "text": [
      "[I 2024-04-02 08:00:51,964] Trial 30 finished with value: 0.055066809720657625 and parameters: {'iterations': 122, 'learning_rate': 0.02693658096434081, 'depth': 14}. Best is trial 3 with value: 0.05151647287879747.\n"
     ]
    },
    {
     "name": "stderr",
     "output_type": "stream",
     "text": [
      "/tmp/ipykernel_637554/1172307581.py:4: FutureWarning: suggest_loguniform has been deprecated in v3.0.0. This feature will be removed in v6.0.0. See https://github.com/optuna/optuna/releases/tag/v3.0.0. Use suggest_float(..., log=True) instead.\n",
      "  'learning_rate': trial.suggest_loguniform('learning_rate', 0.005, 0.5),\n"
     ]
    },
    {
     "name": "stderr",
     "output_type": "stream",
     "text": [
      "[I 2024-04-02 08:00:53,458] Trial 31 finished with value: 0.05284906759439244 and parameters: {'iterations': 76, 'learning_rate': 0.09434491760598619, 'depth': 6}. Best is trial 3 with value: 0.05151647287879747.\n"
     ]
    },
    {
     "name": "stderr",
     "output_type": "stream",
     "text": [
      "/tmp/ipykernel_637554/1172307581.py:4: FutureWarning: suggest_loguniform has been deprecated in v3.0.0. This feature will be removed in v6.0.0. See https://github.com/optuna/optuna/releases/tag/v3.0.0. Use suggest_float(..., log=True) instead.\n",
      "  'learning_rate': trial.suggest_loguniform('learning_rate', 0.005, 0.5),\n"
     ]
    },
    {
     "name": "stderr",
     "output_type": "stream",
     "text": [
      "[I 2024-04-02 08:00:55,158] Trial 32 finished with value: 0.05292222451631305 and parameters: {'iterations': 100, 'learning_rate': 0.07650949489347508, 'depth': 6}. Best is trial 3 with value: 0.05151647287879747.\n"
     ]
    },
    {
     "name": "stderr",
     "output_type": "stream",
     "text": [
      "/tmp/ipykernel_637554/1172307581.py:4: FutureWarning: suggest_loguniform has been deprecated in v3.0.0. This feature will be removed in v6.0.0. See https://github.com/optuna/optuna/releases/tag/v3.0.0. Use suggest_float(..., log=True) instead.\n",
      "  'learning_rate': trial.suggest_loguniform('learning_rate', 0.005, 0.5),\n"
     ]
    },
    {
     "name": "stderr",
     "output_type": "stream",
     "text": [
      "[I 2024-04-02 08:00:57,579] Trial 33 finished with value: 0.05307126591323476 and parameters: {'iterations': 66, 'learning_rate': 0.10152590034610838, 'depth': 8}. Best is trial 3 with value: 0.05151647287879747.\n"
     ]
    },
    {
     "name": "stderr",
     "output_type": "stream",
     "text": [
      "/tmp/ipykernel_637554/1172307581.py:4: FutureWarning: suggest_loguniform has been deprecated in v3.0.0. This feature will be removed in v6.0.0. See https://github.com/optuna/optuna/releases/tag/v3.0.0. Use suggest_float(..., log=True) instead.\n",
      "  'learning_rate': trial.suggest_loguniform('learning_rate', 0.005, 0.5),\n"
     ]
    },
    {
     "name": "stderr",
     "output_type": "stream",
     "text": [
      "[I 2024-04-02 08:00:59,297] Trial 34 finished with value: 0.05480017520627985 and parameters: {'iterations': 128, 'learning_rate': 0.017512013305061483, 'depth': 5}. Best is trial 3 with value: 0.05151647287879747.\n"
     ]
    },
    {
     "name": "stderr",
     "output_type": "stream",
     "text": [
      "/tmp/ipykernel_637554/1172307581.py:4: FutureWarning: suggest_loguniform has been deprecated in v3.0.0. This feature will be removed in v6.0.0. See https://github.com/optuna/optuna/releases/tag/v3.0.0. Use suggest_float(..., log=True) instead.\n",
      "  'learning_rate': trial.suggest_loguniform('learning_rate', 0.005, 0.5),\n"
     ]
    },
    {
     "name": "stderr",
     "output_type": "stream",
     "text": [
      "[I 2024-04-02 08:01:01,055] Trial 35 finished with value: 0.052657459617295566 and parameters: {'iterations': 70, 'learning_rate': 0.05939436770883119, 'depth': 7}. Best is trial 3 with value: 0.05151647287879747.\n"
     ]
    },
    {
     "name": "stderr",
     "output_type": "stream",
     "text": [
      "/tmp/ipykernel_637554/1172307581.py:4: FutureWarning: suggest_loguniform has been deprecated in v3.0.0. This feature will be removed in v6.0.0. See https://github.com/optuna/optuna/releases/tag/v3.0.0. Use suggest_float(..., log=True) instead.\n",
      "  'learning_rate': trial.suggest_loguniform('learning_rate', 0.005, 0.5),\n"
     ]
    },
    {
     "name": "stderr",
     "output_type": "stream",
     "text": [
      "[I 2024-04-02 08:01:02,473] Trial 36 finished with value: 0.05256785746033397 and parameters: {'iterations': 99, 'learning_rate': 0.038270259161033854, 'depth': 5}. Best is trial 3 with value: 0.05151647287879747.\n"
     ]
    },
    {
     "name": "stderr",
     "output_type": "stream",
     "text": [
      "/tmp/ipykernel_637554/1172307581.py:4: FutureWarning: suggest_loguniform has been deprecated in v3.0.0. This feature will be removed in v6.0.0. See https://github.com/optuna/optuna/releases/tag/v3.0.0. Use suggest_float(..., log=True) instead.\n",
      "  'learning_rate': trial.suggest_loguniform('learning_rate', 0.005, 0.5),\n"
     ]
    },
    {
     "name": "stderr",
     "output_type": "stream",
     "text": [
      "[I 2024-04-02 08:01:04,382] Trial 37 finished with value: 0.09374731937093064 and parameters: {'iterations': 50, 'learning_rate': 0.006671075156341878, 'depth': 8}. Best is trial 3 with value: 0.05151647287879747.\n"
     ]
    },
    {
     "name": "stderr",
     "output_type": "stream",
     "text": [
      "/tmp/ipykernel_637554/1172307581.py:4: FutureWarning: suggest_loguniform has been deprecated in v3.0.0. This feature will be removed in v6.0.0. See https://github.com/optuna/optuna/releases/tag/v3.0.0. Use suggest_float(..., log=True) instead.\n",
      "  'learning_rate': trial.suggest_loguniform('learning_rate', 0.005, 0.5),\n"
     ]
    },
    {
     "name": "stderr",
     "output_type": "stream",
     "text": [
      "[I 2024-04-02 08:01:06,773] Trial 38 finished with value: 0.053616020801284955 and parameters: {'iterations': 154, 'learning_rate': 0.14381856450279415, 'depth': 6}. Best is trial 3 with value: 0.05151647287879747.\n"
     ]
    },
    {
     "name": "stderr",
     "output_type": "stream",
     "text": [
      "/tmp/ipykernel_637554/1172307581.py:4: FutureWarning: suggest_loguniform has been deprecated in v3.0.0. This feature will be removed in v6.0.0. See https://github.com/optuna/optuna/releases/tag/v3.0.0. Use suggest_float(..., log=True) instead.\n",
      "  'learning_rate': trial.suggest_loguniform('learning_rate', 0.005, 0.5),\n"
     ]
    },
    {
     "name": "stderr",
     "output_type": "stream",
     "text": [
      "[I 2024-04-02 08:01:09,100] Trial 39 finished with value: 0.05782247112399106 and parameters: {'iterations': 204, 'learning_rate': 0.22973910903712733, 'depth': 5}. Best is trial 3 with value: 0.05151647287879747.\n"
     ]
    },
    {
     "name": "stderr",
     "output_type": "stream",
     "text": [
      "/tmp/ipykernel_637554/1172307581.py:4: FutureWarning: suggest_loguniform has been deprecated in v3.0.0. This feature will be removed in v6.0.0. See https://github.com/optuna/optuna/releases/tag/v3.0.0. Use suggest_float(..., log=True) instead.\n",
      "  'learning_rate': trial.suggest_loguniform('learning_rate', 0.005, 0.5),\n"
     ]
    },
    {
     "name": "stderr",
     "output_type": "stream",
     "text": [
      "[I 2024-04-02 08:01:13,852] Trial 40 finished with value: 0.05692430290266535 and parameters: {'iterations': 165, 'learning_rate': 0.011149149310659006, 'depth': 4}. Best is trial 3 with value: 0.05151647287879747.\n"
     ]
    },
    {
     "name": "stderr",
     "output_type": "stream",
     "text": [
      "/tmp/ipykernel_637554/1172307581.py:4: FutureWarning: suggest_loguniform has been deprecated in v3.0.0. This feature will be removed in v6.0.0. See https://github.com/optuna/optuna/releases/tag/v3.0.0. Use suggest_float(..., log=True) instead.\n",
      "  'learning_rate': trial.suggest_loguniform('learning_rate', 0.005, 0.5),\n"
     ]
    },
    {
     "name": "stderr",
     "output_type": "stream",
     "text": [
      "[I 2024-04-02 08:01:15,573] Trial 41 finished with value: 0.052527715855049506 and parameters: {'iterations': 121, 'learning_rate': 0.07685805354256277, 'depth': 5}. Best is trial 3 with value: 0.05151647287879747.\n"
     ]
    },
    {
     "name": "stderr",
     "output_type": "stream",
     "text": [
      "/tmp/ipykernel_637554/1172307581.py:4: FutureWarning: suggest_loguniform has been deprecated in v3.0.0. This feature will be removed in v6.0.0. See https://github.com/optuna/optuna/releases/tag/v3.0.0. Use suggest_float(..., log=True) instead.\n",
      "  'learning_rate': trial.suggest_loguniform('learning_rate', 0.005, 0.5),\n"
     ]
    },
    {
     "name": "stderr",
     "output_type": "stream",
     "text": [
      "[I 2024-04-02 08:01:17,362] Trial 42 finished with value: 0.05224161087562744 and parameters: {'iterations': 133, 'learning_rate': 0.07881221665967976, 'depth': 5}. Best is trial 3 with value: 0.05151647287879747.\n"
     ]
    },
    {
     "name": "stderr",
     "output_type": "stream",
     "text": [
      "/tmp/ipykernel_637554/1172307581.py:4: FutureWarning: suggest_loguniform has been deprecated in v3.0.0. This feature will be removed in v6.0.0. See https://github.com/optuna/optuna/releases/tag/v3.0.0. Use suggest_float(..., log=True) instead.\n",
      "  'learning_rate': trial.suggest_loguniform('learning_rate', 0.005, 0.5),\n"
     ]
    },
    {
     "name": "stderr",
     "output_type": "stream",
     "text": [
      "[I 2024-04-02 08:01:18,865] Trial 43 finished with value: 0.05320091605392267 and parameters: {'iterations': 80, 'learning_rate': 0.12768312721685976, 'depth': 6}. Best is trial 3 with value: 0.05151647287879747.\n"
     ]
    },
    {
     "name": "stderr",
     "output_type": "stream",
     "text": [
      "/tmp/ipykernel_637554/1172307581.py:4: FutureWarning: suggest_loguniform has been deprecated in v3.0.0. This feature will be removed in v6.0.0. See https://github.com/optuna/optuna/releases/tag/v3.0.0. Use suggest_float(..., log=True) instead.\n",
      "  'learning_rate': trial.suggest_loguniform('learning_rate', 0.005, 0.5),\n"
     ]
    },
    {
     "name": "stderr",
     "output_type": "stream",
     "text": [
      "[I 2024-04-02 08:01:22,192] Trial 44 finished with value: 0.053034190098534426 and parameters: {'iterations': 101, 'learning_rate': 0.05320959806437986, 'depth': 8}. Best is trial 3 with value: 0.05151647287879747.\n"
     ]
    },
    {
     "name": "stderr",
     "output_type": "stream",
     "text": [
      "/tmp/ipykernel_637554/1172307581.py:4: FutureWarning: suggest_loguniform has been deprecated in v3.0.0. This feature will be removed in v6.0.0. See https://github.com/optuna/optuna/releases/tag/v3.0.0. Use suggest_float(..., log=True) instead.\n",
      "  'learning_rate': trial.suggest_loguniform('learning_rate', 0.005, 0.5),\n"
     ]
    },
    {
     "name": "stderr",
     "output_type": "stream",
     "text": [
      "[I 2024-04-02 08:01:23,096] Trial 45 finished with value: 0.05248330459460928 and parameters: {'iterations': 60, 'learning_rate': 0.10644239238903036, 'depth': 4}. Best is trial 3 with value: 0.05151647287879747.\n"
     ]
    },
    {
     "name": "stderr",
     "output_type": "stream",
     "text": [
      "/tmp/ipykernel_637554/1172307581.py:4: FutureWarning: suggest_loguniform has been deprecated in v3.0.0. This feature will be removed in v6.0.0. See https://github.com/optuna/optuna/releases/tag/v3.0.0. Use suggest_float(..., log=True) instead.\n",
      "  'learning_rate': trial.suggest_loguniform('learning_rate', 0.005, 0.5),\n"
     ]
    },
    {
     "name": "stderr",
     "output_type": "stream",
     "text": [
      "[I 2024-04-02 08:01:25,953] Trial 46 finished with value: 0.05296053934933803 and parameters: {'iterations': 135, 'learning_rate': 0.07633316873101371, 'depth': 7}. Best is trial 3 with value: 0.05151647287879747.\n"
     ]
    },
    {
     "name": "stderr",
     "output_type": "stream",
     "text": [
      "/tmp/ipykernel_637554/1172307581.py:4: FutureWarning: suggest_loguniform has been deprecated in v3.0.0. This feature will be removed in v6.0.0. See https://github.com/optuna/optuna/releases/tag/v3.0.0. Use suggest_float(..., log=True) instead.\n",
      "  'learning_rate': trial.suggest_loguniform('learning_rate', 0.005, 0.5),\n"
     ]
    },
    {
     "name": "stderr",
     "output_type": "stream",
     "text": [
      "[I 2024-04-02 08:01:27,160] Trial 47 finished with value: 0.0810254833428754 and parameters: {'iterations': 109, 'learning_rate': 0.0050663143215037496, 'depth': 4}. Best is trial 3 with value: 0.05151647287879747.\n"
     ]
    },
    {
     "name": "stderr",
     "output_type": "stream",
     "text": [
      "/tmp/ipykernel_637554/1172307581.py:4: FutureWarning: suggest_loguniform has been deprecated in v3.0.0. This feature will be removed in v6.0.0. See https://github.com/optuna/optuna/releases/tag/v3.0.0. Use suggest_float(..., log=True) instead.\n",
      "  'learning_rate': trial.suggest_loguniform('learning_rate', 0.005, 0.5),\n"
     ]
    },
    {
     "name": "stderr",
     "output_type": "stream",
     "text": [
      "[I 2024-04-02 08:01:30,983] Trial 48 finished with value: 0.05196877586860825 and parameters: {'iterations': 279, 'learning_rate': 0.044288979751293894, 'depth': 6}. Best is trial 3 with value: 0.05151647287879747.\n"
     ]
    },
    {
     "name": "stderr",
     "output_type": "stream",
     "text": [
      "/tmp/ipykernel_637554/1172307581.py:4: FutureWarning: suggest_loguniform has been deprecated in v3.0.0. This feature will be removed in v6.0.0. See https://github.com/optuna/optuna/releases/tag/v3.0.0. Use suggest_float(..., log=True) instead.\n",
      "  'learning_rate': trial.suggest_loguniform('learning_rate', 0.005, 0.5),\n"
     ]
    },
    {
     "name": "stderr",
     "output_type": "stream",
     "text": [
      "[I 2024-04-02 08:01:45,442] Trial 49 finished with value: 0.05321272244218268 and parameters: {'iterations': 299, 'learning_rate': 0.020894310339325543, 'depth': 9}. Best is trial 3 with value: 0.05151647287879747.\n"
     ]
    },
    {
     "name": "stderr",
     "output_type": "stream",
     "text": [
      "/tmp/ipykernel_637554/1172307581.py:4: FutureWarning: suggest_loguniform has been deprecated in v3.0.0. This feature will be removed in v6.0.0. See https://github.com/optuna/optuna/releases/tag/v3.0.0. Use suggest_float(..., log=True) instead.\n",
      "  'learning_rate': trial.suggest_loguniform('learning_rate', 0.005, 0.5),\n"
     ]
    },
    {
     "name": "stderr",
     "output_type": "stream",
     "text": [
      "[I 2024-04-02 08:01:50,689] Trial 50 finished with value: 0.05302803094599273 and parameters: {'iterations': 280, 'learning_rate': 0.043306294939655036, 'depth': 6}. Best is trial 3 with value: 0.05151647287879747.\n"
     ]
    },
    {
     "name": "stderr",
     "output_type": "stream",
     "text": [
      "/tmp/ipykernel_637554/1172307581.py:4: FutureWarning: suggest_loguniform has been deprecated in v3.0.0. This feature will be removed in v6.0.0. See https://github.com/optuna/optuna/releases/tag/v3.0.0. Use suggest_float(..., log=True) instead.\n",
      "  'learning_rate': trial.suggest_loguniform('learning_rate', 0.005, 0.5),\n"
     ]
    },
    {
     "name": "stderr",
     "output_type": "stream",
     "text": [
      "[I 2024-04-02 08:01:53,378] Trial 51 finished with value: 0.05298074365398081 and parameters: {'iterations': 250, 'learning_rate': 0.06842935461791913, 'depth': 5}. Best is trial 3 with value: 0.05151647287879747.\n"
     ]
    },
    {
     "name": "stderr",
     "output_type": "stream",
     "text": [
      "/tmp/ipykernel_637554/1172307581.py:4: FutureWarning: suggest_loguniform has been deprecated in v3.0.0. This feature will be removed in v6.0.0. See https://github.com/optuna/optuna/releases/tag/v3.0.0. Use suggest_float(..., log=True) instead.\n",
      "  'learning_rate': trial.suggest_loguniform('learning_rate', 0.005, 0.5),\n"
     ]
    },
    {
     "name": "stderr",
     "output_type": "stream",
     "text": [
      "[I 2024-04-02 08:01:57,691] Trial 52 finished with value: 0.05317167767240664 and parameters: {'iterations': 330, 'learning_rate': 0.05247268068868612, 'depth': 6}. Best is trial 3 with value: 0.05151647287879747.\n"
     ]
    },
    {
     "name": "stderr",
     "output_type": "stream",
     "text": [
      "/tmp/ipykernel_637554/1172307581.py:4: FutureWarning: suggest_loguniform has been deprecated in v3.0.0. This feature will be removed in v6.0.0. See https://github.com/optuna/optuna/releases/tag/v3.0.0. Use suggest_float(..., log=True) instead.\n",
      "  'learning_rate': trial.suggest_loguniform('learning_rate', 0.005, 0.5),\n"
     ]
    },
    {
     "name": "stderr",
     "output_type": "stream",
     "text": [
      "[I 2024-04-02 08:02:01,076] Trial 53 finished with value: 0.05572790281915855 and parameters: {'iterations': 348, 'learning_rate': 0.09348636897985836, 'depth': 5}. Best is trial 3 with value: 0.05151647287879747.\n"
     ]
    },
    {
     "name": "stderr",
     "output_type": "stream",
     "text": [
      "/tmp/ipykernel_637554/1172307581.py:4: FutureWarning: suggest_loguniform has been deprecated in v3.0.0. This feature will be removed in v6.0.0. See https://github.com/optuna/optuna/releases/tag/v3.0.0. Use suggest_float(..., log=True) instead.\n",
      "  'learning_rate': trial.suggest_loguniform('learning_rate', 0.005, 0.5),\n"
     ]
    },
    {
     "name": "stderr",
     "output_type": "stream",
     "text": [
      "[I 2024-04-02 08:02:02,819] Trial 54 finished with value: 0.05332753216178031 and parameters: {'iterations': 76, 'learning_rate': 0.03781728927687489, 'depth': 7}. Best is trial 3 with value: 0.05151647287879747.\n"
     ]
    },
    {
     "name": "stderr",
     "output_type": "stream",
     "text": [
      "/tmp/ipykernel_637554/1172307581.py:4: FutureWarning: suggest_loguniform has been deprecated in v3.0.0. This feature will be removed in v6.0.0. See https://github.com/optuna/optuna/releases/tag/v3.0.0. Use suggest_float(..., log=True) instead.\n",
      "  'learning_rate': trial.suggest_loguniform('learning_rate', 0.005, 0.5),\n"
     ]
    },
    {
     "name": "stderr",
     "output_type": "stream",
     "text": [
      "[I 2024-04-02 08:02:04,563] Trial 55 finished with value: 0.05587047035366614 and parameters: {'iterations': 194, 'learning_rate': 0.1598268396810055, 'depth': 4}. Best is trial 3 with value: 0.05151647287879747.\n"
     ]
    },
    {
     "name": "stderr",
     "output_type": "stream",
     "text": [
      "/tmp/ipykernel_637554/1172307581.py:4: FutureWarning: suggest_loguniform has been deprecated in v3.0.0. This feature will be removed in v6.0.0. See https://github.com/optuna/optuna/releases/tag/v3.0.0. Use suggest_float(..., log=True) instead.\n",
      "  'learning_rate': trial.suggest_loguniform('learning_rate', 0.005, 0.5),\n"
     ]
    },
    {
     "name": "stderr",
     "output_type": "stream",
     "text": [
      "[I 2024-04-02 08:02:06,162] Trial 56 finished with value: 0.052930791386694154 and parameters: {'iterations': 94, 'learning_rate': 0.08810703694996011, 'depth': 6}. Best is trial 3 with value: 0.05151647287879747.\n"
     ]
    },
    {
     "name": "stderr",
     "output_type": "stream",
     "text": [
      "/tmp/ipykernel_637554/1172307581.py:4: FutureWarning: suggest_loguniform has been deprecated in v3.0.0. This feature will be removed in v6.0.0. See https://github.com/optuna/optuna/releases/tag/v3.0.0. Use suggest_float(..., log=True) instead.\n",
      "  'learning_rate': trial.suggest_loguniform('learning_rate', 0.005, 0.5),\n"
     ]
    },
    {
     "name": "stderr",
     "output_type": "stream",
     "text": [
      "[I 2024-04-02 08:02:11,476] Trial 57 finished with value: 0.0522248682714472 and parameters: {'iterations': 273, 'learning_rate': 0.030997737458704867, 'depth': 7}. Best is trial 3 with value: 0.05151647287879747.\n"
     ]
    },
    {
     "name": "stderr",
     "output_type": "stream",
     "text": [
      "/tmp/ipykernel_637554/1172307581.py:4: FutureWarning: suggest_loguniform has been deprecated in v3.0.0. This feature will be removed in v6.0.0. See https://github.com/optuna/optuna/releases/tag/v3.0.0. Use suggest_float(..., log=True) instead.\n",
      "  'learning_rate': trial.suggest_loguniform('learning_rate', 0.005, 0.5),\n"
     ]
    },
    {
     "name": "stderr",
     "output_type": "stream",
     "text": [
      "[I 2024-04-02 08:02:20,662] Trial 58 finished with value: 0.052698486828882694 and parameters: {'iterations': 284, 'learning_rate': 0.029939128920889437, 'depth': 8}. Best is trial 3 with value: 0.05151647287879747.\n"
     ]
    },
    {
     "name": "stderr",
     "output_type": "stream",
     "text": [
      "/tmp/ipykernel_637554/1172307581.py:4: FutureWarning: suggest_loguniform has been deprecated in v3.0.0. This feature will be removed in v6.0.0. See https://github.com/optuna/optuna/releases/tag/v3.0.0. Use suggest_float(..., log=True) instead.\n",
      "  'learning_rate': trial.suggest_loguniform('learning_rate', 0.005, 0.5),\n"
     ]
    },
    {
     "name": "stderr",
     "output_type": "stream",
     "text": [
      "[I 2024-04-02 08:02:25,486] Trial 59 finished with value: 0.051817792777466246 and parameters: {'iterations': 251, 'learning_rate': 0.020529559280924124, 'depth': 7}. Best is trial 3 with value: 0.05151647287879747.\n"
     ]
    },
    {
     "name": "stderr",
     "output_type": "stream",
     "text": [
      "/tmp/ipykernel_637554/1172307581.py:4: FutureWarning: suggest_loguniform has been deprecated in v3.0.0. This feature will be removed in v6.0.0. See https://github.com/optuna/optuna/releases/tag/v3.0.0. Use suggest_float(..., log=True) instead.\n",
      "  'learning_rate': trial.suggest_loguniform('learning_rate', 0.005, 0.5),\n"
     ]
    },
    {
     "name": "stderr",
     "output_type": "stream",
     "text": [
      "[I 2024-04-02 08:02:32,051] Trial 60 finished with value: 0.052460883659890746 and parameters: {'iterations': 221, 'learning_rate': 0.022880813439357425, 'depth': 8}. Best is trial 3 with value: 0.05151647287879747.\n"
     ]
    },
    {
     "name": "stderr",
     "output_type": "stream",
     "text": [
      "/tmp/ipykernel_637554/1172307581.py:4: FutureWarning: suggest_loguniform has been deprecated in v3.0.0. This feature will be removed in v6.0.0. See https://github.com/optuna/optuna/releases/tag/v3.0.0. Use suggest_float(..., log=True) instead.\n",
      "  'learning_rate': trial.suggest_loguniform('learning_rate', 0.005, 0.5),\n"
     ]
    },
    {
     "name": "stderr",
     "output_type": "stream",
     "text": [
      "[I 2024-04-02 08:02:36,873] Trial 61 finished with value: 0.05276695572491143 and parameters: {'iterations': 252, 'learning_rate': 0.012637877278133624, 'depth': 7}. Best is trial 3 with value: 0.05151647287879747.\n"
     ]
    },
    {
     "name": "stderr",
     "output_type": "stream",
     "text": [
      "/tmp/ipykernel_637554/1172307581.py:4: FutureWarning: suggest_loguniform has been deprecated in v3.0.0. This feature will be removed in v6.0.0. See https://github.com/optuna/optuna/releases/tag/v3.0.0. Use suggest_float(..., log=True) instead.\n",
      "  'learning_rate': trial.suggest_loguniform('learning_rate', 0.005, 0.5),\n"
     ]
    },
    {
     "name": "stderr",
     "output_type": "stream",
     "text": [
      "[I 2024-04-02 08:02:41,814] Trial 62 finished with value: 0.05217644599191039 and parameters: {'iterations': 270, 'learning_rate': 0.019534218804550297, 'depth': 7}. Best is trial 3 with value: 0.05151647287879747.\n"
     ]
    },
    {
     "name": "stderr",
     "output_type": "stream",
     "text": [
      "/tmp/ipykernel_637554/1172307581.py:4: FutureWarning: suggest_loguniform has been deprecated in v3.0.0. This feature will be removed in v6.0.0. See https://github.com/optuna/optuna/releases/tag/v3.0.0. Use suggest_float(..., log=True) instead.\n",
      "  'learning_rate': trial.suggest_loguniform('learning_rate', 0.005, 0.5),\n"
     ]
    },
    {
     "name": "stderr",
     "output_type": "stream",
     "text": [
      "[I 2024-04-02 08:02:46,386] Trial 63 finished with value: 0.052733758766978056 and parameters: {'iterations': 242, 'learning_rate': 0.015811487743365563, 'depth': 7}. Best is trial 3 with value: 0.05151647287879747.\n"
     ]
    },
    {
     "name": "stderr",
     "output_type": "stream",
     "text": [
      "/tmp/ipykernel_637554/1172307581.py:4: FutureWarning: suggest_loguniform has been deprecated in v3.0.0. This feature will be removed in v6.0.0. See https://github.com/optuna/optuna/releases/tag/v3.0.0. Use suggest_float(..., log=True) instead.\n",
      "  'learning_rate': trial.suggest_loguniform('learning_rate', 0.005, 0.5),\n"
     ]
    },
    {
     "name": "stderr",
     "output_type": "stream",
     "text": [
      "[I 2024-04-02 08:03:12,970] Trial 64 finished with value: 0.05398601940310993 and parameters: {'iterations': 297, 'learning_rate': 0.009407447760302941, 'depth': 10}. Best is trial 3 with value: 0.05151647287879747.\n"
     ]
    },
    {
     "name": "stderr",
     "output_type": "stream",
     "text": [
      "/tmp/ipykernel_637554/1172307581.py:4: FutureWarning: suggest_loguniform has been deprecated in v3.0.0. This feature will be removed in v6.0.0. See https://github.com/optuna/optuna/releases/tag/v3.0.0. Use suggest_float(..., log=True) instead.\n",
      "  'learning_rate': trial.suggest_loguniform('learning_rate', 0.005, 0.5),\n"
     ]
    },
    {
     "name": "stderr",
     "output_type": "stream",
     "text": [
      "[I 2024-04-02 08:03:20,639] Trial 65 finished with value: 0.05258187992339129 and parameters: {'iterations': 263, 'learning_rate': 0.017326941283509256, 'depth': 8}. Best is trial 3 with value: 0.05151647287879747.\n"
     ]
    },
    {
     "name": "stderr",
     "output_type": "stream",
     "text": [
      "/tmp/ipykernel_637554/1172307581.py:4: FutureWarning: suggest_loguniform has been deprecated in v3.0.0. This feature will be removed in v6.0.0. See https://github.com/optuna/optuna/releases/tag/v3.0.0. Use suggest_float(..., log=True) instead.\n",
      "  'learning_rate': trial.suggest_loguniform('learning_rate', 0.005, 0.5),\n"
     ]
    },
    {
     "name": "stderr",
     "output_type": "stream",
     "text": [
      "[I 2024-04-02 08:04:37,317] Trial 66 finished with value: 0.05494639406199066 and parameters: {'iterations': 238, 'learning_rate': 0.11114182667598682, 'depth': 12}. Best is trial 3 with value: 0.05151647287879747.\n"
     ]
    },
    {
     "name": "stderr",
     "output_type": "stream",
     "text": [
      "/tmp/ipykernel_637554/1172307581.py:4: FutureWarning: suggest_loguniform has been deprecated in v3.0.0. This feature will be removed in v6.0.0. See https://github.com/optuna/optuna/releases/tag/v3.0.0. Use suggest_float(..., log=True) instead.\n",
      "  'learning_rate': trial.suggest_loguniform('learning_rate', 0.005, 0.5),\n"
     ]
    },
    {
     "name": "stderr",
     "output_type": "stream",
     "text": [
      "[I 2024-04-02 08:04:41,301] Trial 67 finished with value: 0.05238665118135647 and parameters: {'iterations': 266, 'learning_rate': 0.020141973407602157, 'depth': 6}. Best is trial 3 with value: 0.05151647287879747.\n"
     ]
    },
    {
     "name": "stderr",
     "output_type": "stream",
     "text": [
      "/tmp/ipykernel_637554/1172307581.py:4: FutureWarning: suggest_loguniform has been deprecated in v3.0.0. This feature will be removed in v6.0.0. See https://github.com/optuna/optuna/releases/tag/v3.0.0. Use suggest_float(..., log=True) instead.\n",
      "  'learning_rate': trial.suggest_loguniform('learning_rate', 0.005, 0.5),\n"
     ]
    },
    {
     "name": "stderr",
     "output_type": "stream",
     "text": [
      "[I 2024-04-02 08:04:56,651] Trial 68 finished with value: 0.05317265104988052 and parameters: {'iterations': 311, 'learning_rate': 0.04677008686449674, 'depth': 9}. Best is trial 3 with value: 0.05151647287879747.\n"
     ]
    },
    {
     "name": "stderr",
     "output_type": "stream",
     "text": [
      "/tmp/ipykernel_637554/1172307581.py:4: FutureWarning: suggest_loguniform has been deprecated in v3.0.0. This feature will be removed in v6.0.0. See https://github.com/optuna/optuna/releases/tag/v3.0.0. Use suggest_float(..., log=True) instead.\n",
      "  'learning_rate': trial.suggest_loguniform('learning_rate', 0.005, 0.5),\n"
     ]
    },
    {
     "name": "stderr",
     "output_type": "stream",
     "text": [
      "[I 2024-04-02 08:05:01,183] Trial 69 finished with value: 0.054500242213464646 and parameters: {'iterations': 209, 'learning_rate': 0.19751826229436764, 'depth': 7}. Best is trial 3 with value: 0.05151647287879747.\n"
     ]
    },
    {
     "name": "stderr",
     "output_type": "stream",
     "text": [
      "/tmp/ipykernel_637554/1172307581.py:4: FutureWarning: suggest_loguniform has been deprecated in v3.0.0. This feature will be removed in v6.0.0. See https://github.com/optuna/optuna/releases/tag/v3.0.0. Use suggest_float(..., log=True) instead.\n",
      "  'learning_rate': trial.suggest_loguniform('learning_rate', 0.005, 0.5),\n"
     ]
    },
    {
     "name": "stderr",
     "output_type": "stream",
     "text": [
      "[I 2024-04-02 08:05:02,747] Trial 70 finished with value: 0.06780098422956643 and parameters: {'iterations': 61, 'learning_rate': 0.015067532374332754, 'depth': 6}. Best is trial 3 with value: 0.05151647287879747.\n"
     ]
    },
    {
     "name": "stderr",
     "output_type": "stream",
     "text": [
      "/tmp/ipykernel_637554/1172307581.py:4: FutureWarning: suggest_loguniform has been deprecated in v3.0.0. This feature will be removed in v6.0.0. See https://github.com/optuna/optuna/releases/tag/v3.0.0. Use suggest_float(..., log=True) instead.\n",
      "  'learning_rate': trial.suggest_loguniform('learning_rate', 0.005, 0.5),\n"
     ]
    },
    {
     "name": "stderr",
     "output_type": "stream",
     "text": [
      "[I 2024-04-02 08:05:11,171] Trial 71 finished with value: 0.05262331199539143 and parameters: {'iterations': 279, 'learning_rate': 0.02988198089889862, 'depth': 7}. Best is trial 3 with value: 0.05151647287879747.\n"
     ]
    },
    {
     "name": "stderr",
     "output_type": "stream",
     "text": [
      "/tmp/ipykernel_637554/1172307581.py:4: FutureWarning: suggest_loguniform has been deprecated in v3.0.0. This feature will be removed in v6.0.0. See https://github.com/optuna/optuna/releases/tag/v3.0.0. Use suggest_float(..., log=True) instead.\n",
      "  'learning_rate': trial.suggest_loguniform('learning_rate', 0.005, 0.5),\n"
     ]
    },
    {
     "name": "stderr",
     "output_type": "stream",
     "text": [
      "[I 2024-04-02 08:05:16,636] Trial 72 finished with value: 0.05166962675764338 and parameters: {'iterations': 267, 'learning_rate': 0.026106387601738994, 'depth': 7}. Best is trial 3 with value: 0.05151647287879747.\n"
     ]
    },
    {
     "name": "stderr",
     "output_type": "stream",
     "text": [
      "/tmp/ipykernel_637554/1172307581.py:4: FutureWarning: suggest_loguniform has been deprecated in v3.0.0. This feature will be removed in v6.0.0. See https://github.com/optuna/optuna/releases/tag/v3.0.0. Use suggest_float(..., log=True) instead.\n",
      "  'learning_rate': trial.suggest_loguniform('learning_rate', 0.005, 0.5),\n"
     ]
    },
    {
     "name": "stderr",
     "output_type": "stream",
     "text": [
      "[I 2024-04-02 08:05:24,011] Trial 73 finished with value: 0.0525118234502215 and parameters: {'iterations': 239, 'learning_rate': 0.02366696226090327, 'depth': 8}. Best is trial 3 with value: 0.05151647287879747.\n"
     ]
    },
    {
     "name": "stderr",
     "output_type": "stream",
     "text": [
      "/tmp/ipykernel_637554/1172307581.py:4: FutureWarning: suggest_loguniform has been deprecated in v3.0.0. This feature will be removed in v6.0.0. See https://github.com/optuna/optuna/releases/tag/v3.0.0. Use suggest_float(..., log=True) instead.\n",
      "  'learning_rate': trial.suggest_loguniform('learning_rate', 0.005, 0.5),\n"
     ]
    },
    {
     "name": "stderr",
     "output_type": "stream",
     "text": [
      "[I 2024-04-02 08:05:29,729] Trial 74 finished with value: 0.05232190529311041 and parameters: {'iterations': 297, 'learning_rate': 0.05645226729523521, 'depth': 7}. Best is trial 3 with value: 0.05151647287879747.\n"
     ]
    },
    {
     "name": "stderr",
     "output_type": "stream",
     "text": [
      "/tmp/ipykernel_637554/1172307581.py:4: FutureWarning: suggest_loguniform has been deprecated in v3.0.0. This feature will be removed in v6.0.0. See https://github.com/optuna/optuna/releases/tag/v3.0.0. Use suggest_float(..., log=True) instead.\n",
      "  'learning_rate': trial.suggest_loguniform('learning_rate', 0.005, 0.5),\n"
     ]
    },
    {
     "name": "stderr",
     "output_type": "stream",
     "text": [
      "[I 2024-04-02 08:05:33,665] Trial 75 finished with value: 0.05222911365095486 and parameters: {'iterations': 290, 'learning_rate': 0.03460155766249002, 'depth': 6}. Best is trial 3 with value: 0.05151647287879747.\n"
     ]
    },
    {
     "name": "stderr",
     "output_type": "stream",
     "text": [
      "/tmp/ipykernel_637554/1172307581.py:4: FutureWarning: suggest_loguniform has been deprecated in v3.0.0. This feature will be removed in v6.0.0. See https://github.com/optuna/optuna/releases/tag/v3.0.0. Use suggest_float(..., log=True) instead.\n",
      "  'learning_rate': trial.suggest_loguniform('learning_rate', 0.005, 0.5),\n"
     ]
    },
    {
     "name": "stderr",
     "output_type": "stream",
     "text": [
      "[I 2024-04-02 08:05:37,756] Trial 76 finished with value: 0.05198206586471023 and parameters: {'iterations': 311, 'learning_rate': 0.026477652278891782, 'depth': 6}. Best is trial 3 with value: 0.05151647287879747.\n"
     ]
    },
    {
     "name": "stderr",
     "output_type": "stream",
     "text": [
      "/tmp/ipykernel_637554/1172307581.py:4: FutureWarning: suggest_loguniform has been deprecated in v3.0.0. This feature will be removed in v6.0.0. See https://github.com/optuna/optuna/releases/tag/v3.0.0. Use suggest_float(..., log=True) instead.\n",
      "  'learning_rate': trial.suggest_loguniform('learning_rate', 0.005, 0.5),\n"
     ]
    },
    {
     "name": "stderr",
     "output_type": "stream",
     "text": [
      "[I 2024-04-02 08:05:45,985] Trial 77 finished with value: 0.05193876994328297 and parameters: {'iterations': 319, 'learning_rate': 0.019105861351308123, 'depth': 7}. Best is trial 3 with value: 0.05151647287879747.\n"
     ]
    },
    {
     "name": "stderr",
     "output_type": "stream",
     "text": [
      "/tmp/ipykernel_637554/1172307581.py:4: FutureWarning: suggest_loguniform has been deprecated in v3.0.0. This feature will be removed in v6.0.0. See https://github.com/optuna/optuna/releases/tag/v3.0.0. Use suggest_float(..., log=True) instead.\n",
      "  'learning_rate': trial.suggest_loguniform('learning_rate', 0.005, 0.5),\n"
     ]
    },
    {
     "name": "stderr",
     "output_type": "stream",
     "text": [
      "[I 2024-04-02 08:05:55,701] Trial 78 finished with value: 0.05251729191441225 and parameters: {'iterations': 336, 'learning_rate': 0.014087325449107605, 'depth': 8}. Best is trial 3 with value: 0.05151647287879747.\n"
     ]
    },
    {
     "name": "stderr",
     "output_type": "stream",
     "text": [
      "/tmp/ipykernel_637554/1172307581.py:4: FutureWarning: suggest_loguniform has been deprecated in v3.0.0. This feature will be removed in v6.0.0. See https://github.com/optuna/optuna/releases/tag/v3.0.0. Use suggest_float(..., log=True) instead.\n",
      "  'learning_rate': trial.suggest_loguniform('learning_rate', 0.005, 0.5),\n"
     ]
    },
    {
     "name": "stderr",
     "output_type": "stream",
     "text": [
      "[I 2024-04-02 08:05:58,909] Trial 79 finished with value: 0.05160528949831104 and parameters: {'iterations': 323, 'learning_rate': 0.025993541180458588, 'depth': 5}. Best is trial 3 with value: 0.05151647287879747.\n"
     ]
    },
    {
     "name": "stderr",
     "output_type": "stream",
     "text": [
      "/tmp/ipykernel_637554/1172307581.py:4: FutureWarning: suggest_loguniform has been deprecated in v3.0.0. This feature will be removed in v6.0.0. See https://github.com/optuna/optuna/releases/tag/v3.0.0. Use suggest_float(..., log=True) instead.\n",
      "  'learning_rate': trial.suggest_loguniform('learning_rate', 0.005, 0.5),\n"
     ]
    },
    {
     "name": "stderr",
     "output_type": "stream",
     "text": [
      "[I 2024-04-02 08:06:02,097] Trial 80 finished with value: 0.05348704386799914 and parameters: {'iterations': 321, 'learning_rate': 0.0675100981895638, 'depth': 5}. Best is trial 3 with value: 0.05151647287879747.\n"
     ]
    },
    {
     "name": "stderr",
     "output_type": "stream",
     "text": [
      "/tmp/ipykernel_637554/1172307581.py:4: FutureWarning: suggest_loguniform has been deprecated in v3.0.0. This feature will be removed in v6.0.0. See https://github.com/optuna/optuna/releases/tag/v3.0.0. Use suggest_float(..., log=True) instead.\n",
      "  'learning_rate': trial.suggest_loguniform('learning_rate', 0.005, 0.5),\n"
     ]
    },
    {
     "name": "stderr",
     "output_type": "stream",
     "text": [
      "[I 2024-04-02 08:06:06,159] Trial 81 finished with value: 0.05205624217484065 and parameters: {'iterations': 311, 'learning_rate': 0.026554725569070917, 'depth': 6}. Best is trial 3 with value: 0.05151647287879747.\n"
     ]
    },
    {
     "name": "stderr",
     "output_type": "stream",
     "text": [
      "/tmp/ipykernel_637554/1172307581.py:4: FutureWarning: suggest_loguniform has been deprecated in v3.0.0. This feature will be removed in v6.0.0. See https://github.com/optuna/optuna/releases/tag/v3.0.0. Use suggest_float(..., log=True) instead.\n",
      "  'learning_rate': trial.suggest_loguniform('learning_rate', 0.005, 0.5),\n"
     ]
    },
    {
     "name": "stderr",
     "output_type": "stream",
     "text": [
      "[I 2024-04-02 08:06:09,602] Trial 82 finished with value: 0.05147146511548565 and parameters: {'iterations': 355, 'learning_rate': 0.026671073315288805, 'depth': 5}. Best is trial 82 with value: 0.05147146511548565.\n"
     ]
    },
    {
     "name": "stderr",
     "output_type": "stream",
     "text": [
      "/tmp/ipykernel_637554/1172307581.py:4: FutureWarning: suggest_loguniform has been deprecated in v3.0.0. This feature will be removed in v6.0.0. See https://github.com/optuna/optuna/releases/tag/v3.0.0. Use suggest_float(..., log=True) instead.\n",
      "  'learning_rate': trial.suggest_loguniform('learning_rate', 0.005, 0.5),\n"
     ]
    },
    {
     "name": "stderr",
     "output_type": "stream",
     "text": [
      "[I 2024-04-02 08:06:15,348] Trial 83 finished with value: 0.05197471522281809 and parameters: {'iterations': 375, 'learning_rate': 0.022076160062937198, 'depth': 4}. Best is trial 82 with value: 0.05147146511548565.\n"
     ]
    },
    {
     "name": "stderr",
     "output_type": "stream",
     "text": [
      "/tmp/ipykernel_637554/1172307581.py:4: FutureWarning: suggest_loguniform has been deprecated in v3.0.0. This feature will be removed in v6.0.0. See https://github.com/optuna/optuna/releases/tag/v3.0.0. Use suggest_float(..., log=True) instead.\n",
      "  'learning_rate': trial.suggest_loguniform('learning_rate', 0.005, 0.5),\n"
     ]
    },
    {
     "name": "stderr",
     "output_type": "stream",
     "text": [
      "[I 2024-04-02 08:06:18,892] Trial 84 finished with value: 0.052220787130798516 and parameters: {'iterations': 368, 'learning_rate': 0.018313753008291557, 'depth': 5}. Best is trial 82 with value: 0.05147146511548565.\n"
     ]
    },
    {
     "name": "stderr",
     "output_type": "stream",
     "text": [
      "/tmp/ipykernel_637554/1172307581.py:4: FutureWarning: suggest_loguniform has been deprecated in v3.0.0. This feature will be removed in v6.0.0. See https://github.com/optuna/optuna/releases/tag/v3.0.0. Use suggest_float(..., log=True) instead.\n",
      "  'learning_rate': trial.suggest_loguniform('learning_rate', 0.005, 0.5),\n"
     ]
    },
    {
     "name": "stderr",
     "output_type": "stream",
     "text": [
      "[I 2024-04-02 08:06:22,312] Trial 85 finished with value: 0.051890022426151074 and parameters: {'iterations': 346, 'learning_rate': 0.025667354956711238, 'depth': 5}. Best is trial 82 with value: 0.05147146511548565.\n"
     ]
    },
    {
     "name": "stderr",
     "output_type": "stream",
     "text": [
      "/tmp/ipykernel_637554/1172307581.py:4: FutureWarning: suggest_loguniform has been deprecated in v3.0.0. This feature will be removed in v6.0.0. See https://github.com/optuna/optuna/releases/tag/v3.0.0. Use suggest_float(..., log=True) instead.\n",
      "  'learning_rate': trial.suggest_loguniform('learning_rate', 0.005, 0.5),\n"
     ]
    },
    {
     "name": "stderr",
     "output_type": "stream",
     "text": [
      "[I 2024-04-02 08:06:25,700] Trial 86 finished with value: 0.05145775550579634 and parameters: {'iterations': 356, 'learning_rate': 0.02855915846133446, 'depth': 5}. Best is trial 86 with value: 0.05145775550579634.\n"
     ]
    },
    {
     "name": "stderr",
     "output_type": "stream",
     "text": [
      "/tmp/ipykernel_637554/1172307581.py:4: FutureWarning: suggest_loguniform has been deprecated in v3.0.0. This feature will be removed in v6.0.0. See https://github.com/optuna/optuna/releases/tag/v3.0.0. Use suggest_float(..., log=True) instead.\n",
      "  'learning_rate': trial.suggest_loguniform('learning_rate', 0.005, 0.5),\n"
     ]
    },
    {
     "name": "stderr",
     "output_type": "stream",
     "text": [
      "[I 2024-04-02 08:06:28,632] Trial 87 finished with value: 0.0523291251805796 and parameters: {'iterations': 398, 'learning_rate': 0.03648824481290425, 'depth': 4}. Best is trial 86 with value: 0.05145775550579634.\n"
     ]
    },
    {
     "name": "stderr",
     "output_type": "stream",
     "text": [
      "/tmp/ipykernel_637554/1172307581.py:4: FutureWarning: suggest_loguniform has been deprecated in v3.0.0. This feature will be removed in v6.0.0. See https://github.com/optuna/optuna/releases/tag/v3.0.0. Use suggest_float(..., log=True) instead.\n",
      "  'learning_rate': trial.suggest_loguniform('learning_rate', 0.005, 0.5),\n"
     ]
    },
    {
     "name": "stderr",
     "output_type": "stream",
     "text": [
      "[I 2024-04-02 08:06:32,017] Trial 88 finished with value: 0.051751617672268255 and parameters: {'iterations': 356, 'learning_rate': 0.040863107050924365, 'depth': 5}. Best is trial 86 with value: 0.05145775550579634.\n"
     ]
    },
    {
     "name": "stderr",
     "output_type": "stream",
     "text": [
      "/tmp/ipykernel_637554/1172307581.py:4: FutureWarning: suggest_loguniform has been deprecated in v3.0.0. This feature will be removed in v6.0.0. See https://github.com/optuna/optuna/releases/tag/v3.0.0. Use suggest_float(..., log=True) instead.\n",
      "  'learning_rate': trial.suggest_loguniform('learning_rate', 0.005, 0.5),\n"
     ]
    },
    {
     "name": "stderr",
     "output_type": "stream",
     "text": [
      "[I 2024-04-02 08:06:35,509] Trial 89 finished with value: 0.05214185811081482 and parameters: {'iterations': 360, 'learning_rate': 0.039646715639210496, 'depth': 5}. Best is trial 86 with value: 0.05145775550579634.\n"
     ]
    },
    {
     "name": "stderr",
     "output_type": "stream",
     "text": [
      "/tmp/ipykernel_637554/1172307581.py:4: FutureWarning: suggest_loguniform has been deprecated in v3.0.0. This feature will be removed in v6.0.0. See https://github.com/optuna/optuna/releases/tag/v3.0.0. Use suggest_float(..., log=True) instead.\n",
      "  'learning_rate': trial.suggest_loguniform('learning_rate', 0.005, 0.5),\n"
     ]
    },
    {
     "name": "stderr",
     "output_type": "stream",
     "text": [
      "[I 2024-04-02 08:06:38,305] Trial 90 finished with value: 0.05184163156300235 and parameters: {'iterations': 378, 'learning_rate': 0.028853567292397856, 'depth': 4}. Best is trial 86 with value: 0.05145775550579634.\n"
     ]
    },
    {
     "name": "stderr",
     "output_type": "stream",
     "text": [
      "/tmp/ipykernel_637554/1172307581.py:4: FutureWarning: suggest_loguniform has been deprecated in v3.0.0. This feature will be removed in v6.0.0. See https://github.com/optuna/optuna/releases/tag/v3.0.0. Use suggest_float(..., log=True) instead.\n",
      "  'learning_rate': trial.suggest_loguniform('learning_rate', 0.005, 0.5),\n"
     ]
    },
    {
     "name": "stderr",
     "output_type": "stream",
     "text": [
      "[I 2024-04-02 08:06:41,128] Trial 91 finished with value: 0.05234611187808351 and parameters: {'iterations': 381, 'learning_rate': 0.029130812013615254, 'depth': 4}. Best is trial 86 with value: 0.05145775550579634.\n"
     ]
    },
    {
     "name": "stderr",
     "output_type": "stream",
     "text": [
      "/tmp/ipykernel_637554/1172307581.py:4: FutureWarning: suggest_loguniform has been deprecated in v3.0.0. This feature will be removed in v6.0.0. See https://github.com/optuna/optuna/releases/tag/v3.0.0. Use suggest_float(..., log=True) instead.\n",
      "  'learning_rate': trial.suggest_loguniform('learning_rate', 0.005, 0.5),\n"
     ]
    },
    {
     "name": "stderr",
     "output_type": "stream",
     "text": [
      "[I 2024-04-02 08:06:43,870] Trial 92 finished with value: 0.05231518732006139 and parameters: {'iterations': 361, 'learning_rate': 0.04092322121764691, 'depth': 4}. Best is trial 86 with value: 0.05145775550579634.\n"
     ]
    },
    {
     "name": "stderr",
     "output_type": "stream",
     "text": [
      "/tmp/ipykernel_637554/1172307581.py:4: FutureWarning: suggest_loguniform has been deprecated in v3.0.0. This feature will be removed in v6.0.0. See https://github.com/optuna/optuna/releases/tag/v3.0.0. Use suggest_float(..., log=True) instead.\n",
      "  'learning_rate': trial.suggest_loguniform('learning_rate', 0.005, 0.5),\n"
     ]
    },
    {
     "name": "stderr",
     "output_type": "stream",
     "text": [
      "[I 2024-04-02 08:06:50,251] Trial 93 finished with value: 0.05200352937896281 and parameters: {'iterations': 395, 'learning_rate': 0.032215439229820085, 'depth': 5}. Best is trial 86 with value: 0.05145775550579634.\n"
     ]
    },
    {
     "name": "stderr",
     "output_type": "stream",
     "text": [
      "/tmp/ipykernel_637554/1172307581.py:4: FutureWarning: suggest_loguniform has been deprecated in v3.0.0. This feature will be removed in v6.0.0. See https://github.com/optuna/optuna/releases/tag/v3.0.0. Use suggest_float(..., log=True) instead.\n",
      "  'learning_rate': trial.suggest_loguniform('learning_rate', 0.005, 0.5),\n"
     ]
    },
    {
     "name": "stderr",
     "output_type": "stream",
     "text": [
      "[I 2024-04-02 08:06:52,923] Trial 94 finished with value: 0.05198641416777733 and parameters: {'iterations': 355, 'learning_rate': 0.024241626444533634, 'depth': 4}. Best is trial 86 with value: 0.05145775550579634.\n"
     ]
    },
    {
     "name": "stderr",
     "output_type": "stream",
     "text": [
      "/tmp/ipykernel_637554/1172307581.py:4: FutureWarning: suggest_loguniform has been deprecated in v3.0.0. This feature will be removed in v6.0.0. See https://github.com/optuna/optuna/releases/tag/v3.0.0. Use suggest_float(..., log=True) instead.\n",
      "  'learning_rate': trial.suggest_loguniform('learning_rate', 0.005, 0.5),\n"
     ]
    },
    {
     "name": "stderr",
     "output_type": "stream",
     "text": [
      "[I 2024-04-02 08:06:56,269] Trial 95 finished with value: 0.052075370853707906 and parameters: {'iterations': 342, 'learning_rate': 0.0346400654538997, 'depth': 5}. Best is trial 86 with value: 0.05145775550579634.\n"
     ]
    },
    {
     "name": "stderr",
     "output_type": "stream",
     "text": [
      "/tmp/ipykernel_637554/1172307581.py:4: FutureWarning: suggest_loguniform has been deprecated in v3.0.0. This feature will be removed in v6.0.0. See https://github.com/optuna/optuna/releases/tag/v3.0.0. Use suggest_float(..., log=True) instead.\n",
      "  'learning_rate': trial.suggest_loguniform('learning_rate', 0.005, 0.5),\n"
     ]
    },
    {
     "name": "stderr",
     "output_type": "stream",
     "text": [
      "[I 2024-04-02 08:06:59,802] Trial 96 finished with value: 0.05203354417600207 and parameters: {'iterations': 369, 'learning_rate': 0.027639028415818848, 'depth': 5}. Best is trial 86 with value: 0.05145775550579634.\n"
     ]
    },
    {
     "name": "stderr",
     "output_type": "stream",
     "text": [
      "/tmp/ipykernel_637554/1172307581.py:4: FutureWarning: suggest_loguniform has been deprecated in v3.0.0. This feature will be removed in v6.0.0. See https://github.com/optuna/optuna/releases/tag/v3.0.0. Use suggest_float(..., log=True) instead.\n",
      "  'learning_rate': trial.suggest_loguniform('learning_rate', 0.005, 0.5),\n"
     ]
    },
    {
     "name": "stderr",
     "output_type": "stream",
     "text": [
      "[I 2024-04-02 08:07:02,684] Trial 97 finished with value: 0.051984310526614695 and parameters: {'iterations': 382, 'learning_rate': 0.021752782195661135, 'depth': 4}. Best is trial 86 with value: 0.05145775550579634.\n"
     ]
    },
    {
     "name": "stderr",
     "output_type": "stream",
     "text": [
      "/tmp/ipykernel_637554/1172307581.py:4: FutureWarning: suggest_loguniform has been deprecated in v3.0.0. This feature will be removed in v6.0.0. See https://github.com/optuna/optuna/releases/tag/v3.0.0. Use suggest_float(..., log=True) instead.\n",
      "  'learning_rate': trial.suggest_loguniform('learning_rate', 0.005, 0.5),\n"
     ]
    },
    {
     "name": "stderr",
     "output_type": "stream",
     "text": [
      "[I 2024-04-02 08:07:05,229] Trial 98 finished with value: 0.05267893733702036 and parameters: {'iterations': 332, 'learning_rate': 0.049398257801062564, 'depth': 4}. Best is trial 86 with value: 0.05145775550579634.\n"
     ]
    },
    {
     "name": "stderr",
     "output_type": "stream",
     "text": [
      "/tmp/ipykernel_637554/1172307581.py:4: FutureWarning: suggest_loguniform has been deprecated in v3.0.0. This feature will be removed in v6.0.0. See https://github.com/optuna/optuna/releases/tag/v3.0.0. Use suggest_float(..., log=True) instead.\n",
      "  'learning_rate': trial.suggest_loguniform('learning_rate', 0.005, 0.5),\n"
     ]
    },
    {
     "name": "stderr",
     "output_type": "stream",
     "text": [
      "[I 2024-04-02 08:07:08,603] Trial 99 finished with value: 0.05509749210036574 and parameters: {'iterations': 339, 'learning_rate': 0.08343957432641468, 'depth': 5}. Best is trial 86 with value: 0.05145775550579634.\n"
     ]
    },
    {
     "name": "stderr",
     "output_type": "stream",
     "text": [
      "[I 2024-04-02 08:07:08,604] A new study created in memory with name: no-name-38540dee-a6f8-4684-897b-139933f0be65\n"
     ]
    },
    {
     "name": "stderr",
     "output_type": "stream",
     "text": [
      "/tmp/ipykernel_637554/1172307581.py:4: FutureWarning: suggest_loguniform has been deprecated in v3.0.0. This feature will be removed in v6.0.0. See https://github.com/optuna/optuna/releases/tag/v3.0.0. Use suggest_float(..., log=True) instead.\n",
      "  'learning_rate': trial.suggest_loguniform('learning_rate', 0.005, 0.5),\n"
     ]
    },
    {
     "name": "stderr",
     "output_type": "stream",
     "text": [
      "[I 2024-04-02 08:07:19,386] Trial 0 finished with value: 0.05468626436435801 and parameters: {'iterations': 319, 'learning_rate': 0.04961520692478529, 'depth': 8}. Best is trial 0 with value: 0.05468626436435801.\n"
     ]
    },
    {
     "name": "stderr",
     "output_type": "stream",
     "text": [
      "/tmp/ipykernel_637554/1172307581.py:4: FutureWarning: suggest_loguniform has been deprecated in v3.0.0. This feature will be removed in v6.0.0. See https://github.com/optuna/optuna/releases/tag/v3.0.0. Use suggest_float(..., log=True) instead.\n",
      "  'learning_rate': trial.suggest_loguniform('learning_rate', 0.005, 0.5),\n"
     ]
    },
    {
     "name": "stderr",
     "output_type": "stream",
     "text": [
      "[I 2024-04-02 08:09:27,707] Trial 1 finished with value: 0.0539822322500914 and parameters: {'iterations': 206, 'learning_rate': 0.09263037377577282, 'depth': 13}. Best is trial 1 with value: 0.0539822322500914.\n"
     ]
    },
    {
     "name": "stderr",
     "output_type": "stream",
     "text": [
      "/tmp/ipykernel_637554/1172307581.py:4: FutureWarning: suggest_loguniform has been deprecated in v3.0.0. This feature will be removed in v6.0.0. See https://github.com/optuna/optuna/releases/tag/v3.0.0. Use suggest_float(..., log=True) instead.\n",
      "  'learning_rate': trial.suggest_loguniform('learning_rate', 0.005, 0.5),\n"
     ]
    },
    {
     "name": "stderr",
     "output_type": "stream",
     "text": [
      "[I 2024-04-02 08:09:29,607] Trial 2 finished with value: 0.0643667774807591 and parameters: {'iterations': 220, 'learning_rate': 0.4149673772397757, 'depth': 4}. Best is trial 1 with value: 0.0539822322500914.\n"
     ]
    },
    {
     "name": "stderr",
     "output_type": "stream",
     "text": [
      "/tmp/ipykernel_637554/1172307581.py:4: FutureWarning: suggest_loguniform has been deprecated in v3.0.0. This feature will be removed in v6.0.0. See https://github.com/optuna/optuna/releases/tag/v3.0.0. Use suggest_float(..., log=True) instead.\n",
      "  'learning_rate': trial.suggest_loguniform('learning_rate', 0.005, 0.5),\n"
     ]
    },
    {
     "name": "stderr",
     "output_type": "stream",
     "text": [
      "[I 2024-04-02 08:09:33,485] Trial 3 finished with value: 0.05193833816680943 and parameters: {'iterations': 357, 'learning_rate': 0.012790882967514672, 'depth': 5}. Best is trial 3 with value: 0.05193833816680943.\n"
     ]
    },
    {
     "name": "stderr",
     "output_type": "stream",
     "text": [
      "/tmp/ipykernel_637554/1172307581.py:4: FutureWarning: suggest_loguniform has been deprecated in v3.0.0. This feature will be removed in v6.0.0. See https://github.com/optuna/optuna/releases/tag/v3.0.0. Use suggest_float(..., log=True) instead.\n",
      "  'learning_rate': trial.suggest_loguniform('learning_rate', 0.005, 0.5),\n"
     ]
    },
    {
     "name": "stderr",
     "output_type": "stream",
     "text": [
      "[I 2024-04-02 08:09:35,392] Trial 4 finished with value: 0.05699249446383535 and parameters: {'iterations': 124, 'learning_rate': 0.01191698237941175, 'depth': 6}. Best is trial 3 with value: 0.05193833816680943.\n"
     ]
    },
    {
     "name": "stderr",
     "output_type": "stream",
     "text": [
      "/tmp/ipykernel_637554/1172307581.py:4: FutureWarning: suggest_loguniform has been deprecated in v3.0.0. This feature will be removed in v6.0.0. See https://github.com/optuna/optuna/releases/tag/v3.0.0. Use suggest_float(..., log=True) instead.\n",
      "  'learning_rate': trial.suggest_loguniform('learning_rate', 0.005, 0.5),\n"
     ]
    },
    {
     "name": "stderr",
     "output_type": "stream",
     "text": [
      "[I 2024-04-02 08:09:37,224] Trial 5 finished with value: 0.07376485200297342 and parameters: {'iterations': 53, 'learning_rate': 0.012070829109725408, 'depth': 8}. Best is trial 3 with value: 0.05193833816680943.\n"
     ]
    },
    {
     "name": "stderr",
     "output_type": "stream",
     "text": [
      "/tmp/ipykernel_637554/1172307581.py:4: FutureWarning: suggest_loguniform has been deprecated in v3.0.0. This feature will be removed in v6.0.0. See https://github.com/optuna/optuna/releases/tag/v3.0.0. Use suggest_float(..., log=True) instead.\n",
      "  'learning_rate': trial.suggest_loguniform('learning_rate', 0.005, 0.5),\n"
     ]
    },
    {
     "name": "stderr",
     "output_type": "stream",
     "text": [
      "[I 2024-04-02 08:09:44,033] Trial 6 finished with value: 0.05693825706583881 and parameters: {'iterations': 236, 'learning_rate': 0.14725402405781465, 'depth': 8}. Best is trial 3 with value: 0.05193833816680943.\n"
     ]
    },
    {
     "name": "stderr",
     "output_type": "stream",
     "text": [
      "/tmp/ipykernel_637554/1172307581.py:4: FutureWarning: suggest_loguniform has been deprecated in v3.0.0. This feature will be removed in v6.0.0. See https://github.com/optuna/optuna/releases/tag/v3.0.0. Use suggest_float(..., log=True) instead.\n",
      "  'learning_rate': trial.suggest_loguniform('learning_rate', 0.005, 0.5),\n"
     ]
    },
    {
     "name": "stderr",
     "output_type": "stream",
     "text": [
      "[I 2024-04-02 08:10:06,726] Trial 7 finished with value: 0.05637752324927191 and parameters: {'iterations': 243, 'learning_rate': 0.13732722687118304, 'depth': 10}. Best is trial 3 with value: 0.05193833816680943.\n"
     ]
    },
    {
     "name": "stderr",
     "output_type": "stream",
     "text": [
      "/tmp/ipykernel_637554/1172307581.py:4: FutureWarning: suggest_loguniform has been deprecated in v3.0.0. This feature will be removed in v6.0.0. See https://github.com/optuna/optuna/releases/tag/v3.0.0. Use suggest_float(..., log=True) instead.\n",
      "  'learning_rate': trial.suggest_loguniform('learning_rate', 0.005, 0.5),\n"
     ]
    },
    {
     "name": "stderr",
     "output_type": "stream",
     "text": [
      "[I 2024-04-02 08:10:19,228] Trial 8 finished with value: 0.053702082503667245 and parameters: {'iterations': 253, 'learning_rate': 0.06858252635327447, 'depth': 9}. Best is trial 3 with value: 0.05193833816680943.\n"
     ]
    },
    {
     "name": "stderr",
     "output_type": "stream",
     "text": [
      "/tmp/ipykernel_637554/1172307581.py:4: FutureWarning: suggest_loguniform has been deprecated in v3.0.0. This feature will be removed in v6.0.0. See https://github.com/optuna/optuna/releases/tag/v3.0.0. Use suggest_float(..., log=True) instead.\n",
      "  'learning_rate': trial.suggest_loguniform('learning_rate', 0.005, 0.5),\n"
     ]
    },
    {
     "name": "stderr",
     "output_type": "stream",
     "text": [
      "[I 2024-04-02 08:16:03,507] Trial 9 finished with value: 0.05380335809451846 and parameters: {'iterations': 164, 'learning_rate': 0.02089683530792059, 'depth': 14}. Best is trial 3 with value: 0.05193833816680943.\n"
     ]
    },
    {
     "name": "stderr",
     "output_type": "stream",
     "text": [
      "/tmp/ipykernel_637554/1172307581.py:4: FutureWarning: suggest_loguniform has been deprecated in v3.0.0. This feature will be removed in v6.0.0. See https://github.com/optuna/optuna/releases/tag/v3.0.0. Use suggest_float(..., log=True) instead.\n",
      "  'learning_rate': trial.suggest_loguniform('learning_rate', 0.005, 0.5),\n"
     ]
    },
    {
     "name": "stderr",
     "output_type": "stream",
     "text": [
      "[I 2024-04-02 08:16:06,600] Trial 10 finished with value: 0.05300517397456809 and parameters: {'iterations': 400, 'learning_rate': 0.006255586664565167, 'depth': 4}. Best is trial 3 with value: 0.05193833816680943.\n"
     ]
    },
    {
     "name": "stderr",
     "output_type": "stream",
     "text": [
      "/tmp/ipykernel_637554/1172307581.py:4: FutureWarning: suggest_loguniform has been deprecated in v3.0.0. This feature will be removed in v6.0.0. See https://github.com/optuna/optuna/releases/tag/v3.0.0. Use suggest_float(..., log=True) instead.\n",
      "  'learning_rate': trial.suggest_loguniform('learning_rate', 0.005, 0.5),\n"
     ]
    },
    {
     "name": "stderr",
     "output_type": "stream",
     "text": [
      "[I 2024-04-02 08:16:10,434] Trial 11 finished with value: 0.05361364461666436 and parameters: {'iterations': 397, 'learning_rate': 0.00554318624380269, 'depth': 5}. Best is trial 3 with value: 0.05193833816680943.\n"
     ]
    },
    {
     "name": "stderr",
     "output_type": "stream",
     "text": [
      "/tmp/ipykernel_637554/1172307581.py:4: FutureWarning: suggest_loguniform has been deprecated in v3.0.0. This feature will be removed in v6.0.0. See https://github.com/optuna/optuna/releases/tag/v3.0.0. Use suggest_float(..., log=True) instead.\n",
      "  'learning_rate': trial.suggest_loguniform('learning_rate', 0.005, 0.5),\n"
     ]
    },
    {
     "name": "stderr",
     "output_type": "stream",
     "text": [
      "[I 2024-04-02 08:16:16,633] Trial 12 finished with value: 0.05374199606638362 and parameters: {'iterations': 392, 'learning_rate': 0.0051634145286418975, 'depth': 6}. Best is trial 3 with value: 0.05193833816680943.\n"
     ]
    },
    {
     "name": "stderr",
     "output_type": "stream",
     "text": [
      "/tmp/ipykernel_637554/1172307581.py:4: FutureWarning: suggest_loguniform has been deprecated in v3.0.0. This feature will be removed in v6.0.0. See https://github.com/optuna/optuna/releases/tag/v3.0.0. Use suggest_float(..., log=True) instead.\n",
      "  'learning_rate': trial.suggest_loguniform('learning_rate', 0.005, 0.5),\n"
     ]
    },
    {
     "name": "stderr",
     "output_type": "stream",
     "text": [
      "[I 2024-04-02 08:16:19,201] Trial 13 finished with value: 0.05235830751861881 and parameters: {'iterations': 320, 'learning_rate': 0.026147718782668892, 'depth': 4}. Best is trial 3 with value: 0.05193833816680943.\n"
     ]
    },
    {
     "name": "stderr",
     "output_type": "stream",
     "text": [
      "/tmp/ipykernel_637554/1172307581.py:4: FutureWarning: suggest_loguniform has been deprecated in v3.0.0. This feature will be removed in v6.0.0. See https://github.com/optuna/optuna/releases/tag/v3.0.0. Use suggest_float(..., log=True) instead.\n",
      "  'learning_rate': trial.suggest_loguniform('learning_rate', 0.005, 0.5),\n"
     ]
    },
    {
     "name": "stderr",
     "output_type": "stream",
     "text": [
      "[I 2024-04-02 08:16:23,547] Trial 14 finished with value: 0.05323006680294442 and parameters: {'iterations': 317, 'learning_rate': 0.03646487890209172, 'depth': 6}. Best is trial 3 with value: 0.05193833816680943.\n"
     ]
    },
    {
     "name": "stderr",
     "output_type": "stream",
     "text": [
      "/tmp/ipykernel_637554/1172307581.py:4: FutureWarning: suggest_loguniform has been deprecated in v3.0.0. This feature will be removed in v6.0.0. See https://github.com/optuna/optuna/releases/tag/v3.0.0. Use suggest_float(..., log=True) instead.\n",
      "  'learning_rate': trial.suggest_loguniform('learning_rate', 0.005, 0.5),\n"
     ]
    },
    {
     "name": "stderr",
     "output_type": "stream",
     "text": [
      "[I 2024-04-02 08:16:26,098] Trial 15 finished with value: 0.05216808302687598 and parameters: {'iterations': 326, 'learning_rate': 0.021606482056498722, 'depth': 4}. Best is trial 3 with value: 0.05193833816680943.\n"
     ]
    },
    {
     "name": "stderr",
     "output_type": "stream",
     "text": [
      "/tmp/ipykernel_637554/1172307581.py:4: FutureWarning: suggest_loguniform has been deprecated in v3.0.0. This feature will be removed in v6.0.0. See https://github.com/optuna/optuna/releases/tag/v3.0.0. Use suggest_float(..., log=True) instead.\n",
      "  'learning_rate': trial.suggest_loguniform('learning_rate', 0.005, 0.5),\n"
     ]
    },
    {
     "name": "stderr",
     "output_type": "stream",
     "text": [
      "[I 2024-04-02 08:17:28,287] Trial 16 finished with value: 0.05274472484026384 and parameters: {'iterations': 348, 'learning_rate': 0.013893278636490843, 'depth': 11}. Best is trial 3 with value: 0.05193833816680943.\n"
     ]
    },
    {
     "name": "stderr",
     "output_type": "stream",
     "text": [
      "/tmp/ipykernel_637554/1172307581.py:4: FutureWarning: suggest_loguniform has been deprecated in v3.0.0. This feature will be removed in v6.0.0. See https://github.com/optuna/optuna/releases/tag/v3.0.0. Use suggest_float(..., log=True) instead.\n",
      "  'learning_rate': trial.suggest_loguniform('learning_rate', 0.005, 0.5),\n"
     ]
    },
    {
     "name": "stderr",
     "output_type": "stream",
     "text": [
      "[I 2024-04-02 08:17:34,004] Trial 17 finished with value: 0.052361106587968644 and parameters: {'iterations': 288, 'learning_rate': 0.02054316856614882, 'depth': 7}. Best is trial 3 with value: 0.05193833816680943.\n"
     ]
    },
    {
     "name": "stderr",
     "output_type": "stream",
     "text": [
      "/tmp/ipykernel_637554/1172307581.py:4: FutureWarning: suggest_loguniform has been deprecated in v3.0.0. This feature will be removed in v6.0.0. See https://github.com/optuna/optuna/releases/tag/v3.0.0. Use suggest_float(..., log=True) instead.\n",
      "  'learning_rate': trial.suggest_loguniform('learning_rate', 0.005, 0.5),\n"
     ]
    },
    {
     "name": "stderr",
     "output_type": "stream",
     "text": [
      "[I 2024-04-02 08:17:36,982] Trial 18 finished with value: 0.05278014445138655 and parameters: {'iterations': 276, 'learning_rate': 0.009424604781852447, 'depth': 5}. Best is trial 3 with value: 0.05193833816680943.\n"
     ]
    },
    {
     "name": "stderr",
     "output_type": "stream",
     "text": [
      "/tmp/ipykernel_637554/1172307581.py:4: FutureWarning: suggest_loguniform has been deprecated in v3.0.0. This feature will be removed in v6.0.0. See https://github.com/optuna/optuna/releases/tag/v3.0.0. Use suggest_float(..., log=True) instead.\n",
      "  'learning_rate': trial.suggest_loguniform('learning_rate', 0.005, 0.5),\n"
     ]
    },
    {
     "name": "stderr",
     "output_type": "stream",
     "text": [
      "[I 2024-04-02 08:18:42,736] Trial 19 finished with value: 0.05364206476045047 and parameters: {'iterations': 363, 'learning_rate': 0.03348238220314056, 'depth': 11}. Best is trial 3 with value: 0.05193833816680943.\n"
     ]
    },
    {
     "name": "stderr",
     "output_type": "stream",
     "text": [
      "/tmp/ipykernel_637554/1172307581.py:4: FutureWarning: suggest_loguniform has been deprecated in v3.0.0. This feature will be removed in v6.0.0. See https://github.com/optuna/optuna/releases/tag/v3.0.0. Use suggest_float(..., log=True) instead.\n",
      "  'learning_rate': trial.suggest_loguniform('learning_rate', 0.005, 0.5),\n"
     ]
    },
    {
     "name": "stderr",
     "output_type": "stream",
     "text": [
      "[I 2024-04-02 08:18:46,399] Trial 20 finished with value: 0.051794105970627315 and parameters: {'iterations': 353, 'learning_rate': 0.018373213068947306, 'depth': 5}. Best is trial 20 with value: 0.051794105970627315.\n"
     ]
    },
    {
     "name": "stderr",
     "output_type": "stream",
     "text": [
      "/tmp/ipykernel_637554/1172307581.py:4: FutureWarning: suggest_loguniform has been deprecated in v3.0.0. This feature will be removed in v6.0.0. See https://github.com/optuna/optuna/releases/tag/v3.0.0. Use suggest_float(..., log=True) instead.\n",
      "  'learning_rate': trial.suggest_loguniform('learning_rate', 0.005, 0.5),\n"
     ]
    },
    {
     "name": "stderr",
     "output_type": "stream",
     "text": [
      "[I 2024-04-02 08:18:50,012] Trial 21 finished with value: 0.0518834685187081 and parameters: {'iterations': 349, 'learning_rate': 0.016520175903827622, 'depth': 5}. Best is trial 20 with value: 0.051794105970627315.\n"
     ]
    },
    {
     "name": "stderr",
     "output_type": "stream",
     "text": [
      "/tmp/ipykernel_637554/1172307581.py:4: FutureWarning: suggest_loguniform has been deprecated in v3.0.0. This feature will be removed in v6.0.0. See https://github.com/optuna/optuna/releases/tag/v3.0.0. Use suggest_float(..., log=True) instead.\n",
      "  'learning_rate': trial.suggest_loguniform('learning_rate', 0.005, 0.5),\n"
     ]
    },
    {
     "name": "stderr",
     "output_type": "stream",
     "text": [
      "[I 2024-04-02 08:18:53,650] Trial 22 finished with value: 0.05205098817185183 and parameters: {'iterations': 370, 'learning_rate': 0.00917522130467712, 'depth': 5}. Best is trial 20 with value: 0.051794105970627315.\n"
     ]
    },
    {
     "name": "stderr",
     "output_type": "stream",
     "text": [
      "/tmp/ipykernel_637554/1172307581.py:4: FutureWarning: suggest_loguniform has been deprecated in v3.0.0. This feature will be removed in v6.0.0. See https://github.com/optuna/optuna/releases/tag/v3.0.0. Use suggest_float(..., log=True) instead.\n",
      "  'learning_rate': trial.suggest_loguniform('learning_rate', 0.005, 0.5),\n"
     ]
    },
    {
     "name": "stderr",
     "output_type": "stream",
     "text": [
      "[I 2024-04-02 08:18:59,048] Trial 23 finished with value: 0.05200292523119994 and parameters: {'iterations': 284, 'learning_rate': 0.01435523871641181, 'depth': 7}. Best is trial 20 with value: 0.051794105970627315.\n"
     ]
    },
    {
     "name": "stderr",
     "output_type": "stream",
     "text": [
      "/tmp/ipykernel_637554/1172307581.py:4: FutureWarning: suggest_loguniform has been deprecated in v3.0.0. This feature will be removed in v6.0.0. See https://github.com/optuna/optuna/releases/tag/v3.0.0. Use suggest_float(..., log=True) instead.\n",
      "  'learning_rate': trial.suggest_loguniform('learning_rate', 0.005, 0.5),\n"
     ]
    },
    {
     "name": "stderr",
     "output_type": "stream",
     "text": [
      "[I 2024-04-02 08:19:07,566] Trial 24 finished with value: 0.0522229739723785 and parameters: {'iterations': 359, 'learning_rate': 0.008032575478696248, 'depth': 7}. Best is trial 20 with value: 0.051794105970627315.\n"
     ]
    },
    {
     "name": "stderr",
     "output_type": "stream",
     "text": [
      "/tmp/ipykernel_637554/1172307581.py:4: FutureWarning: suggest_loguniform has been deprecated in v3.0.0. This feature will be removed in v6.0.0. See https://github.com/optuna/optuna/releases/tag/v3.0.0. Use suggest_float(..., log=True) instead.\n",
      "  'learning_rate': trial.suggest_loguniform('learning_rate', 0.005, 0.5),\n"
     ]
    },
    {
     "name": "stderr",
     "output_type": "stream",
     "text": [
      "[I 2024-04-02 08:19:10,881] Trial 25 finished with value: 0.052079473042667926 and parameters: {'iterations': 335, 'learning_rate': 0.01687125684518383, 'depth': 5}. Best is trial 20 with value: 0.051794105970627315.\n"
     ]
    },
    {
     "name": "stderr",
     "output_type": "stream",
     "text": [
      "/tmp/ipykernel_637554/1172307581.py:4: FutureWarning: suggest_loguniform has been deprecated in v3.0.0. This feature will be removed in v6.0.0. See https://github.com/optuna/optuna/releases/tag/v3.0.0. Use suggest_float(..., log=True) instead.\n",
      "  'learning_rate': trial.suggest_loguniform('learning_rate', 0.005, 0.5),\n"
     ]
    },
    {
     "name": "stderr",
     "output_type": "stream",
     "text": [
      "[I 2024-04-02 08:19:15,022] Trial 26 finished with value: 0.05280464684982308 and parameters: {'iterations': 295, 'learning_rate': 0.03342855939149773, 'depth': 6}. Best is trial 20 with value: 0.051794105970627315.\n"
     ]
    },
    {
     "name": "stderr",
     "output_type": "stream",
     "text": [
      "/tmp/ipykernel_637554/1172307581.py:4: FutureWarning: suggest_loguniform has been deprecated in v3.0.0. This feature will be removed in v6.0.0. See https://github.com/optuna/optuna/releases/tag/v3.0.0. Use suggest_float(..., log=True) instead.\n",
      "  'learning_rate': trial.suggest_loguniform('learning_rate', 0.005, 0.5),\n"
     ]
    },
    {
     "name": "stderr",
     "output_type": "stream",
     "text": [
      "[I 2024-04-02 08:19:18,672] Trial 27 finished with value: 0.056910320663960255 and parameters: {'iterations': 374, 'learning_rate': 0.05288695283578058, 'depth': 5}. Best is trial 20 with value: 0.051794105970627315.\n"
     ]
    },
    {
     "name": "stderr",
     "output_type": "stream",
     "text": [
      "/tmp/ipykernel_637554/1172307581.py:4: FutureWarning: suggest_loguniform has been deprecated in v3.0.0. This feature will be removed in v6.0.0. See https://github.com/optuna/optuna/releases/tag/v3.0.0. Use suggest_float(..., log=True) instead.\n",
      "  'learning_rate': trial.suggest_loguniform('learning_rate', 0.005, 0.5),\n"
     ]
    },
    {
     "name": "stderr",
     "output_type": "stream",
     "text": [
      "[I 2024-04-02 08:19:23,638] Trial 28 finished with value: 0.05420846128182766 and parameters: {'iterations': 264, 'learning_rate': 0.007362624352303174, 'depth': 7}. Best is trial 20 with value: 0.051794105970627315.\n"
     ]
    },
    {
     "name": "stderr",
     "output_type": "stream",
     "text": [
      "/tmp/ipykernel_637554/1172307581.py:4: FutureWarning: suggest_loguniform has been deprecated in v3.0.0. This feature will be removed in v6.0.0. See https://github.com/optuna/optuna/releases/tag/v3.0.0. Use suggest_float(..., log=True) instead.\n",
      "  'learning_rate': trial.suggest_loguniform('learning_rate', 0.005, 0.5),\n"
     ]
    },
    {
     "name": "stderr",
     "output_type": "stream",
     "text": [
      "[I 2024-04-02 08:19:39,190] Trial 29 finished with value: 0.053641161823778816 and parameters: {'iterations': 306, 'learning_rate': 0.04618823289780018, 'depth': 9}. Best is trial 20 with value: 0.051794105970627315.\n"
     ]
    },
    {
     "name": "stderr",
     "output_type": "stream",
     "text": [
      "/tmp/ipykernel_637554/1172307581.py:4: FutureWarning: suggest_loguniform has been deprecated in v3.0.0. This feature will be removed in v6.0.0. See https://github.com/optuna/optuna/releases/tag/v3.0.0. Use suggest_float(..., log=True) instead.\n",
      "  'learning_rate': trial.suggest_loguniform('learning_rate', 0.005, 0.5),\n"
     ]
    },
    {
     "name": "stderr",
     "output_type": "stream",
     "text": [
      "[I 2024-04-02 08:19:43,799] Trial 30 finished with value: 0.05241464177760019 and parameters: {'iterations': 341, 'learning_rate': 0.02612870016591502, 'depth': 6}. Best is trial 20 with value: 0.051794105970627315.\n"
     ]
    },
    {
     "name": "stderr",
     "output_type": "stream",
     "text": [
      "/tmp/ipykernel_637554/1172307581.py:4: FutureWarning: suggest_loguniform has been deprecated in v3.0.0. This feature will be removed in v6.0.0. See https://github.com/optuna/optuna/releases/tag/v3.0.0. Use suggest_float(..., log=True) instead.\n",
      "  'learning_rate': trial.suggest_loguniform('learning_rate', 0.005, 0.5),\n"
     ]
    },
    {
     "name": "stderr",
     "output_type": "stream",
     "text": [
      "[I 2024-04-02 08:19:49,531] Trial 31 finished with value: 0.051980362487710575 and parameters: {'iterations': 305, 'learning_rate': 0.016180105166767204, 'depth': 7}. Best is trial 20 with value: 0.051794105970627315.\n"
     ]
    },
    {
     "name": "stderr",
     "output_type": "stream",
     "text": [
      "/tmp/ipykernel_637554/1172307581.py:4: FutureWarning: suggest_loguniform has been deprecated in v3.0.0. This feature will be removed in v6.0.0. See https://github.com/optuna/optuna/releases/tag/v3.0.0. Use suggest_float(..., log=True) instead.\n",
      "  'learning_rate': trial.suggest_loguniform('learning_rate', 0.005, 0.5),\n"
     ]
    },
    {
     "name": "stderr",
     "output_type": "stream",
     "text": [
      "[I 2024-04-02 08:19:53,164] Trial 32 finished with value: 0.05205278269135899 and parameters: {'iterations': 378, 'learning_rate': 0.010365586649895784, 'depth': 5}. Best is trial 20 with value: 0.051794105970627315.\n"
     ]
    },
    {
     "name": "stderr",
     "output_type": "stream",
     "text": [
      "/tmp/ipykernel_637554/1172307581.py:4: FutureWarning: suggest_loguniform has been deprecated in v3.0.0. This feature will be removed in v6.0.0. See https://github.com/optuna/optuna/releases/tag/v3.0.0. Use suggest_float(..., log=True) instead.\n",
      "  'learning_rate': trial.suggest_loguniform('learning_rate', 0.005, 0.5),\n"
     ]
    },
    {
     "name": "stderr",
     "output_type": "stream",
     "text": [
      "[I 2024-04-02 08:19:55,807] Trial 33 finished with value: 0.05206807608069589 and parameters: {'iterations': 345, 'learning_rate': 0.016018935333605305, 'depth': 4}. Best is trial 20 with value: 0.051794105970627315.\n"
     ]
    },
    {
     "name": "stderr",
     "output_type": "stream",
     "text": [
      "/tmp/ipykernel_637554/1172307581.py:4: FutureWarning: suggest_loguniform has been deprecated in v3.0.0. This feature will be removed in v6.0.0. See https://github.com/optuna/optuna/releases/tag/v3.0.0. Use suggest_float(..., log=True) instead.\n",
      "  'learning_rate': trial.suggest_loguniform('learning_rate', 0.005, 0.5),\n"
     ]
    },
    {
     "name": "stderr",
     "output_type": "stream",
     "text": [
      "[I 2024-04-02 08:19:59,491] Trial 34 finished with value: 0.052257535166555805 and parameters: {'iterations': 185, 'learning_rate': 0.0163658289527105, 'depth': 7}. Best is trial 20 with value: 0.051794105970627315.\n"
     ]
    },
    {
     "name": "stderr",
     "output_type": "stream",
     "text": [
      "/tmp/ipykernel_637554/1172307581.py:4: FutureWarning: suggest_loguniform has been deprecated in v3.0.0. This feature will be removed in v6.0.0. See https://github.com/optuna/optuna/releases/tag/v3.0.0. Use suggest_float(..., log=True) instead.\n",
      "  'learning_rate': trial.suggest_loguniform('learning_rate', 0.005, 0.5),\n"
     ]
    },
    {
     "name": "stderr",
     "output_type": "stream",
     "text": [
      "[I 2024-04-02 08:20:03,720] Trial 35 finished with value: 0.06270016904929261 and parameters: {'iterations': 309, 'learning_rate': 0.2582337004689878, 'depth': 6}. Best is trial 20 with value: 0.051794105970627315.\n"
     ]
    },
    {
     "name": "stderr",
     "output_type": "stream",
     "text": [
      "/tmp/ipykernel_637554/1172307581.py:4: FutureWarning: suggest_loguniform has been deprecated in v3.0.0. This feature will be removed in v6.0.0. See https://github.com/optuna/optuna/releases/tag/v3.0.0. Use suggest_float(..., log=True) instead.\n",
      "  'learning_rate': trial.suggest_loguniform('learning_rate', 0.005, 0.5),\n"
     ]
    },
    {
     "name": "stderr",
     "output_type": "stream",
     "text": [
      "[I 2024-04-02 08:20:06,647] Trial 36 finished with value: 0.06334552371055513 and parameters: {'iterations': 90, 'learning_rate': 0.011574290601134567, 'depth': 8}. Best is trial 20 with value: 0.051794105970627315.\n"
     ]
    },
    {
     "name": "stderr",
     "output_type": "stream",
     "text": [
      "/tmp/ipykernel_637554/1172307581.py:4: FutureWarning: suggest_loguniform has been deprecated in v3.0.0. This feature will be removed in v6.0.0. See https://github.com/optuna/optuna/releases/tag/v3.0.0. Use suggest_float(..., log=True) instead.\n",
      "  'learning_rate': trial.suggest_loguniform('learning_rate', 0.005, 0.5),\n"
     ]
    },
    {
     "name": "stderr",
     "output_type": "stream",
     "text": [
      "[I 2024-04-02 08:20:10,133] Trial 37 finished with value: 0.052130774755019406 and parameters: {'iterations': 217, 'learning_rate': 0.02549085605657843, 'depth': 4}. Best is trial 20 with value: 0.051794105970627315.\n"
     ]
    },
    {
     "name": "stderr",
     "output_type": "stream",
     "text": [
      "/tmp/ipykernel_637554/1172307581.py:4: FutureWarning: suggest_loguniform has been deprecated in v3.0.0. This feature will be removed in v6.0.0. See https://github.com/optuna/optuna/releases/tag/v3.0.0. Use suggest_float(..., log=True) instead.\n",
      "  'learning_rate': trial.suggest_loguniform('learning_rate', 0.005, 0.5),\n"
     ]
    },
    {
     "name": "stderr",
     "output_type": "stream",
     "text": [
      "[I 2024-04-02 08:20:20,133] Trial 38 finished with value: 0.052673650191336574 and parameters: {'iterations': 350, 'learning_rate': 0.007223566370281164, 'depth': 8}. Best is trial 20 with value: 0.051794105970627315.\n"
     ]
    },
    {
     "name": "stderr",
     "output_type": "stream",
     "text": [
      "/tmp/ipykernel_637554/1172307581.py:4: FutureWarning: suggest_loguniform has been deprecated in v3.0.0. This feature will be removed in v6.0.0. See https://github.com/optuna/optuna/releases/tag/v3.0.0. Use suggest_float(..., log=True) instead.\n",
      "  'learning_rate': trial.suggest_loguniform('learning_rate', 0.005, 0.5),\n"
     ]
    },
    {
     "name": "stderr",
     "output_type": "stream",
     "text": [
      "[I 2024-04-02 08:20:25,284] Trial 39 finished with value: 0.055938512514879656 and parameters: {'iterations': 382, 'learning_rate': 0.08553197088981869, 'depth': 6}. Best is trial 20 with value: 0.051794105970627315.\n"
     ]
    },
    {
     "name": "stderr",
     "output_type": "stream",
     "text": [
      "/tmp/ipykernel_637554/1172307581.py:4: FutureWarning: suggest_loguniform has been deprecated in v3.0.0. This feature will be removed in v6.0.0. See https://github.com/optuna/optuna/releases/tag/v3.0.0. Use suggest_float(..., log=True) instead.\n",
      "  'learning_rate': trial.suggest_loguniform('learning_rate', 0.005, 0.5),\n"
     ]
    },
    {
     "name": "stderr",
     "output_type": "stream",
     "text": [
      "[I 2024-04-02 08:20:28,605] Trial 40 finished with value: 0.054197829797350175 and parameters: {'iterations': 331, 'learning_rate': 0.04442505462439355, 'depth': 5}. Best is trial 20 with value: 0.051794105970627315.\n"
     ]
    },
    {
     "name": "stderr",
     "output_type": "stream",
     "text": [
      "/tmp/ipykernel_637554/1172307581.py:4: FutureWarning: suggest_loguniform has been deprecated in v3.0.0. This feature will be removed in v6.0.0. See https://github.com/optuna/optuna/releases/tag/v3.0.0. Use suggest_float(..., log=True) instead.\n",
      "  'learning_rate': trial.suggest_loguniform('learning_rate', 0.005, 0.5),\n"
     ]
    },
    {
     "name": "stderr",
     "output_type": "stream",
     "text": [
      "[I 2024-04-02 08:20:34,709] Trial 41 finished with value: 0.051861056915319316 and parameters: {'iterations': 289, 'learning_rate': 0.013311196921552762, 'depth': 7}. Best is trial 20 with value: 0.051794105970627315.\n"
     ]
    },
    {
     "name": "stderr",
     "output_type": "stream",
     "text": [
      "/tmp/ipykernel_637554/1172307581.py:4: FutureWarning: suggest_loguniform has been deprecated in v3.0.0. This feature will be removed in v6.0.0. See https://github.com/optuna/optuna/releases/tag/v3.0.0. Use suggest_float(..., log=True) instead.\n",
      "  'learning_rate': trial.suggest_loguniform('learning_rate', 0.005, 0.5),\n"
     ]
    },
    {
     "name": "stderr",
     "output_type": "stream",
     "text": [
      "[I 2024-04-02 08:21:00,706] Trial 42 finished with value: 0.05237467745939436 and parameters: {'iterations': 261, 'learning_rate': 0.011554124362842083, 'depth': 10}. Best is trial 20 with value: 0.051794105970627315.\n"
     ]
    },
    {
     "name": "stderr",
     "output_type": "stream",
     "text": [
      "/tmp/ipykernel_637554/1172307581.py:4: FutureWarning: suggest_loguniform has been deprecated in v3.0.0. This feature will be removed in v6.0.0. See https://github.com/optuna/optuna/releases/tag/v3.0.0. Use suggest_float(..., log=True) instead.\n",
      "  'learning_rate': trial.suggest_loguniform('learning_rate', 0.005, 0.5),\n"
     ]
    },
    {
     "name": "stderr",
     "output_type": "stream",
     "text": [
      "[I 2024-04-02 08:21:09,645] Trial 43 finished with value: 0.05230946426586743 and parameters: {'iterations': 306, 'learning_rate': 0.020669435769285597, 'depth': 8}. Best is trial 20 with value: 0.051794105970627315.\n"
     ]
    },
    {
     "name": "stderr",
     "output_type": "stream",
     "text": [
      "/tmp/ipykernel_637554/1172307581.py:4: FutureWarning: suggest_loguniform has been deprecated in v3.0.0. This feature will be removed in v6.0.0. See https://github.com/optuna/optuna/releases/tag/v3.0.0. Use suggest_float(..., log=True) instead.\n",
      "  'learning_rate': trial.suggest_loguniform('learning_rate', 0.005, 0.5),\n"
     ]
    },
    {
     "name": "stderr",
     "output_type": "stream",
     "text": [
      "[I 2024-04-02 08:21:12,962] Trial 44 finished with value: 0.051964989541066244 and parameters: {'iterations': 238, 'learning_rate': 0.013502412062090383, 'depth': 6}. Best is trial 20 with value: 0.051794105970627315.\n"
     ]
    },
    {
     "name": "stderr",
     "output_type": "stream",
     "text": [
      "/tmp/ipykernel_637554/1172307581.py:4: FutureWarning: suggest_loguniform has been deprecated in v3.0.0. This feature will be removed in v6.0.0. See https://github.com/optuna/optuna/releases/tag/v3.0.0. Use suggest_float(..., log=True) instead.\n",
      "  'learning_rate': trial.suggest_loguniform('learning_rate', 0.005, 0.5),\n"
     ]
    },
    {
     "name": "stderr",
     "output_type": "stream",
     "text": [
      "[I 2024-04-02 08:21:18,250] Trial 45 finished with value: 0.05214517170779483 and parameters: {'iterations': 238, 'learning_rate': 0.01304051915490523, 'depth': 5}. Best is trial 20 with value: 0.051794105970627315.\n"
     ]
    },
    {
     "name": "stderr",
     "output_type": "stream",
     "text": [
      "/tmp/ipykernel_637554/1172307581.py:4: FutureWarning: suggest_loguniform has been deprecated in v3.0.0. This feature will be removed in v6.0.0. See https://github.com/optuna/optuna/releases/tag/v3.0.0. Use suggest_float(..., log=True) instead.\n",
      "  'learning_rate': trial.suggest_loguniform('learning_rate', 0.005, 0.5),\n"
     ]
    },
    {
     "name": "stderr",
     "output_type": "stream",
     "text": [
      "[I 2024-04-02 08:21:20,930] Trial 46 finished with value: 0.059815009315771425 and parameters: {'iterations': 193, 'learning_rate': 0.006346703090769973, 'depth': 6}. Best is trial 20 with value: 0.051794105970627315.\n"
     ]
    },
    {
     "name": "stderr",
     "output_type": "stream",
     "text": [
      "/tmp/ipykernel_637554/1172307581.py:4: FutureWarning: suggest_loguniform has been deprecated in v3.0.0. This feature will be removed in v6.0.0. See https://github.com/optuna/optuna/releases/tag/v3.0.0. Use suggest_float(..., log=True) instead.\n",
      "  'learning_rate': trial.suggest_loguniform('learning_rate', 0.005, 0.5),\n"
     ]
    },
    {
     "name": "stderr",
     "output_type": "stream",
     "text": [
      "[I 2024-04-02 08:21:22,831] Trial 47 finished with value: 0.06460418232533728 and parameters: {'iterations': 224, 'learning_rate': 0.47078808075388906, 'depth': 4}. Best is trial 20 with value: 0.051794105970627315.\n"
     ]
    },
    {
     "name": "stderr",
     "output_type": "stream",
     "text": [
      "/tmp/ipykernel_637554/1172307581.py:4: FutureWarning: suggest_loguniform has been deprecated in v3.0.0. This feature will be removed in v6.0.0. See https://github.com/optuna/optuna/releases/tag/v3.0.0. Use suggest_float(..., log=True) instead.\n",
      "  'learning_rate': trial.suggest_loguniform('learning_rate', 0.005, 0.5),\n"
     ]
    },
    {
     "name": "stderr",
     "output_type": "stream",
     "text": [
      "[I 2024-04-02 08:21:24,513] Trial 48 finished with value: 0.052464198761960644 and parameters: {'iterations': 146, 'learning_rate': 0.0184864213197, 'depth': 5}. Best is trial 20 with value: 0.051794105970627315.\n"
     ]
    },
    {
     "name": "stderr",
     "output_type": "stream",
     "text": [
      "/tmp/ipykernel_637554/1172307581.py:4: FutureWarning: suggest_loguniform has been deprecated in v3.0.0. This feature will be removed in v6.0.0. See https://github.com/optuna/optuna/releases/tag/v3.0.0. Use suggest_float(..., log=True) instead.\n",
      "  'learning_rate': trial.suggest_loguniform('learning_rate', 0.005, 0.5),\n"
     ]
    },
    {
     "name": "stderr",
     "output_type": "stream",
     "text": [
      "[I 2024-04-02 08:23:51,390] Trial 49 finished with value: 0.05578278313017208 and parameters: {'iterations': 251, 'learning_rate': 0.008784656818468932, 'depth': 13}. Best is trial 20 with value: 0.051794105970627315.\n"
     ]
    },
    {
     "name": "stderr",
     "output_type": "stream",
     "text": [
      "/tmp/ipykernel_637554/1172307581.py:4: FutureWarning: suggest_loguniform has been deprecated in v3.0.0. This feature will be removed in v6.0.0. See https://github.com/optuna/optuna/releases/tag/v3.0.0. Use suggest_float(..., log=True) instead.\n",
      "  'learning_rate': trial.suggest_loguniform('learning_rate', 0.005, 0.5),\n"
     ]
    },
    {
     "name": "stderr",
     "output_type": "stream",
     "text": [
      "[I 2024-04-02 08:23:53,743] Trial 50 finished with value: 0.05238945733848306 and parameters: {'iterations': 266, 'learning_rate': 0.010720839033332158, 'depth': 4}. Best is trial 20 with value: 0.051794105970627315.\n"
     ]
    },
    {
     "name": "stderr",
     "output_type": "stream",
     "text": [
      "/tmp/ipykernel_637554/1172307581.py:4: FutureWarning: suggest_loguniform has been deprecated in v3.0.0. This feature will be removed in v6.0.0. See https://github.com/optuna/optuna/releases/tag/v3.0.0. Use suggest_float(..., log=True) instead.\n",
      "  'learning_rate': trial.suggest_loguniform('learning_rate', 0.005, 0.5),\n"
     ]
    },
    {
     "name": "stderr",
     "output_type": "stream",
     "text": [
      "[I 2024-04-02 08:23:59,814] Trial 51 finished with value: 0.05176424166894191 and parameters: {'iterations': 321, 'learning_rate': 0.013915924431761565, 'depth': 7}. Best is trial 51 with value: 0.05176424166894191.\n"
     ]
    },
    {
     "name": "stderr",
     "output_type": "stream",
     "text": [
      "/tmp/ipykernel_637554/1172307581.py:4: FutureWarning: suggest_loguniform has been deprecated in v3.0.0. This feature will be removed in v6.0.0. See https://github.com/optuna/optuna/releases/tag/v3.0.0. Use suggest_float(..., log=True) instead.\n",
      "  'learning_rate': trial.suggest_loguniform('learning_rate', 0.005, 0.5),\n"
     ]
    },
    {
     "name": "stderr",
     "output_type": "stream",
     "text": [
      "[I 2024-04-02 08:24:05,362] Trial 52 finished with value: 0.051630100051109164 and parameters: {'iterations': 322, 'learning_rate': 0.013221317312873428, 'depth': 6}. Best is trial 52 with value: 0.051630100051109164.\n"
     ]
    },
    {
     "name": "stderr",
     "output_type": "stream",
     "text": [
      "/tmp/ipykernel_637554/1172307581.py:4: FutureWarning: suggest_loguniform has been deprecated in v3.0.0. This feature will be removed in v6.0.0. See https://github.com/optuna/optuna/releases/tag/v3.0.0. Use suggest_float(..., log=True) instead.\n",
      "  'learning_rate': trial.suggest_loguniform('learning_rate', 0.005, 0.5),\n"
     ]
    },
    {
     "name": "stderr",
     "output_type": "stream",
     "text": [
      "[I 2024-04-02 08:24:09,699] Trial 53 finished with value: 0.05219964684688137 and parameters: {'iterations': 324, 'learning_rate': 0.02814851100559776, 'depth': 6}. Best is trial 52 with value: 0.051630100051109164.\n"
     ]
    },
    {
     "name": "stderr",
     "output_type": "stream",
     "text": [
      "/tmp/ipykernel_637554/1172307581.py:4: FutureWarning: suggest_loguniform has been deprecated in v3.0.0. This feature will be removed in v6.0.0. See https://github.com/optuna/optuna/releases/tag/v3.0.0. Use suggest_float(..., log=True) instead.\n",
      "  'learning_rate': trial.suggest_loguniform('learning_rate', 0.005, 0.5),\n"
     ]
    },
    {
     "name": "stderr",
     "output_type": "stream",
     "text": [
      "[I 2024-04-02 08:24:20,191] Trial 54 finished with value: 0.052325020897260675 and parameters: {'iterations': 356, 'learning_rate': 0.02154654851982756, 'depth': 8}. Best is trial 52 with value: 0.051630100051109164.\n"
     ]
    },
    {
     "name": "stderr",
     "output_type": "stream",
     "text": [
      "/tmp/ipykernel_637554/1172307581.py:4: FutureWarning: suggest_loguniform has been deprecated in v3.0.0. This feature will be removed in v6.0.0. See https://github.com/optuna/optuna/releases/tag/v3.0.0. Use suggest_float(..., log=True) instead.\n",
      "  'learning_rate': trial.suggest_loguniform('learning_rate', 0.005, 0.5),\n"
     ]
    },
    {
     "name": "stderr",
     "output_type": "stream",
     "text": [
      "[I 2024-04-02 08:24:27,568] Trial 55 finished with value: 0.051765794545978315 and parameters: {'iterations': 391, 'learning_rate': 0.013923184018904168, 'depth': 7}. Best is trial 52 with value: 0.051630100051109164.\n"
     ]
    },
    {
     "name": "stderr",
     "output_type": "stream",
     "text": [
      "/tmp/ipykernel_637554/1172307581.py:4: FutureWarning: suggest_loguniform has been deprecated in v3.0.0. This feature will be removed in v6.0.0. See https://github.com/optuna/optuna/releases/tag/v3.0.0. Use suggest_float(..., log=True) instead.\n",
      "  'learning_rate': trial.suggest_loguniform('learning_rate', 0.005, 0.5),\n"
     ]
    },
    {
     "name": "stderr",
     "output_type": "stream",
     "text": [
      "[I 2024-04-02 08:24:47,785] Trial 56 finished with value: 0.051907862025980966 and parameters: {'iterations': 390, 'learning_rate': 0.014050922346936123, 'depth': 9}. Best is trial 52 with value: 0.051630100051109164.\n"
     ]
    },
    {
     "name": "stderr",
     "output_type": "stream",
     "text": [
      "/tmp/ipykernel_637554/1172307581.py:4: FutureWarning: suggest_loguniform has been deprecated in v3.0.0. This feature will be removed in v6.0.0. See https://github.com/optuna/optuna/releases/tag/v3.0.0. Use suggest_float(..., log=True) instead.\n",
      "  'learning_rate': trial.suggest_loguniform('learning_rate', 0.005, 0.5),\n"
     ]
    },
    {
     "name": "stderr",
     "output_type": "stream",
     "text": [
      "[I 2024-04-02 08:24:54,813] Trial 57 finished with value: 0.05243314574118953 and parameters: {'iterations': 367, 'learning_rate': 0.01839516106063183, 'depth': 7}. Best is trial 52 with value: 0.051630100051109164.\n"
     ]
    },
    {
     "name": "stderr",
     "output_type": "stream",
     "text": [
      "/tmp/ipykernel_637554/1172307581.py:4: FutureWarning: suggest_loguniform has been deprecated in v3.0.0. This feature will be removed in v6.0.0. See https://github.com/optuna/optuna/releases/tag/v3.0.0. Use suggest_float(..., log=True) instead.\n",
      "  'learning_rate': trial.suggest_loguniform('learning_rate', 0.005, 0.5),\n"
     ]
    },
    {
     "name": "stderr",
     "output_type": "stream",
     "text": [
      "[I 2024-04-02 08:25:00,483] Trial 58 finished with value: 0.05224690441030021 and parameters: {'iterations': 292, 'learning_rate': 0.010165470434016685, 'depth': 7}. Best is trial 52 with value: 0.051630100051109164.\n"
     ]
    },
    {
     "name": "stderr",
     "output_type": "stream",
     "text": [
      "/tmp/ipykernel_637554/1172307581.py:4: FutureWarning: suggest_loguniform has been deprecated in v3.0.0. This feature will be removed in v6.0.0. See https://github.com/optuna/optuna/releases/tag/v3.0.0. Use suggest_float(..., log=True) instead.\n",
      "  'learning_rate': trial.suggest_loguniform('learning_rate', 0.005, 0.5),\n"
     ]
    },
    {
     "name": "stderr",
     "output_type": "stream",
     "text": [
      "[I 2024-04-02 08:25:13,271] Trial 59 finished with value: 0.05266093463884948 and parameters: {'iterations': 399, 'learning_rate': 0.0063041754987725514, 'depth': 8}. Best is trial 52 with value: 0.051630100051109164.\n"
     ]
    },
    {
     "name": "stderr",
     "output_type": "stream",
     "text": [
      "/tmp/ipykernel_637554/1172307581.py:4: FutureWarning: suggest_loguniform has been deprecated in v3.0.0. This feature will be removed in v6.0.0. See https://github.com/optuna/optuna/releases/tag/v3.0.0. Use suggest_float(..., log=True) instead.\n",
      "  'learning_rate': trial.suggest_loguniform('learning_rate', 0.005, 0.5),\n"
     ]
    },
    {
     "name": "stderr",
     "output_type": "stream",
     "text": [
      "[I 2024-04-02 08:25:19,681] Trial 60 finished with value: 0.05235907964860933 and parameters: {'iterations': 337, 'learning_rate': 0.008117944599319657, 'depth': 7}. Best is trial 52 with value: 0.051630100051109164.\n"
     ]
    },
    {
     "name": "stderr",
     "output_type": "stream",
     "text": [
      "/tmp/ipykernel_637554/1172307581.py:4: FutureWarning: suggest_loguniform has been deprecated in v3.0.0. This feature will be removed in v6.0.0. See https://github.com/optuna/optuna/releases/tag/v3.0.0. Use suggest_float(..., log=True) instead.\n",
      "  'learning_rate': trial.suggest_loguniform('learning_rate', 0.005, 0.5),\n"
     ]
    },
    {
     "name": "stderr",
     "output_type": "stream",
     "text": [
      "[I 2024-04-02 08:25:54,222] Trial 61 finished with value: 0.05171532749491151 and parameters: {'iterations': 383, 'learning_rate': 0.015471097603613974, 'depth': 10}. Best is trial 52 with value: 0.051630100051109164.\n"
     ]
    },
    {
     "name": "stderr",
     "output_type": "stream",
     "text": [
      "/tmp/ipykernel_637554/1172307581.py:4: FutureWarning: suggest_loguniform has been deprecated in v3.0.0. This feature will be removed in v6.0.0. See https://github.com/optuna/optuna/releases/tag/v3.0.0. Use suggest_float(..., log=True) instead.\n",
      "  'learning_rate': trial.suggest_loguniform('learning_rate', 0.005, 0.5),\n"
     ]
    },
    {
     "name": "stderr",
     "output_type": "stream",
     "text": [
      "[I 2024-04-02 08:26:29,523] Trial 62 finished with value: 0.052460931838122525 and parameters: {'iterations': 386, 'learning_rate': 0.023644731317872997, 'depth': 10}. Best is trial 52 with value: 0.051630100051109164.\n"
     ]
    },
    {
     "name": "stderr",
     "output_type": "stream",
     "text": [
      "/tmp/ipykernel_637554/1172307581.py:4: FutureWarning: suggest_loguniform has been deprecated in v3.0.0. This feature will be removed in v6.0.0. See https://github.com/optuna/optuna/releases/tag/v3.0.0. Use suggest_float(..., log=True) instead.\n",
      "  'learning_rate': trial.suggest_loguniform('learning_rate', 0.005, 0.5),\n"
     ]
    },
    {
     "name": "stderr",
     "output_type": "stream",
     "text": [
      "[I 2024-04-02 08:27:31,202] Trial 63 finished with value: 0.052627220187655754 and parameters: {'iterations': 360, 'learning_rate': 0.029929932906542264, 'depth': 11}. Best is trial 52 with value: 0.051630100051109164.\n"
     ]
    },
    {
     "name": "stderr",
     "output_type": "stream",
     "text": [
      "/tmp/ipykernel_637554/1172307581.py:4: FutureWarning: suggest_loguniform has been deprecated in v3.0.0. This feature will be removed in v6.0.0. See https://github.com/optuna/optuna/releases/tag/v3.0.0. Use suggest_float(..., log=True) instead.\n",
      "  'learning_rate': trial.suggest_loguniform('learning_rate', 0.005, 0.5),\n"
     ]
    },
    {
     "name": "stderr",
     "output_type": "stream",
     "text": [
      "[I 2024-04-02 08:27:46,783] Trial 64 finished with value: 0.05151694436417945 and parameters: {'iterations': 317, 'learning_rate': 0.012105132480904755, 'depth': 9}. Best is trial 64 with value: 0.05151694436417945.\n"
     ]
    },
    {
     "name": "stderr",
     "output_type": "stream",
     "text": [
      "/tmp/ipykernel_637554/1172307581.py:4: FutureWarning: suggest_loguniform has been deprecated in v3.0.0. This feature will be removed in v6.0.0. See https://github.com/optuna/optuna/releases/tag/v3.0.0. Use suggest_float(..., log=True) instead.\n",
      "  'learning_rate': trial.suggest_loguniform('learning_rate', 0.005, 0.5),\n"
     ]
    },
    {
     "name": "stderr",
     "output_type": "stream",
     "text": [
      "[I 2024-04-02 08:28:15,660] Trial 65 finished with value: 0.05185796977028191 and parameters: {'iterations': 321, 'learning_rate': 0.012444065566808568, 'depth': 10}. Best is trial 64 with value: 0.05151694436417945.\n"
     ]
    },
    {
     "name": "stderr",
     "output_type": "stream",
     "text": [
      "/tmp/ipykernel_637554/1172307581.py:4: FutureWarning: suggest_loguniform has been deprecated in v3.0.0. This feature will be removed in v6.0.0. See https://github.com/optuna/optuna/releases/tag/v3.0.0. Use suggest_float(..., log=True) instead.\n",
      "  'learning_rate': trial.suggest_loguniform('learning_rate', 0.005, 0.5),\n"
     ]
    },
    {
     "name": "stderr",
     "output_type": "stream",
     "text": [
      "[I 2024-04-02 08:28:43,698] Trial 66 finished with value: 0.05720923404601328 and parameters: {'iterations': 318, 'learning_rate': 0.0050266893361484545, 'depth': 10}. Best is trial 64 with value: 0.05151694436417945.\n"
     ]
    },
    {
     "name": "stderr",
     "output_type": "stream",
     "text": [
      "/tmp/ipykernel_637554/1172307581.py:4: FutureWarning: suggest_loguniform has been deprecated in v3.0.0. This feature will be removed in v6.0.0. See https://github.com/optuna/optuna/releases/tag/v3.0.0. Use suggest_float(..., log=True) instead.\n",
      "  'learning_rate': trial.suggest_loguniform('learning_rate', 0.005, 0.5),\n"
     ]
    },
    {
     "name": "stderr",
     "output_type": "stream",
     "text": [
      "[I 2024-04-02 08:29:46,344] Trial 67 finished with value: 0.05255665290419971 and parameters: {'iterations': 374, 'learning_rate': 0.00960671349458524, 'depth': 11}. Best is trial 64 with value: 0.05151694436417945.\n"
     ]
    },
    {
     "name": "stderr",
     "output_type": "stream",
     "text": [
      "/tmp/ipykernel_637554/1172307581.py:4: FutureWarning: suggest_loguniform has been deprecated in v3.0.0. This feature will be removed in v6.0.0. See https://github.com/optuna/optuna/releases/tag/v3.0.0. Use suggest_float(..., log=True) instead.\n",
      "  'learning_rate': trial.suggest_loguniform('learning_rate', 0.005, 0.5),\n"
     ]
    },
    {
     "name": "stderr",
     "output_type": "stream",
     "text": [
      "[I 2024-04-02 08:31:13,893] Trial 68 finished with value: 0.0524785213092913 and parameters: {'iterations': 276, 'learning_rate': 0.018624068763804888, 'depth': 12}. Best is trial 64 with value: 0.05151694436417945.\n"
     ]
    },
    {
     "name": "stderr",
     "output_type": "stream",
     "text": [
      "/tmp/ipykernel_637554/1172307581.py:4: FutureWarning: suggest_loguniform has been deprecated in v3.0.0. This feature will be removed in v6.0.0. See https://github.com/optuna/optuna/releases/tag/v3.0.0. Use suggest_float(..., log=True) instead.\n",
      "  'learning_rate': trial.suggest_loguniform('learning_rate', 0.005, 0.5),\n"
     ]
    },
    {
     "name": "stderr",
     "output_type": "stream",
     "text": [
      "[I 2024-04-02 08:31:45,935] Trial 69 finished with value: 0.056404542897502685 and parameters: {'iterations': 341, 'learning_rate': 0.16058344871883515, 'depth': 10}. Best is trial 64 with value: 0.05151694436417945.\n"
     ]
    },
    {
     "name": "stderr",
     "output_type": "stream",
     "text": [
      "/tmp/ipykernel_637554/1172307581.py:4: FutureWarning: suggest_loguniform has been deprecated in v3.0.0. This feature will be removed in v6.0.0. See https://github.com/optuna/optuna/releases/tag/v3.0.0. Use suggest_float(..., log=True) instead.\n",
      "  'learning_rate': trial.suggest_loguniform('learning_rate', 0.005, 0.5),\n"
     ]
    },
    {
     "name": "stderr",
     "output_type": "stream",
     "text": [
      "[I 2024-04-02 08:32:01,864] Trial 70 finished with value: 0.05206708217899901 and parameters: {'iterations': 327, 'learning_rate': 0.011825513766962803, 'depth': 9}. Best is trial 64 with value: 0.05151694436417945.\n"
     ]
    },
    {
     "name": "stderr",
     "output_type": "stream",
     "text": [
      "/tmp/ipykernel_637554/1172307581.py:4: FutureWarning: suggest_loguniform has been deprecated in v3.0.0. This feature will be removed in v6.0.0. See https://github.com/optuna/optuna/releases/tag/v3.0.0. Use suggest_float(..., log=True) instead.\n",
      "  'learning_rate': trial.suggest_loguniform('learning_rate', 0.005, 0.5),\n"
     ]
    },
    {
     "name": "stderr",
     "output_type": "stream",
     "text": [
      "[I 2024-04-02 08:32:17,437] Trial 71 finished with value: 0.05196156261480868 and parameters: {'iterations': 314, 'learning_rate': 0.01507537071517013, 'depth': 9}. Best is trial 64 with value: 0.05151694436417945.\n"
     ]
    },
    {
     "name": "stderr",
     "output_type": "stream",
     "text": [
      "/tmp/ipykernel_637554/1172307581.py:4: FutureWarning: suggest_loguniform has been deprecated in v3.0.0. This feature will be removed in v6.0.0. See https://github.com/optuna/optuna/releases/tag/v3.0.0. Use suggest_float(..., log=True) instead.\n",
      "  'learning_rate': trial.suggest_loguniform('learning_rate', 0.005, 0.5),\n"
     ]
    },
    {
     "name": "stderr",
     "output_type": "stream",
     "text": [
      "[I 2024-04-02 08:32:44,413] Trial 72 finished with value: 0.05237053703012098 and parameters: {'iterations': 297, 'learning_rate': 0.012656775413128827, 'depth': 10}. Best is trial 64 with value: 0.05151694436417945.\n"
     ]
    },
    {
     "name": "stderr",
     "output_type": "stream",
     "text": [
      "/tmp/ipykernel_637554/1172307581.py:4: FutureWarning: suggest_loguniform has been deprecated in v3.0.0. This feature will be removed in v6.0.0. See https://github.com/optuna/optuna/releases/tag/v3.0.0. Use suggest_float(..., log=True) instead.\n",
      "  'learning_rate': trial.suggest_loguniform('learning_rate', 0.005, 0.5),\n"
     ]
    },
    {
     "name": "stderr",
     "output_type": "stream",
     "text": [
      "[I 2024-04-02 08:34:40,089] Trial 73 finished with value: 0.052360204042682434 and parameters: {'iterations': 355, 'learning_rate': 0.014648221860442037, 'depth': 12}. Best is trial 64 with value: 0.05151694436417945.\n"
     ]
    },
    {
     "name": "stderr",
     "output_type": "stream",
     "text": [
      "/tmp/ipykernel_637554/1172307581.py:4: FutureWarning: suggest_loguniform has been deprecated in v3.0.0. This feature will be removed in v6.0.0. See https://github.com/optuna/optuna/releases/tag/v3.0.0. Use suggest_float(..., log=True) instead.\n",
      "  'learning_rate': trial.suggest_loguniform('learning_rate', 0.005, 0.5),\n"
     ]
    },
    {
     "name": "stderr",
     "output_type": "stream",
     "text": [
      "[I 2024-04-02 08:34:53,394] Trial 74 finished with value: 0.05340990866389922 and parameters: {'iterations': 277, 'learning_rate': 0.008334662006455378, 'depth': 9}. Best is trial 64 with value: 0.05151694436417945.\n"
     ]
    },
    {
     "name": "stderr",
     "output_type": "stream",
     "text": [
      "/tmp/ipykernel_637554/1172307581.py:4: FutureWarning: suggest_loguniform has been deprecated in v3.0.0. This feature will be removed in v6.0.0. See https://github.com/optuna/optuna/releases/tag/v3.0.0. Use suggest_float(..., log=True) instead.\n",
      "  'learning_rate': trial.suggest_loguniform('learning_rate', 0.005, 0.5),\n"
     ]
    },
    {
     "name": "stderr",
     "output_type": "stream",
     "text": [
      "[I 2024-04-02 08:35:03,950] Trial 75 finished with value: 0.0528782164221329 and parameters: {'iterations': 368, 'learning_rate': 0.007111483824077428, 'depth': 8}. Best is trial 64 with value: 0.05151694436417945.\n"
     ]
    },
    {
     "name": "stderr",
     "output_type": "stream",
     "text": [
      "/tmp/ipykernel_637554/1172307581.py:4: FutureWarning: suggest_loguniform has been deprecated in v3.0.0. This feature will be removed in v6.0.0. See https://github.com/optuna/optuna/releases/tag/v3.0.0. Use suggest_float(..., log=True) instead.\n",
      "  'learning_rate': trial.suggest_loguniform('learning_rate', 0.005, 0.5),\n"
     ]
    },
    {
     "name": "stderr",
     "output_type": "stream",
     "text": [
      "[I 2024-04-02 08:36:47,226] Trial 76 finished with value: 0.05304295691535227 and parameters: {'iterations': 334, 'learning_rate': 0.01078720796854604, 'depth': 12}. Best is trial 64 with value: 0.05151694436417945.\n"
     ]
    },
    {
     "name": "stderr",
     "output_type": "stream",
     "text": [
      "/tmp/ipykernel_637554/1172307581.py:4: FutureWarning: suggest_loguniform has been deprecated in v3.0.0. This feature will be removed in v6.0.0. See https://github.com/optuna/optuna/releases/tag/v3.0.0. Use suggest_float(..., log=True) instead.\n",
      "  'learning_rate': trial.suggest_loguniform('learning_rate', 0.005, 0.5),\n"
     ]
    },
    {
     "name": "stderr",
     "output_type": "stream",
     "text": [
      "[I 2024-04-02 08:36:54,297] Trial 77 finished with value: 0.05206513667966921 and parameters: {'iterations': 301, 'learning_rate': 0.017977386139521857, 'depth': 7}. Best is trial 64 with value: 0.05151694436417945.\n"
     ]
    },
    {
     "name": "stderr",
     "output_type": "stream",
     "text": [
      "/tmp/ipykernel_637554/1172307581.py:4: FutureWarning: suggest_loguniform has been deprecated in v3.0.0. This feature will be removed in v6.0.0. See https://github.com/optuna/optuna/releases/tag/v3.0.0. Use suggest_float(..., log=True) instead.\n",
      "  'learning_rate': trial.suggest_loguniform('learning_rate', 0.005, 0.5),\n"
     ]
    },
    {
     "name": "stderr",
     "output_type": "stream",
     "text": [
      "[I 2024-04-02 08:37:58,233] Trial 78 finished with value: 0.05307307829846948 and parameters: {'iterations': 381, 'learning_rate': 0.023285388372893494, 'depth': 11}. Best is trial 64 with value: 0.05151694436417945.\n"
     ]
    },
    {
     "name": "stderr",
     "output_type": "stream",
     "text": [
      "/tmp/ipykernel_637554/1172307581.py:4: FutureWarning: suggest_loguniform has been deprecated in v3.0.0. This feature will be removed in v6.0.0. See https://github.com/optuna/optuna/releases/tag/v3.0.0. Use suggest_float(..., log=True) instead.\n",
      "  'learning_rate': trial.suggest_loguniform('learning_rate', 0.005, 0.5),\n"
     ]
    },
    {
     "name": "stderr",
     "output_type": "stream",
     "text": [
      "[I 2024-04-02 08:38:24,204] Trial 79 finished with value: 0.052595669780217166 and parameters: {'iterations': 285, 'learning_rate': 0.038686394372308676, 'depth': 10}. Best is trial 64 with value: 0.05151694436417945.\n"
     ]
    },
    {
     "name": "stderr",
     "output_type": "stream",
     "text": [
      "/tmp/ipykernel_637554/1172307581.py:4: FutureWarning: suggest_loguniform has been deprecated in v3.0.0. This feature will be removed in v6.0.0. See https://github.com/optuna/optuna/releases/tag/v3.0.0. Use suggest_float(..., log=True) instead.\n",
      "  'learning_rate': trial.suggest_loguniform('learning_rate', 0.005, 0.5),\n"
     ]
    },
    {
     "name": "stderr",
     "output_type": "stream",
     "text": [
      "[I 2024-04-02 08:38:35,393] Trial 80 finished with value: 0.051921382090474866 and parameters: {'iterations': 348, 'learning_rate': 0.011620237785763824, 'depth': 8}. Best is trial 64 with value: 0.05151694436417945.\n"
     ]
    },
    {
     "name": "stderr",
     "output_type": "stream",
     "text": [
      "/tmp/ipykernel_637554/1172307581.py:4: FutureWarning: suggest_loguniform has been deprecated in v3.0.0. This feature will be removed in v6.0.0. See https://github.com/optuna/optuna/releases/tag/v3.0.0. Use suggest_float(..., log=True) instead.\n",
      "  'learning_rate': trial.suggest_loguniform('learning_rate', 0.005, 0.5),\n"
     ]
    },
    {
     "name": "stderr",
     "output_type": "stream",
     "text": [
      "[I 2024-04-02 08:38:39,856] Trial 81 finished with value: 0.05182699583493992 and parameters: {'iterations': 318, 'learning_rate': 0.015032313047646954, 'depth': 6}. Best is trial 64 with value: 0.05151694436417945.\n"
     ]
    },
    {
     "name": "stderr",
     "output_type": "stream",
     "text": [
      "/tmp/ipykernel_637554/1172307581.py:4: FutureWarning: suggest_loguniform has been deprecated in v3.0.0. This feature will be removed in v6.0.0. See https://github.com/optuna/optuna/releases/tag/v3.0.0. Use suggest_float(..., log=True) instead.\n",
      "  'learning_rate': trial.suggest_loguniform('learning_rate', 0.005, 0.5),\n"
     ]
    },
    {
     "name": "stderr",
     "output_type": "stream",
     "text": [
      "[I 2024-04-02 08:38:44,134] Trial 82 finished with value: 0.051616551268089506 and parameters: {'iterations': 317, 'learning_rate': 0.013283932783869528, 'depth': 6}. Best is trial 64 with value: 0.05151694436417945.\n"
     ]
    },
    {
     "name": "stderr",
     "output_type": "stream",
     "text": [
      "/tmp/ipykernel_637554/1172307581.py:4: FutureWarning: suggest_loguniform has been deprecated in v3.0.0. This feature will be removed in v6.0.0. See https://github.com/optuna/optuna/releases/tag/v3.0.0. Use suggest_float(..., log=True) instead.\n",
      "  'learning_rate': trial.suggest_loguniform('learning_rate', 0.005, 0.5),\n"
     ]
    },
    {
     "name": "stderr",
     "output_type": "stream",
     "text": [
      "[I 2024-04-02 08:38:48,500] Trial 83 finished with value: 0.05177838090523109 and parameters: {'iterations': 322, 'learning_rate': 0.015553116182826718, 'depth': 6}. Best is trial 64 with value: 0.05151694436417945.\n"
     ]
    },
    {
     "name": "stderr",
     "output_type": "stream",
     "text": [
      "/tmp/ipykernel_637554/1172307581.py:4: FutureWarning: suggest_loguniform has been deprecated in v3.0.0. This feature will be removed in v6.0.0. See https://github.com/optuna/optuna/releases/tag/v3.0.0. Use suggest_float(..., log=True) instead.\n",
      "  'learning_rate': trial.suggest_loguniform('learning_rate', 0.005, 0.5),\n"
     ]
    },
    {
     "name": "stderr",
     "output_type": "stream",
     "text": [
      "[I 2024-04-02 08:38:52,696] Trial 84 finished with value: 0.051756390139192934 and parameters: {'iterations': 315, 'learning_rate': 0.01565835305156125, 'depth': 6}. Best is trial 64 with value: 0.05151694436417945.\n"
     ]
    },
    {
     "name": "stderr",
     "output_type": "stream",
     "text": [
      "/tmp/ipykernel_637554/1172307581.py:4: FutureWarning: suggest_loguniform has been deprecated in v3.0.0. This feature will be removed in v6.0.0. See https://github.com/optuna/optuna/releases/tag/v3.0.0. Use suggest_float(..., log=True) instead.\n",
      "  'learning_rate': trial.suggest_loguniform('learning_rate', 0.005, 0.5),\n"
     ]
    },
    {
     "name": "stderr",
     "output_type": "stream",
     "text": [
      "[I 2024-04-02 08:38:56,767] Trial 85 finished with value: 0.05208926460050166 and parameters: {'iterations': 310, 'learning_rate': 0.01801691209418984, 'depth': 6}. Best is trial 64 with value: 0.05151694436417945.\n"
     ]
    },
    {
     "name": "stderr",
     "output_type": "stream",
     "text": [
      "/tmp/ipykernel_637554/1172307581.py:4: FutureWarning: suggest_loguniform has been deprecated in v3.0.0. This feature will be removed in v6.0.0. See https://github.com/optuna/optuna/releases/tag/v3.0.0. Use suggest_float(..., log=True) instead.\n",
      "  'learning_rate': trial.suggest_loguniform('learning_rate', 0.005, 0.5),\n"
     ]
    },
    {
     "name": "stderr",
     "output_type": "stream",
     "text": [
      "[I 2024-04-02 08:39:01,295] Trial 86 finished with value: 0.05184023372860297 and parameters: {'iterations': 337, 'learning_rate': 0.015549049093802225, 'depth': 6}. Best is trial 64 with value: 0.05151694436417945.\n"
     ]
    },
    {
     "name": "stderr",
     "output_type": "stream",
     "text": [
      "/tmp/ipykernel_637554/1172307581.py:4: FutureWarning: suggest_loguniform has been deprecated in v3.0.0. This feature will be removed in v6.0.0. See https://github.com/optuna/optuna/releases/tag/v3.0.0. Use suggest_float(..., log=True) instead.\n",
      "  'learning_rate': trial.suggest_loguniform('learning_rate', 0.005, 0.5),\n"
     ]
    },
    {
     "name": "stderr",
     "output_type": "stream",
     "text": [
      "[I 2024-04-02 08:39:07,461] Trial 87 finished with value: 0.05178782315651146 and parameters: {'iterations': 326, 'learning_rate': 0.019699382482563126, 'depth': 5}. Best is trial 64 with value: 0.05151694436417945.\n"
     ]
    },
    {
     "name": "stderr",
     "output_type": "stream",
     "text": [
      "/tmp/ipykernel_637554/1172307581.py:4: FutureWarning: suggest_loguniform has been deprecated in v3.0.0. This feature will be removed in v6.0.0. See https://github.com/optuna/optuna/releases/tag/v3.0.0. Use suggest_float(..., log=True) instead.\n",
      "  'learning_rate': trial.suggest_loguniform('learning_rate', 0.005, 0.5),\n"
     ]
    },
    {
     "name": "stderr",
     "output_type": "stream",
     "text": [
      "[I 2024-04-02 08:39:10,696] Trial 88 finished with value: 0.05202517776171132 and parameters: {'iterations': 328, 'learning_rate': 0.010004432277277424, 'depth': 5}. Best is trial 64 with value: 0.05151694436417945.\n"
     ]
    },
    {
     "name": "stderr",
     "output_type": "stream",
     "text": [
      "/tmp/ipykernel_637554/1172307581.py:4: FutureWarning: suggest_loguniform has been deprecated in v3.0.0. This feature will be removed in v6.0.0. See https://github.com/optuna/optuna/releases/tag/v3.0.0. Use suggest_float(..., log=True) instead.\n",
      "  'learning_rate': trial.suggest_loguniform('learning_rate', 0.005, 0.5),\n"
     ]
    },
    {
     "name": "stderr",
     "output_type": "stream",
     "text": [
      "[I 2024-04-02 08:39:14,832] Trial 89 finished with value: 0.05215437873608827 and parameters: {'iterations': 312, 'learning_rate': 0.020691988839298705, 'depth': 6}. Best is trial 64 with value: 0.05151694436417945.\n"
     ]
    },
    {
     "name": "stderr",
     "output_type": "stream",
     "text": [
      "/tmp/ipykernel_637554/1172307581.py:4: FutureWarning: suggest_loguniform has been deprecated in v3.0.0. This feature will be removed in v6.0.0. See https://github.com/optuna/optuna/releases/tag/v3.0.0. Use suggest_float(..., log=True) instead.\n",
      "  'learning_rate': trial.suggest_loguniform('learning_rate', 0.005, 0.5),\n"
     ]
    },
    {
     "name": "stderr",
     "output_type": "stream",
     "text": [
      "[I 2024-04-02 08:39:20,561] Trial 90 finished with value: 0.05247530614617033 and parameters: {'iterations': 298, 'learning_rate': 0.023203644229681852, 'depth': 7}. Best is trial 64 with value: 0.05151694436417945.\n"
     ]
    },
    {
     "name": "stderr",
     "output_type": "stream",
     "text": [
      "/tmp/ipykernel_637554/1172307581.py:4: FutureWarning: suggest_loguniform has been deprecated in v3.0.0. This feature will be removed in v6.0.0. See https://github.com/optuna/optuna/releases/tag/v3.0.0. Use suggest_float(..., log=True) instead.\n",
      "  'learning_rate': trial.suggest_loguniform('learning_rate', 0.005, 0.5),\n"
     ]
    },
    {
     "name": "stderr",
     "output_type": "stream",
     "text": [
      "[I 2024-04-02 08:39:24,006] Trial 91 finished with value: 0.05213442096178966 and parameters: {'iterations': 345, 'learning_rate': 0.016283204872814074, 'depth': 5}. Best is trial 64 with value: 0.05151694436417945.\n"
     ]
    },
    {
     "name": "stderr",
     "output_type": "stream",
     "text": [
      "/tmp/ipykernel_637554/1172307581.py:4: FutureWarning: suggest_loguniform has been deprecated in v3.0.0. This feature will be removed in v6.0.0. See https://github.com/optuna/optuna/releases/tag/v3.0.0. Use suggest_float(..., log=True) instead.\n",
      "  'learning_rate': trial.suggest_loguniform('learning_rate', 0.005, 0.5),\n"
     ]
    },
    {
     "name": "stderr",
     "output_type": "stream",
     "text": [
      "[I 2024-04-02 08:39:27,705] Trial 92 finished with value: 0.0571646100340986 and parameters: {'iterations': 390, 'learning_rate': 0.06055769917748525, 'depth': 5}. Best is trial 64 with value: 0.05151694436417945.\n"
     ]
    },
    {
     "name": "stderr",
     "output_type": "stream",
     "text": [
      "/tmp/ipykernel_637554/1172307581.py:4: FutureWarning: suggest_loguniform has been deprecated in v3.0.0. This feature will be removed in v6.0.0. See https://github.com/optuna/optuna/releases/tag/v3.0.0. Use suggest_float(..., log=True) instead.\n",
      "  'learning_rate': trial.suggest_loguniform('learning_rate', 0.005, 0.5),\n"
     ]
    },
    {
     "name": "stderr",
     "output_type": "stream",
     "text": [
      "[I 2024-04-02 08:39:28,751] Trial 93 finished with value: 0.07107098878043352 and parameters: {'iterations': 51, 'learning_rate': 0.013703453092917038, 'depth': 6}. Best is trial 64 with value: 0.05151694436417945.\n"
     ]
    },
    {
     "name": "stderr",
     "output_type": "stream",
     "text": [
      "/tmp/ipykernel_637554/1172307581.py:4: FutureWarning: suggest_loguniform has been deprecated in v3.0.0. This feature will be removed in v6.0.0. See https://github.com/optuna/optuna/releases/tag/v3.0.0. Use suggest_float(..., log=True) instead.\n",
      "  'learning_rate': trial.suggest_loguniform('learning_rate', 0.005, 0.5),\n"
     ]
    },
    {
     "name": "stderr",
     "output_type": "stream",
     "text": [
      "[I 2024-04-02 08:39:32,008] Trial 94 finished with value: 0.05195555968951826 and parameters: {'iterations': 330, 'learning_rate': 0.019539178271771474, 'depth': 5}. Best is trial 64 with value: 0.05151694436417945.\n"
     ]
    },
    {
     "name": "stderr",
     "output_type": "stream",
     "text": [
      "/tmp/ipykernel_637554/1172307581.py:4: FutureWarning: suggest_loguniform has been deprecated in v3.0.0. This feature will be removed in v6.0.0. See https://github.com/optuna/optuna/releases/tag/v3.0.0. Use suggest_float(..., log=True) instead.\n",
      "  'learning_rate': trial.suggest_loguniform('learning_rate', 0.005, 0.5),\n"
     ]
    },
    {
     "name": "stderr",
     "output_type": "stream",
     "text": [
      "[I 2024-04-02 08:39:36,573] Trial 95 finished with value: 0.05216557466058177 and parameters: {'iterations': 354, 'learning_rate': 0.01705724745722435, 'depth': 6}. Best is trial 64 with value: 0.05151694436417945.\n"
     ]
    },
    {
     "name": "stderr",
     "output_type": "stream",
     "text": [
      "/tmp/ipykernel_637554/1172307581.py:4: FutureWarning: suggest_loguniform has been deprecated in v3.0.0. This feature will be removed in v6.0.0. See https://github.com/optuna/optuna/releases/tag/v3.0.0. Use suggest_float(..., log=True) instead.\n",
      "  'learning_rate': trial.suggest_loguniform('learning_rate', 0.005, 0.5),\n"
     ]
    },
    {
     "name": "stderr",
     "output_type": "stream",
     "text": [
      "[I 2024-04-02 08:39:39,450] Trial 96 finished with value: 0.05197397769461833 and parameters: {'iterations': 365, 'learning_rate': 0.011063414810009869, 'depth': 4}. Best is trial 64 with value: 0.05151694436417945.\n"
     ]
    },
    {
     "name": "stderr",
     "output_type": "stream",
     "text": [
      "/tmp/ipykernel_637554/1172307581.py:4: FutureWarning: suggest_loguniform has been deprecated in v3.0.0. This feature will be removed in v6.0.0. See https://github.com/optuna/optuna/releases/tag/v3.0.0. Use suggest_float(..., log=True) instead.\n",
      "  'learning_rate': trial.suggest_loguniform('learning_rate', 0.005, 0.5),\n"
     ]
    },
    {
     "name": "stderr",
     "output_type": "stream",
     "text": [
      "[I 2024-04-02 08:39:46,313] Trial 97 finished with value: 0.05184508831672511 and parameters: {'iterations': 376, 'learning_rate': 0.009275794073991211, 'depth': 7}. Best is trial 64 with value: 0.05151694436417945.\n"
     ]
    },
    {
     "name": "stderr",
     "output_type": "stream",
     "text": [
      "/tmp/ipykernel_637554/1172307581.py:4: FutureWarning: suggest_loguniform has been deprecated in v3.0.0. This feature will be removed in v6.0.0. See https://github.com/optuna/optuna/releases/tag/v3.0.0. Use suggest_float(..., log=True) instead.\n",
      "  'learning_rate': trial.suggest_loguniform('learning_rate', 0.005, 0.5),\n"
     ]
    },
    {
     "name": "stderr",
     "output_type": "stream",
     "text": [
      "[I 2024-04-02 08:39:50,195] Trial 98 finished with value: 0.051911808100259714 and parameters: {'iterations': 398, 'learning_rate': 0.01242400316154969, 'depth': 5}. Best is trial 64 with value: 0.05151694436417945.\n"
     ]
    },
    {
     "name": "stderr",
     "output_type": "stream",
     "text": [
      "/tmp/ipykernel_637554/1172307581.py:4: FutureWarning: suggest_loguniform has been deprecated in v3.0.0. This feature will be removed in v6.0.0. See https://github.com/optuna/optuna/releases/tag/v3.0.0. Use suggest_float(..., log=True) instead.\n",
      "  'learning_rate': trial.suggest_loguniform('learning_rate', 0.005, 0.5),\n"
     ]
    },
    {
     "name": "stderr",
     "output_type": "stream",
     "text": [
      "[I 2024-04-02 08:39:54,509] Trial 99 finished with value: 0.05194253524059174 and parameters: {'iterations': 324, 'learning_rate': 0.014331812453527703, 'depth': 6}. Best is trial 64 with value: 0.05151694436417945.\n"
     ]
    }
   ],
   "source": [
    "def objective(trial):\n",
    "    params = {\n",
    "        'iterations': trial.suggest_int('iterations', 50, 400),\n",
    "        'learning_rate': trial.suggest_loguniform('learning_rate', 0.005, 0.5),\n",
    "        'depth': trial.suggest_int('depth', 4, 14),\n",
    "        # 'l2_leaf_reg': trial.suggest_loguniform('l2_leaf_reg', 1e-3, 10),\n",
    "        # 'border_count': trial.suggest_int('border_count', 5, 200),\n",
    "        'verbose': False,\n",
    "        'random_seed': RANDOM_SEED\n",
    "    }\n",
    "\n",
    "    model = cb.CatBoostRegressor(**params)\n",
    "\n",
    "    # Cross validation\n",
    "    sample = 'val'\n",
    "    cv = KFold(n_splits=10, shuffle=True, random_state=RANDOM_SEED)\n",
    "    mse = - cross_val_score(model, X[f'{sample}-{task}'], y[f'{sample}-{task}']['p'], cv=cv, scoring='neg_mean_squared_error').mean()\n",
    "\n",
    "    return mse\n",
    "\n",
    "\n",
    "best_params_dict = {}\n",
    "if AUTO_FIND_HYPERPARAMETERS:\n",
    "    for task in TASKS:\n",
    "        study = optuna.create_study(direction='minimize')\n",
    "        study.optimize(objective, n_trials=100)\n",
    "        best_params_dict[task] = study.best_params\n",
    "        \n",
    "else:\n",
    "    best_params_dict['agnostic'] = {'iterations': 394, 'learning_rate': 0.021608465544161754, 'depth': 4, 'l2_leaf_reg': 0.007156537267301533, 'border_count': 98}\n",
    "    best_params_dict['aware'] = {'iterations': 135, 'learning_rate': 0.025526913154005487, 'depth': 4, 'l2_leaf_reg': 0.12536020060626074, 'border_count': 118}"
   ]
  },
  {
   "cell_type": "code",
   "execution_count": 19,
   "metadata": {
    "execution": {
     "iopub.execute_input": "2024-04-02T08:39:54.517493Z",
     "iopub.status.busy": "2024-04-02T08:39:54.517249Z",
     "iopub.status.idle": "2024-04-02T08:39:54.521338Z",
     "shell.execute_reply": "2024-04-02T08:39:54.520871Z"
    }
   },
   "outputs": [
    {
     "name": "stdout",
     "output_type": "stream",
     "text": [
      "Best Params: agnostic        {'iterations': 356, 'learning_rate': 0.02855915846133446, 'depth': 5}\n",
      "Best Params: aware           {'iterations': 317, 'learning_rate': 0.012105132480904755, 'depth': 9}\n"
     ]
    }
   ],
   "source": [
    "for task in TASKS:\n",
    "    print(\"Best Params:\", task.ljust(15), best_params_dict[task])"
   ]
  },
  {
   "cell_type": "markdown",
   "metadata": {},
   "source": [
    "## Evaluate on validation sample"
   ]
  },
  {
   "cell_type": "code",
   "execution_count": 20,
   "metadata": {
    "execution": {
     "iopub.execute_input": "2024-04-02T08:39:54.524046Z",
     "iopub.status.busy": "2024-04-02T08:39:54.523824Z",
     "iopub.status.idle": "2024-04-02T08:39:54.529605Z",
     "shell.execute_reply": "2024-04-02T08:39:54.529152Z"
    }
   },
   "outputs": [],
   "source": [
    "if EVALUATE_ON_VAL:\n",
    "    cv = RepeatedStratifiedKFold(n_splits=10, n_repeats=5, random_state=RANDOM_SEED)\n",
    "    sample = 'val'\n",
    "    mean_corr_dict = {}\n",
    "    for task in TASKS:\n",
    "        model = cb.CatBoostRegressor(**best_params_dict[task])\n",
    "        correlation = []\n",
    "        for i, (train_index, test_index) in enumerate(cv.split(X[f'{sample}-{task}'], y[f'{sample}-{task}']['label'])):\n",
    "            # Train\n",
    "            X_train = X[f'{sample}-{task}'].loc[train_index]\n",
    "            y_train = y[f'{sample}-{task}']['p'].loc[train_index]\n",
    "            model.fit(X_train, y_train)\n",
    "\n",
    "            # Predict\n",
    "            X_test = X[f'{sample}-{task}'].loc[test_index]\n",
    "            y_test = y[f'{sample}-{task}']['p'].loc[test_index]\n",
    "            y_pred = model.predict(X_test)\n",
    "\n",
    "            # Postprocessing\n",
    "            np.clip(y_pred, 0.0, 1.0, out=y_pred)\n",
    "\n",
    "            # Calc metric\n",
    "            correlation.append(spearmanr(y_pred, y_test)[0])\n",
    "            \n",
    "        # Calc average metric\n",
    "        mean_corr = statistics.fmean(correlation)\n",
    "        mean_corr_dict[task] = mean_corr"
   ]
  },
  {
   "cell_type": "code",
   "execution_count": 21,
   "metadata": {
    "execution": {
     "iopub.execute_input": "2024-04-02T08:39:54.532166Z",
     "iopub.status.busy": "2024-04-02T08:39:54.531949Z",
     "iopub.status.idle": "2024-04-02T08:39:54.535084Z",
     "shell.execute_reply": "2024-04-02T08:39:54.534522Z"
    }
   },
   "outputs": [],
   "source": [
    "if EVALUATE_ON_VAL:\n",
    "    for task in TASKS:\n",
    "        print('Correlation:', task.ljust(15), mean_corr_dict[task])"
   ]
  },
  {
   "cell_type": "markdown",
   "metadata": {},
   "source": [
    "## Train on 100 % of data"
   ]
  },
  {
   "cell_type": "code",
   "execution_count": 22,
   "metadata": {
    "execution": {
     "iopub.execute_input": "2024-04-02T08:39:54.537601Z",
     "iopub.status.busy": "2024-04-02T08:39:54.537380Z",
     "iopub.status.idle": "2024-04-02T08:39:56.428571Z",
     "shell.execute_reply": "2024-04-02T08:39:56.427971Z"
    }
   },
   "outputs": [
    {
     "name": "stdout",
     "output_type": "stream",
     "text": [
      "0:\tlearn: 0.3465954\ttotal: 977us\tremaining: 347ms\n",
      "1:\tlearn: 0.3416215\ttotal: 1.86ms\tremaining: 329ms\n",
      "2:\tlearn: 0.3370168\ttotal: 2.71ms\tremaining: 319ms\n",
      "3:\tlearn: 0.3324188\ttotal: 3.48ms\tremaining: 306ms\n",
      "4:\tlearn: 0.3280985\ttotal: 4.24ms\tremaining: 298ms\n",
      "5:\tlearn: 0.3238491\ttotal: 4.97ms\tremaining: 290ms\n",
      "6:\tlearn: 0.3194748\ttotal: 5.72ms\tremaining: 285ms\n",
      "7:\tlearn: 0.3159140\ttotal: 6.03ms\tremaining: 262ms\n",
      "8:\tlearn: 0.3120977\ttotal: 6.44ms\tremaining: 248ms\n",
      "9:\tlearn: 0.3081473\ttotal: 7.19ms\tremaining: 249ms\n",
      "10:\tlearn: 0.3046630\ttotal: 7.91ms\tremaining: 248ms\n",
      "11:\tlearn: 0.3009902\ttotal: 8.66ms\tremaining: 248ms\n",
      "12:\tlearn: 0.2976763\ttotal: 9.42ms\tremaining: 248ms\n",
      "13:\tlearn: 0.2947095\ttotal: 9.83ms\tremaining: 240ms\n",
      "14:\tlearn: 0.2916203\ttotal: 10.6ms\tremaining: 240ms\n",
      "15:\tlearn: 0.2888269\ttotal: 11.4ms\tremaining: 241ms\n",
      "16:\tlearn: 0.2859382\ttotal: 12.1ms\tremaining: 242ms\n",
      "17:\tlearn: 0.2833146\ttotal: 12.9ms\tremaining: 242ms\n",
      "18:\tlearn: 0.2806477\ttotal: 13.7ms\tremaining: 242ms\n",
      "19:\tlearn: 0.2779312\ttotal: 14.4ms\tremaining: 242ms\n",
      "20:\tlearn: 0.2756696\ttotal: 15.1ms\tremaining: 241ms\n",
      "21:\tlearn: 0.2731498\ttotal: 15.9ms\tremaining: 241ms\n",
      "22:\tlearn: 0.2708328\ttotal: 16.6ms\tremaining: 240ms\n",
      "23:\tlearn: 0.2686320\ttotal: 17.3ms\tremaining: 239ms\n",
      "24:\tlearn: 0.2665467\ttotal: 18ms\tremaining: 238ms\n",
      "25:\tlearn: 0.2643185\ttotal: 18.7ms\tremaining: 238ms\n",
      "26:\tlearn: 0.2624181\ttotal: 19.5ms\tremaining: 237ms\n",
      "27:\tlearn: 0.2603863\ttotal: 20.2ms\tremaining: 236ms\n",
      "28:\tlearn: 0.2585616\ttotal: 20.9ms\tremaining: 236ms\n",
      "29:\tlearn: 0.2568619\ttotal: 21.7ms\tremaining: 235ms\n",
      "30:\tlearn: 0.2551425\ttotal: 22.4ms\tremaining: 235ms\n",
      "31:\tlearn: 0.2535132\ttotal: 23.1ms\tremaining: 233ms\n",
      "32:\tlearn: 0.2519735\ttotal: 23.8ms\tremaining: 233ms\n",
      "33:\tlearn: 0.2503661\ttotal: 24.5ms\tremaining: 232ms\n",
      "34:\tlearn: 0.2488603\ttotal: 25.2ms\tremaining: 231ms\n",
      "35:\tlearn: 0.2476636\ttotal: 26ms\tremaining: 231ms\n",
      "36:\tlearn: 0.2462682\ttotal: 26.7ms\tremaining: 230ms\n",
      "37:\tlearn: 0.2448185\ttotal: 27.4ms\tremaining: 229ms\n",
      "38:\tlearn: 0.2433608\ttotal: 28.2ms\tremaining: 229ms\n",
      "39:\tlearn: 0.2419253\ttotal: 29ms\tremaining: 229ms\n",
      "40:\tlearn: 0.2407669\ttotal: 29.7ms\tremaining: 229ms\n",
      "41:\tlearn: 0.2395626\ttotal: 30.5ms\tremaining: 228ms\n",
      "42:\tlearn: 0.2384361\ttotal: 31.3ms\tremaining: 228ms\n",
      "43:\tlearn: 0.2374562\ttotal: 32ms\tremaining: 227ms\n",
      "44:\tlearn: 0.2364519\ttotal: 32.7ms\tremaining: 226ms\n",
      "45:\tlearn: 0.2352967\ttotal: 33.4ms\tremaining: 225ms\n",
      "46:\tlearn: 0.2342516\ttotal: 34.1ms\tremaining: 224ms\n",
      "47:\tlearn: 0.2331848\ttotal: 34.9ms\tremaining: 224ms\n",
      "48:\tlearn: 0.2322506\ttotal: 35.6ms\tremaining: 223ms\n",
      "49:\tlearn: 0.2311067\ttotal: 36.4ms\tremaining: 223ms\n",
      "50:\tlearn: 0.2303474\ttotal: 37.1ms\tremaining: 222ms\n",
      "51:\tlearn: 0.2293811\ttotal: 37.9ms\tremaining: 221ms\n",
      "52:\tlearn: 0.2286106\ttotal: 38.6ms\tremaining: 221ms\n",
      "53:\tlearn: 0.2276614\ttotal: 39.3ms\tremaining: 220ms\n",
      "54:\tlearn: 0.2270944\ttotal: 40.1ms\tremaining: 219ms\n",
      "55:\tlearn: 0.2263984\ttotal: 40.8ms\tremaining: 219ms\n",
      "56:\tlearn: 0.2258232\ttotal: 41.5ms\tremaining: 218ms\n",
      "57:\tlearn: 0.2249985\ttotal: 42.3ms\tremaining: 217ms\n",
      "58:\tlearn: 0.2243775\ttotal: 43ms\tremaining: 217ms\n",
      "59:\tlearn: 0.2238359\ttotal: 43.7ms\tremaining: 216ms\n",
      "60:\tlearn: 0.2232220\ttotal: 44.4ms\tremaining: 215ms\n",
      "61:\tlearn: 0.2227289\ttotal: 45.1ms\tremaining: 214ms\n",
      "62:\tlearn: 0.2220222\ttotal: 45.9ms\tremaining: 213ms\n",
      "63:\tlearn: 0.2215387\ttotal: 46.6ms\tremaining: 212ms\n",
      "64:\tlearn: 0.2210427\ttotal: 47.6ms\tremaining: 213ms\n",
      "65:\tlearn: 0.2206047\ttotal: 48.3ms\tremaining: 212ms\n",
      "66:\tlearn: 0.2200455\ttotal: 49ms\tremaining: 211ms\n",
      "67:\tlearn: 0.2196351\ttotal: 49.7ms\tremaining: 210ms\n",
      "68:\tlearn: 0.2192239\ttotal: 50.4ms\tremaining: 210ms\n",
      "69:\tlearn: 0.2187419\ttotal: 51.1ms\tremaining: 209ms\n",
      "70:\tlearn: 0.2181049\ttotal: 52.8ms\tremaining: 212ms\n",
      "71:\tlearn: 0.2176936\ttotal: 53.5ms\tremaining: 211ms\n",
      "72:\tlearn: 0.2172369\ttotal: 54.3ms\tremaining: 211ms\n",
      "73:\tlearn: 0.2166852\ttotal: 55ms\tremaining: 210ms\n",
      "74:\tlearn: 0.2161771\ttotal: 55.8ms\tremaining: 209ms\n",
      "75:\tlearn: 0.2157653\ttotal: 56.5ms\tremaining: 208ms\n",
      "76:\tlearn: 0.2153508\ttotal: 57.2ms\tremaining: 207ms\n",
      "77:\tlearn: 0.2149224\ttotal: 58ms\tremaining: 207ms\n",
      "78:\tlearn: 0.2145166\ttotal: 58.7ms\tremaining: 206ms\n",
      "79:\tlearn: 0.2139997\ttotal: 59.5ms\tremaining: 205ms\n",
      "80:\tlearn: 0.2134099\ttotal: 60.2ms\tremaining: 204ms\n",
      "81:\tlearn: 0.2130923\ttotal: 60.9ms\tremaining: 204ms\n",
      "82:\tlearn: 0.2128593\ttotal: 61.7ms\tremaining: 203ms\n",
      "83:\tlearn: 0.2122945\ttotal: 62.4ms\tremaining: 202ms\n",
      "84:\tlearn: 0.2117990\ttotal: 63.1ms\tremaining: 201ms\n",
      "85:\tlearn: 0.2114470\ttotal: 63.8ms\tremaining: 200ms\n",
      "86:\tlearn: 0.2112430\ttotal: 64.6ms\tremaining: 200ms\n",
      "87:\tlearn: 0.2109569\ttotal: 65.3ms\tremaining: 199ms\n",
      "88:\tlearn: 0.2105435\ttotal: 66.1ms\tremaining: 198ms\n",
      "89:\tlearn: 0.2101577\ttotal: 66.8ms\tremaining: 197ms\n",
      "90:\tlearn: 0.2098975\ttotal: 67.5ms\tremaining: 197ms\n",
      "91:\tlearn: 0.2095521\ttotal: 68.3ms\tremaining: 196ms\n",
      "92:\tlearn: 0.2091129\ttotal: 69ms\tremaining: 195ms\n",
      "93:\tlearn: 0.2087844\ttotal: 69.8ms\tremaining: 194ms\n",
      "94:\tlearn: 0.2086065\ttotal: 70.5ms\tremaining: 194ms\n",
      "95:\tlearn: 0.2083474\ttotal: 71.2ms\tremaining: 193ms\n",
      "96:\tlearn: 0.2081310\ttotal: 71.9ms\tremaining: 192ms\n",
      "97:\tlearn: 0.2078795\ttotal: 72.7ms\tremaining: 191ms\n",
      "98:\tlearn: 0.2075457\ttotal: 73.4ms\tremaining: 190ms\n",
      "99:\tlearn: 0.2073004\ttotal: 74.1ms\tremaining: 190ms\n",
      "100:\tlearn: 0.2070495\ttotal: 74.8ms\tremaining: 189ms\n",
      "101:\tlearn: 0.2069070\ttotal: 75.5ms\tremaining: 188ms\n",
      "102:\tlearn: 0.2065315\ttotal: 76.2ms\tremaining: 187ms\n",
      "103:\tlearn: 0.2061254\ttotal: 77ms\tremaining: 186ms\n",
      "104:\tlearn: 0.2056847\ttotal: 77.6ms\tremaining: 186ms\n",
      "105:\tlearn: 0.2054024\ttotal: 78.4ms\tremaining: 185ms\n",
      "106:\tlearn: 0.2051077\ttotal: 79.1ms\tremaining: 184ms\n",
      "107:\tlearn: 0.2048824\ttotal: 79.9ms\tremaining: 183ms\n",
      "108:\tlearn: 0.2045774\ttotal: 80.6ms\tremaining: 183ms\n",
      "109:\tlearn: 0.2042557\ttotal: 81.3ms\tremaining: 182ms\n",
      "110:\tlearn: 0.2041134\ttotal: 82ms\tremaining: 181ms\n",
      "111:\tlearn: 0.2036367\ttotal: 82.8ms\tremaining: 180ms\n",
      "112:\tlearn: 0.2032714\ttotal: 83.5ms\tremaining: 180ms\n",
      "113:\tlearn: 0.2029254\ttotal: 84.2ms\tremaining: 179ms\n",
      "114:\tlearn: 0.2024444\ttotal: 85ms\tremaining: 178ms\n",
      "115:\tlearn: 0.2021745\ttotal: 85.8ms\tremaining: 177ms\n",
      "116:\tlearn: 0.2017941\ttotal: 86.5ms\tremaining: 177ms\n",
      "117:\tlearn: 0.2015361\ttotal: 87.3ms\tremaining: 176ms\n",
      "118:\tlearn: 0.2013505\ttotal: 88.1ms\tremaining: 175ms\n",
      "119:\tlearn: 0.2010278\ttotal: 88.9ms\tremaining: 175ms\n",
      "120:\tlearn: 0.2006512\ttotal: 89.6ms\tremaining: 174ms\n",
      "121:\tlearn: 0.2004214\ttotal: 90.3ms\tremaining: 173ms\n",
      "122:\tlearn: 0.2002407\ttotal: 91.1ms\tremaining: 172ms\n",
      "123:\tlearn: 0.1999134\ttotal: 91.8ms\tremaining: 172ms\n",
      "124:\tlearn: 0.1997106\ttotal: 92.5ms\tremaining: 171ms\n",
      "125:\tlearn: 0.1995375\ttotal: 93.2ms\tremaining: 170ms\n",
      "126:\tlearn: 0.1993667\ttotal: 94ms\tremaining: 169ms\n",
      "127:\tlearn: 0.1989599\ttotal: 94.7ms\tremaining: 169ms\n",
      "128:\tlearn: 0.1987276\ttotal: 95.5ms\tremaining: 168ms\n",
      "129:\tlearn: 0.1983764\ttotal: 96.2ms\tremaining: 167ms\n",
      "130:\tlearn: 0.1981718\ttotal: 96.9ms\tremaining: 166ms\n",
      "131:\tlearn: 0.1980115\ttotal: 97.7ms\tremaining: 166ms\n",
      "132:\tlearn: 0.1979147\ttotal: 98.4ms\tremaining: 165ms\n",
      "133:\tlearn: 0.1977427\ttotal: 99.1ms\tremaining: 164ms\n",
      "134:\tlearn: 0.1973507\ttotal: 99.9ms\tremaining: 163ms\n",
      "135:\tlearn: 0.1970576\ttotal: 101ms\tremaining: 163ms\n",
      "136:\tlearn: 0.1967317\ttotal: 101ms\tremaining: 162ms\n",
      "137:\tlearn: 0.1964050\ttotal: 102ms\tremaining: 161ms\n",
      "138:\tlearn: 0.1960820\ttotal: 103ms\tremaining: 161ms\n",
      "139:\tlearn: 0.1958246\ttotal: 104ms\tremaining: 160ms\n",
      "140:\tlearn: 0.1952751\ttotal: 104ms\tremaining: 159ms\n",
      "141:\tlearn: 0.1948661\ttotal: 105ms\tremaining: 158ms\n",
      "142:\tlearn: 0.1947037\ttotal: 106ms\tremaining: 158ms\n",
      "143:\tlearn: 0.1945688\ttotal: 107ms\tremaining: 157ms\n",
      "144:\tlearn: 0.1944465\ttotal: 107ms\tremaining: 156ms\n",
      "145:\tlearn: 0.1941478\ttotal: 108ms\tremaining: 155ms\n",
      "146:\tlearn: 0.1938749\ttotal: 109ms\tremaining: 155ms\n",
      "147:\tlearn: 0.1935601\ttotal: 109ms\tremaining: 154ms\n",
      "148:\tlearn: 0.1933840\ttotal: 110ms\tremaining: 153ms\n",
      "149:\tlearn: 0.1931337\ttotal: 111ms\tremaining: 152ms\n",
      "150:\tlearn: 0.1929552\ttotal: 112ms\tremaining: 152ms\n",
      "151:\tlearn: 0.1926305\ttotal: 112ms\tremaining: 151ms\n",
      "152:\tlearn: 0.1925093\ttotal: 113ms\tremaining: 150ms\n",
      "153:\tlearn: 0.1922656\ttotal: 114ms\tremaining: 149ms\n",
      "154:\tlearn: 0.1920288\ttotal: 115ms\tremaining: 149ms\n",
      "155:\tlearn: 0.1918162\ttotal: 116ms\tremaining: 148ms\n",
      "156:\tlearn: 0.1916195\ttotal: 116ms\tremaining: 147ms\n",
      "157:\tlearn: 0.1914384\ttotal: 117ms\tremaining: 147ms\n",
      "158:\tlearn: 0.1911695\ttotal: 119ms\tremaining: 147ms\n",
      "159:\tlearn: 0.1909063\ttotal: 119ms\tremaining: 146ms\n",
      "160:\tlearn: 0.1907224\ttotal: 120ms\tremaining: 145ms\n",
      "161:\tlearn: 0.1906182\ttotal: 121ms\tremaining: 145ms\n",
      "162:\tlearn: 0.1903930\ttotal: 122ms\tremaining: 144ms\n",
      "163:\tlearn: 0.1901966\ttotal: 123ms\tremaining: 144ms\n",
      "164:\tlearn: 0.1898805\ttotal: 123ms\tremaining: 143ms\n",
      "165:\tlearn: 0.1896851\ttotal: 124ms\tremaining: 142ms\n",
      "166:\tlearn: 0.1895251\ttotal: 125ms\tremaining: 141ms\n",
      "167:\tlearn: 0.1894817\ttotal: 126ms\tremaining: 140ms\n",
      "168:\tlearn: 0.1892528\ttotal: 126ms\tremaining: 140ms\n",
      "169:\tlearn: 0.1889662\ttotal: 127ms\tremaining: 139ms\n",
      "170:\tlearn: 0.1886007\ttotal: 128ms\tremaining: 138ms\n",
      "171:\tlearn: 0.1883005\ttotal: 128ms\tremaining: 137ms\n",
      "172:\tlearn: 0.1881162\ttotal: 129ms\tremaining: 137ms\n",
      "173:\tlearn: 0.1877232\ttotal: 130ms\tremaining: 136ms\n",
      "174:\tlearn: 0.1876078\ttotal: 131ms\tremaining: 135ms\n",
      "175:\tlearn: 0.1873612\ttotal: 131ms\tremaining: 134ms\n",
      "176:\tlearn: 0.1872857\ttotal: 132ms\tremaining: 134ms\n",
      "177:\tlearn: 0.1870766\ttotal: 133ms\tremaining: 133ms\n",
      "178:\tlearn: 0.1869795\ttotal: 134ms\tremaining: 132ms\n",
      "179:\tlearn: 0.1868296\ttotal: 134ms\tremaining: 131ms\n",
      "180:\tlearn: 0.1865103\ttotal: 135ms\tremaining: 131ms\n",
      "181:\tlearn: 0.1863339\ttotal: 136ms\tremaining: 130ms\n",
      "182:\tlearn: 0.1859950\ttotal: 137ms\tremaining: 129ms\n",
      "183:\tlearn: 0.1858144\ttotal: 137ms\tremaining: 128ms\n",
      "184:\tlearn: 0.1856637\ttotal: 138ms\tremaining: 128ms\n",
      "185:\tlearn: 0.1854422\ttotal: 139ms\tremaining: 127ms\n",
      "186:\tlearn: 0.1851851\ttotal: 140ms\tremaining: 126ms\n",
      "187:\tlearn: 0.1850067\ttotal: 140ms\tremaining: 125ms\n",
      "188:\tlearn: 0.1848534\ttotal: 141ms\tremaining: 125ms\n"
     ]
    },
    {
     "name": "stdout",
     "output_type": "stream",
     "text": [
      "189:\tlearn: 0.1847490\ttotal: 142ms\tremaining: 124ms\n",
      "190:\tlearn: 0.1846047\ttotal: 143ms\tremaining: 124ms\n",
      "191:\tlearn: 0.1842922\ttotal: 144ms\tremaining: 123ms\n",
      "192:\tlearn: 0.1840644\ttotal: 145ms\tremaining: 122ms\n",
      "193:\tlearn: 0.1838850\ttotal: 146ms\tremaining: 122ms\n",
      "194:\tlearn: 0.1836019\ttotal: 146ms\tremaining: 121ms\n",
      "195:\tlearn: 0.1834956\ttotal: 147ms\tremaining: 120ms\n",
      "196:\tlearn: 0.1833372\ttotal: 148ms\tremaining: 119ms\n",
      "197:\tlearn: 0.1829913\ttotal: 148ms\tremaining: 118ms\n",
      "198:\tlearn: 0.1827906\ttotal: 149ms\tremaining: 118ms\n",
      "199:\tlearn: 0.1826499\ttotal: 150ms\tremaining: 117ms\n",
      "200:\tlearn: 0.1825661\ttotal: 151ms\tremaining: 116ms\n",
      "201:\tlearn: 0.1823664\ttotal: 151ms\tremaining: 115ms\n",
      "202:\tlearn: 0.1821656\ttotal: 152ms\tremaining: 115ms\n",
      "203:\tlearn: 0.1819523\ttotal: 153ms\tremaining: 114ms\n",
      "204:\tlearn: 0.1815900\ttotal: 154ms\tremaining: 113ms\n",
      "205:\tlearn: 0.1812642\ttotal: 154ms\tremaining: 112ms\n",
      "206:\tlearn: 0.1810272\ttotal: 155ms\tremaining: 112ms\n",
      "207:\tlearn: 0.1807285\ttotal: 156ms\tremaining: 111ms\n",
      "208:\tlearn: 0.1805457\ttotal: 157ms\tremaining: 110ms\n",
      "209:\tlearn: 0.1804180\ttotal: 157ms\tremaining: 109ms\n",
      "210:\tlearn: 0.1802433\ttotal: 158ms\tremaining: 109ms\n",
      "211:\tlearn: 0.1800097\ttotal: 159ms\tremaining: 108ms\n",
      "212:\tlearn: 0.1798277\ttotal: 159ms\tremaining: 107ms\n",
      "213:\tlearn: 0.1796574\ttotal: 161ms\tremaining: 107ms\n",
      "214:\tlearn: 0.1794487\ttotal: 162ms\tremaining: 106ms\n",
      "215:\tlearn: 0.1791040\ttotal: 163ms\tremaining: 105ms\n",
      "216:\tlearn: 0.1788800\ttotal: 163ms\tremaining: 105ms\n",
      "217:\tlearn: 0.1787038\ttotal: 164ms\tremaining: 104ms\n",
      "218:\tlearn: 0.1784852\ttotal: 165ms\tremaining: 103ms\n",
      "219:\tlearn: 0.1783990\ttotal: 165ms\tremaining: 102ms\n",
      "220:\tlearn: 0.1782315\ttotal: 166ms\tremaining: 101ms\n",
      "221:\tlearn: 0.1781018\ttotal: 167ms\tremaining: 101ms\n",
      "222:\tlearn: 0.1778565\ttotal: 168ms\tremaining: 100ms\n",
      "223:\tlearn: 0.1777285\ttotal: 168ms\tremaining: 99.2ms\n",
      "224:\tlearn: 0.1775653\ttotal: 169ms\tremaining: 98.4ms\n",
      "225:\tlearn: 0.1773307\ttotal: 170ms\tremaining: 97.7ms\n",
      "226:\tlearn: 0.1771625\ttotal: 170ms\tremaining: 96.9ms\n",
      "227:\tlearn: 0.1770590\ttotal: 171ms\tremaining: 96.1ms\n",
      "228:\tlearn: 0.1769729\ttotal: 172ms\tremaining: 95.4ms\n",
      "229:\tlearn: 0.1766366\ttotal: 173ms\tremaining: 94.6ms\n",
      "230:\tlearn: 0.1765029\ttotal: 173ms\tremaining: 93.9ms\n",
      "231:\tlearn: 0.1762612\ttotal: 174ms\tremaining: 93.1ms\n",
      "232:\tlearn: 0.1760505\ttotal: 175ms\tremaining: 92.3ms\n",
      "233:\tlearn: 0.1758685\ttotal: 176ms\tremaining: 91.6ms\n",
      "234:\tlearn: 0.1755035\ttotal: 176ms\tremaining: 90.8ms\n",
      "235:\tlearn: 0.1751964\ttotal: 177ms\tremaining: 90ms\n",
      "236:\tlearn: 0.1751108\ttotal: 178ms\tremaining: 89.3ms\n",
      "237:\tlearn: 0.1749474\ttotal: 179ms\tremaining: 88.5ms\n",
      "238:\tlearn: 0.1747253\ttotal: 179ms\tremaining: 87.8ms\n"
     ]
    },
    {
     "name": "stdout",
     "output_type": "stream",
     "text": [
      "239:\tlearn: 0.1745709\ttotal: 180ms\tremaining: 87.1ms\n",
      "240:\tlearn: 0.1743973\ttotal: 181ms\tremaining: 86.4ms\n",
      "241:\tlearn: 0.1741607\ttotal: 182ms\tremaining: 85.7ms\n",
      "242:\tlearn: 0.1739962\ttotal: 183ms\tremaining: 84.9ms\n",
      "243:\tlearn: 0.1737642\ttotal: 183ms\tremaining: 84.2ms\n",
      "244:\tlearn: 0.1734682\ttotal: 184ms\tremaining: 83.4ms\n",
      "245:\tlearn: 0.1733459\ttotal: 185ms\tremaining: 82.7ms\n",
      "246:\tlearn: 0.1730406\ttotal: 186ms\tremaining: 81.9ms\n",
      "247:\tlearn: 0.1727626\ttotal: 186ms\tremaining: 81.1ms\n",
      "248:\tlearn: 0.1724572\ttotal: 187ms\tremaining: 80.4ms\n",
      "249:\tlearn: 0.1721962\ttotal: 188ms\tremaining: 79.6ms\n",
      "250:\tlearn: 0.1720856\ttotal: 188ms\tremaining: 78.8ms\n",
      "251:\tlearn: 0.1718984\ttotal: 189ms\tremaining: 78.1ms\n",
      "252:\tlearn: 0.1717443\ttotal: 190ms\tremaining: 77.3ms\n",
      "253:\tlearn: 0.1715601\ttotal: 191ms\tremaining: 76.6ms\n",
      "254:\tlearn: 0.1713385\ttotal: 191ms\tremaining: 75.8ms\n",
      "255:\tlearn: 0.1712226\ttotal: 192ms\tremaining: 75ms\n",
      "256:\tlearn: 0.1709716\ttotal: 193ms\tremaining: 74.3ms\n",
      "257:\tlearn: 0.1708374\ttotal: 194ms\tremaining: 73.6ms\n",
      "258:\tlearn: 0.1706053\ttotal: 194ms\tremaining: 72.8ms\n",
      "259:\tlearn: 0.1703654\ttotal: 195ms\tremaining: 72.1ms\n",
      "260:\tlearn: 0.1702032\ttotal: 196ms\tremaining: 71.3ms\n",
      "261:\tlearn: 0.1700013\ttotal: 197ms\tremaining: 70.6ms\n",
      "262:\tlearn: 0.1697442\ttotal: 198ms\tremaining: 69.9ms\n",
      "263:\tlearn: 0.1696811\ttotal: 198ms\tremaining: 69.1ms\n",
      "264:\tlearn: 0.1695410\ttotal: 199ms\tremaining: 68.4ms\n",
      "265:\tlearn: 0.1693728\ttotal: 200ms\tremaining: 67.6ms\n",
      "266:\tlearn: 0.1692499\ttotal: 201ms\tremaining: 66.9ms\n",
      "267:\tlearn: 0.1690472\ttotal: 201ms\tremaining: 66.1ms\n",
      "268:\tlearn: 0.1687570\ttotal: 202ms\tremaining: 65.4ms\n",
      "269:\tlearn: 0.1686628\ttotal: 203ms\tremaining: 64.6ms\n",
      "270:\tlearn: 0.1684071\ttotal: 204ms\tremaining: 63.9ms\n",
      "271:\tlearn: 0.1682984\ttotal: 204ms\tremaining: 63.1ms\n",
      "272:\tlearn: 0.1682200\ttotal: 205ms\tremaining: 62.4ms\n",
      "273:\tlearn: 0.1680789\ttotal: 206ms\tremaining: 61.6ms\n",
      "274:\tlearn: 0.1680074\ttotal: 207ms\tremaining: 60.9ms\n",
      "275:\tlearn: 0.1678537\ttotal: 207ms\tremaining: 60.1ms\n",
      "276:\tlearn: 0.1675835\ttotal: 208ms\tremaining: 59.4ms\n",
      "277:\tlearn: 0.1673382\ttotal: 209ms\tremaining: 58.6ms\n",
      "278:\tlearn: 0.1671317\ttotal: 210ms\tremaining: 57.9ms\n",
      "279:\tlearn: 0.1669395\ttotal: 210ms\tremaining: 57.1ms\n",
      "280:\tlearn: 0.1667388\ttotal: 211ms\tremaining: 56.4ms\n",
      "281:\tlearn: 0.1665233\ttotal: 212ms\tremaining: 55.6ms\n",
      "282:\tlearn: 0.1663616\ttotal: 213ms\tremaining: 54.9ms\n",
      "283:\tlearn: 0.1662769\ttotal: 213ms\tremaining: 54.1ms\n",
      "284:\tlearn: 0.1660262\ttotal: 214ms\tremaining: 53.3ms\n",
      "285:\tlearn: 0.1657937\ttotal: 215ms\tremaining: 52.6ms\n",
      "286:\tlearn: 0.1655577\ttotal: 216ms\tremaining: 51.8ms\n",
      "287:\tlearn: 0.1654945\ttotal: 216ms\tremaining: 51.1ms\n",
      "288:\tlearn: 0.1653931\ttotal: 217ms\tremaining: 50.3ms\n",
      "289:\tlearn: 0.1652870\ttotal: 218ms\tremaining: 49.6ms\n",
      "290:\tlearn: 0.1652447\ttotal: 219ms\tremaining: 48.8ms\n",
      "291:\tlearn: 0.1650221\ttotal: 219ms\tremaining: 48.1ms\n",
      "292:\tlearn: 0.1648302\ttotal: 220ms\tremaining: 47.3ms\n",
      "293:\tlearn: 0.1648162\ttotal: 221ms\tremaining: 46.6ms\n",
      "294:\tlearn: 0.1647434\ttotal: 222ms\tremaining: 45.8ms\n",
      "295:\tlearn: 0.1645084\ttotal: 223ms\tremaining: 45.2ms\n",
      "296:\tlearn: 0.1643184\ttotal: 224ms\tremaining: 44.4ms\n",
      "297:\tlearn: 0.1641283\ttotal: 224ms\tremaining: 43.7ms\n",
      "298:\tlearn: 0.1638907\ttotal: 225ms\tremaining: 42.9ms\n",
      "299:\tlearn: 0.1637538\ttotal: 226ms\tremaining: 42.2ms\n",
      "300:\tlearn: 0.1635449\ttotal: 227ms\tremaining: 41.4ms\n",
      "301:\tlearn: 0.1631697\ttotal: 227ms\tremaining: 40.7ms\n",
      "302:\tlearn: 0.1629511\ttotal: 228ms\tremaining: 39.9ms\n",
      "303:\tlearn: 0.1627056\ttotal: 229ms\tremaining: 39.2ms\n",
      "304:\tlearn: 0.1626928\ttotal: 230ms\tremaining: 38.4ms\n",
      "305:\tlearn: 0.1626068\ttotal: 230ms\tremaining: 37.6ms\n",
      "306:\tlearn: 0.1623881\ttotal: 231ms\tremaining: 36.9ms\n",
      "307:\tlearn: 0.1621769\ttotal: 232ms\tremaining: 36.1ms\n",
      "308:\tlearn: 0.1621328\ttotal: 233ms\tremaining: 35.4ms\n",
      "309:\tlearn: 0.1619637\ttotal: 233ms\tremaining: 34.6ms\n",
      "310:\tlearn: 0.1619454\ttotal: 234ms\tremaining: 33.9ms\n",
      "311:\tlearn: 0.1617364\ttotal: 235ms\tremaining: 33.1ms\n",
      "312:\tlearn: 0.1615410\ttotal: 236ms\tremaining: 32.4ms\n",
      "313:\tlearn: 0.1613350\ttotal: 236ms\tremaining: 31.6ms\n",
      "314:\tlearn: 0.1611483\ttotal: 237ms\tremaining: 30.9ms\n",
      "315:\tlearn: 0.1608247\ttotal: 238ms\tremaining: 30.1ms\n",
      "316:\tlearn: 0.1605572\ttotal: 239ms\tremaining: 29.3ms\n",
      "317:\tlearn: 0.1603692\ttotal: 239ms\tremaining: 28.6ms\n",
      "318:\tlearn: 0.1601884\ttotal: 240ms\tremaining: 27.8ms\n",
      "319:\tlearn: 0.1600508\ttotal: 241ms\tremaining: 27.1ms\n",
      "320:\tlearn: 0.1599854\ttotal: 242ms\tremaining: 26.3ms\n",
      "321:\tlearn: 0.1597881\ttotal: 242ms\tremaining: 25.6ms\n",
      "322:\tlearn: 0.1595722\ttotal: 243ms\tremaining: 24.8ms\n",
      "323:\tlearn: 0.1594660\ttotal: 244ms\tremaining: 24.1ms\n",
      "324:\tlearn: 0.1591842\ttotal: 245ms\tremaining: 23.3ms\n",
      "325:\tlearn: 0.1589932\ttotal: 245ms\tremaining: 22.6ms\n",
      "326:\tlearn: 0.1587991\ttotal: 246ms\tremaining: 21.8ms\n",
      "327:\tlearn: 0.1587744\ttotal: 247ms\tremaining: 21.1ms\n",
      "328:\tlearn: 0.1585210\ttotal: 248ms\tremaining: 20.3ms\n",
      "329:\tlearn: 0.1582266\ttotal: 248ms\tremaining: 19.6ms\n",
      "330:\tlearn: 0.1579499\ttotal: 249ms\tremaining: 18.8ms\n",
      "331:\tlearn: 0.1578719\ttotal: 250ms\tremaining: 18.1ms\n",
      "332:\tlearn: 0.1576198\ttotal: 251ms\tremaining: 17.3ms\n",
      "333:\tlearn: 0.1575755\ttotal: 251ms\tremaining: 16.6ms\n",
      "334:\tlearn: 0.1574626\ttotal: 252ms\tremaining: 15.8ms\n",
      "335:\tlearn: 0.1572221\ttotal: 253ms\tremaining: 15.1ms\n",
      "336:\tlearn: 0.1569127\ttotal: 254ms\tremaining: 14.3ms\n",
      "337:\tlearn: 0.1567427\ttotal: 254ms\tremaining: 13.5ms\n",
      "338:\tlearn: 0.1565671\ttotal: 255ms\tremaining: 12.8ms\n",
      "339:\tlearn: 0.1563804\ttotal: 256ms\tremaining: 12ms\n",
      "340:\tlearn: 0.1563176\ttotal: 257ms\tremaining: 11.3ms\n",
      "341:\tlearn: 0.1559993\ttotal: 257ms\tremaining: 10.5ms\n",
      "342:\tlearn: 0.1558306\ttotal: 258ms\tremaining: 9.78ms\n",
      "343:\tlearn: 0.1557905\ttotal: 259ms\tremaining: 9.03ms\n",
      "344:\tlearn: 0.1555552\ttotal: 260ms\tremaining: 8.28ms\n",
      "345:\tlearn: 0.1554182\ttotal: 260ms\tremaining: 7.53ms\n",
      "346:\tlearn: 0.1552338\ttotal: 262ms\tremaining: 6.79ms\n",
      "347:\tlearn: 0.1550541\ttotal: 263ms\tremaining: 6.04ms\n",
      "348:\tlearn: 0.1549550\ttotal: 263ms\tremaining: 5.28ms\n",
      "349:\tlearn: 0.1548378\ttotal: 264ms\tremaining: 4.53ms\n",
      "350:\tlearn: 0.1547129\ttotal: 265ms\tremaining: 3.77ms\n",
      "351:\tlearn: 0.1545086\ttotal: 266ms\tremaining: 3.02ms\n",
      "352:\tlearn: 0.1542158\ttotal: 266ms\tremaining: 2.26ms\n",
      "353:\tlearn: 0.1540191\ttotal: 267ms\tremaining: 1.51ms\n",
      "354:\tlearn: 0.1537825\ttotal: 268ms\tremaining: 754us\n",
      "355:\tlearn: 0.1536536\ttotal: 269ms\tremaining: 0us\n",
      "0:\tlearn: 0.3350069\ttotal: 6.95ms\tremaining: 2.2s\n",
      "1:\tlearn: 0.3329976\ttotal: 11.6ms\tremaining: 1.83s\n",
      "2:\tlearn: 0.3312714\ttotal: 16.2ms\tremaining: 1.7s\n"
     ]
    },
    {
     "name": "stdout",
     "output_type": "stream",
     "text": [
      "3:\tlearn: 0.3293577\ttotal: 21.3ms\tremaining: 1.67s\n",
      "4:\tlearn: 0.3274952\ttotal: 26.5ms\tremaining: 1.65s\n",
      "5:\tlearn: 0.3257791\ttotal: 27.1ms\tremaining: 1.4s\n",
      "6:\tlearn: 0.3237907\ttotal: 31.6ms\tremaining: 1.4s\n",
      "7:\tlearn: 0.3218962\ttotal: 33.2ms\tremaining: 1.28s\n",
      "8:\tlearn: 0.3201540\ttotal: 33.8ms\tremaining: 1.16s\n",
      "9:\tlearn: 0.3185371\ttotal: 38.4ms\tremaining: 1.18s\n",
      "10:\tlearn: 0.3168076\ttotal: 43.1ms\tremaining: 1.2s\n",
      "11:\tlearn: 0.3149941\ttotal: 47.6ms\tremaining: 1.21s\n",
      "12:\tlearn: 0.3132489\ttotal: 52.4ms\tremaining: 1.23s\n",
      "13:\tlearn: 0.3115914\ttotal: 57.1ms\tremaining: 1.24s\n"
     ]
    },
    {
     "name": "stdout",
     "output_type": "stream",
     "text": [
      "14:\tlearn: 0.3100296\ttotal: 61.9ms\tremaining: 1.25s\n",
      "15:\tlearn: 0.3084034\ttotal: 66.6ms\tremaining: 1.25s\n",
      "16:\tlearn: 0.3067498\ttotal: 71.2ms\tremaining: 1.26s\n",
      "17:\tlearn: 0.3050614\ttotal: 75.6ms\tremaining: 1.26s\n",
      "18:\tlearn: 0.3034252\ttotal: 80.3ms\tremaining: 1.26s\n",
      "19:\tlearn: 0.3019656\ttotal: 85ms\tremaining: 1.26s\n",
      "20:\tlearn: 0.3005070\ttotal: 89.6ms\tremaining: 1.26s\n",
      "21:\tlearn: 0.2989060\ttotal: 93.9ms\tremaining: 1.26s\n",
      "22:\tlearn: 0.2975048\ttotal: 98.5ms\tremaining: 1.26s\n",
      "23:\tlearn: 0.2959467\ttotal: 103ms\tremaining: 1.26s\n",
      "24:\tlearn: 0.2945146\ttotal: 108ms\tremaining: 1.26s\n",
      "25:\tlearn: 0.2932661\ttotal: 108ms\tremaining: 1.21s\n",
      "26:\tlearn: 0.2917564\ttotal: 113ms\tremaining: 1.21s\n",
      "27:\tlearn: 0.2903458\ttotal: 117ms\tremaining: 1.21s\n",
      "28:\tlearn: 0.2890668\ttotal: 122ms\tremaining: 1.21s\n",
      "29:\tlearn: 0.2876352\ttotal: 127ms\tremaining: 1.21s\n",
      "30:\tlearn: 0.2862316\ttotal: 131ms\tremaining: 1.21s\n",
      "31:\tlearn: 0.2849036\ttotal: 136ms\tremaining: 1.21s\n",
      "32:\tlearn: 0.2835610\ttotal: 141ms\tremaining: 1.21s\n",
      "33:\tlearn: 0.2821828\ttotal: 145ms\tremaining: 1.21s\n",
      "34:\tlearn: 0.2809434\ttotal: 146ms\tremaining: 1.18s\n",
      "35:\tlearn: 0.2797008\ttotal: 151ms\tremaining: 1.18s\n",
      "36:\tlearn: 0.2784676\ttotal: 156ms\tremaining: 1.18s\n",
      "37:\tlearn: 0.2773225\ttotal: 161ms\tremaining: 1.18s\n",
      "38:\tlearn: 0.2761078\ttotal: 165ms\tremaining: 1.18s\n",
      "39:\tlearn: 0.2747941\ttotal: 169ms\tremaining: 1.17s\n",
      "40:\tlearn: 0.2735609\ttotal: 174ms\tremaining: 1.17s\n",
      "41:\tlearn: 0.2723349\ttotal: 179ms\tremaining: 1.17s\n",
      "42:\tlearn: 0.2712154\ttotal: 183ms\tremaining: 1.17s\n",
      "43:\tlearn: 0.2700077\ttotal: 188ms\tremaining: 1.17s\n",
      "44:\tlearn: 0.2689220\ttotal: 192ms\tremaining: 1.16s\n",
      "45:\tlearn: 0.2677224\ttotal: 197ms\tremaining: 1.16s\n",
      "46:\tlearn: 0.2665752\ttotal: 202ms\tremaining: 1.16s\n",
      "47:\tlearn: 0.2654110\ttotal: 207ms\tremaining: 1.16s\n",
      "48:\tlearn: 0.2643288\ttotal: 211ms\tremaining: 1.16s\n",
      "49:\tlearn: 0.2633064\ttotal: 216ms\tremaining: 1.15s\n"
     ]
    },
    {
     "name": "stdout",
     "output_type": "stream",
     "text": [
      "50:\tlearn: 0.2622808\ttotal: 221ms\tremaining: 1.15s\n",
      "51:\tlearn: 0.2613156\ttotal: 226ms\tremaining: 1.15s\n",
      "52:\tlearn: 0.2603267\ttotal: 231ms\tremaining: 1.15s\n",
      "53:\tlearn: 0.2593090\ttotal: 232ms\tremaining: 1.13s\n",
      "54:\tlearn: 0.2583915\ttotal: 237ms\tremaining: 1.13s\n",
      "55:\tlearn: 0.2572728\ttotal: 242ms\tremaining: 1.13s\n",
      "56:\tlearn: 0.2564189\ttotal: 247ms\tremaining: 1.12s\n",
      "57:\tlearn: 0.2554640\ttotal: 251ms\tremaining: 1.12s\n",
      "58:\tlearn: 0.2545430\ttotal: 256ms\tremaining: 1.12s\n"
     ]
    },
    {
     "name": "stdout",
     "output_type": "stream",
     "text": [
      "59:\tlearn: 0.2536097\ttotal: 261ms\tremaining: 1.12s\n",
      "60:\tlearn: 0.2526836\ttotal: 266ms\tremaining: 1.12s\n",
      "61:\tlearn: 0.2517779\ttotal: 270ms\tremaining: 1.11s\n",
      "62:\tlearn: 0.2508503\ttotal: 275ms\tremaining: 1.11s\n",
      "63:\tlearn: 0.2499787\ttotal: 280ms\tremaining: 1.1s\n",
      "64:\tlearn: 0.2491468\ttotal: 284ms\tremaining: 1.1s\n",
      "65:\tlearn: 0.2483218\ttotal: 289ms\tremaining: 1.1s\n",
      "66:\tlearn: 0.2474556\ttotal: 293ms\tremaining: 1.09s\n",
      "67:\tlearn: 0.2466144\ttotal: 298ms\tremaining: 1.09s\n",
      "68:\tlearn: 0.2456840\ttotal: 302ms\tremaining: 1.09s\n",
      "69:\tlearn: 0.2448941\ttotal: 307ms\tremaining: 1.08s\n",
      "70:\tlearn: 0.2441325\ttotal: 311ms\tremaining: 1.08s\n",
      "71:\tlearn: 0.2432882\ttotal: 316ms\tremaining: 1.07s\n",
      "72:\tlearn: 0.2424943\ttotal: 320ms\tremaining: 1.07s\n",
      "73:\tlearn: 0.2417738\ttotal: 325ms\tremaining: 1.07s\n",
      "74:\tlearn: 0.2409778\ttotal: 330ms\tremaining: 1.06s\n",
      "75:\tlearn: 0.2401871\ttotal: 334ms\tremaining: 1.06s\n",
      "76:\tlearn: 0.2393527\ttotal: 339ms\tremaining: 1.06s\n",
      "77:\tlearn: 0.2386930\ttotal: 343ms\tremaining: 1.05s\n",
      "78:\tlearn: 0.2380270\ttotal: 346ms\tremaining: 1.04s\n",
      "79:\tlearn: 0.2372950\ttotal: 351ms\tremaining: 1.04s\n",
      "80:\tlearn: 0.2365506\ttotal: 355ms\tremaining: 1.03s\n",
      "81:\tlearn: 0.2358108\ttotal: 360ms\tremaining: 1.03s\n",
      "82:\tlearn: 0.2350770\ttotal: 367ms\tremaining: 1.03s\n",
      "83:\tlearn: 0.2344775\ttotal: 372ms\tremaining: 1.03s\n",
      "84:\tlearn: 0.2337653\ttotal: 376ms\tremaining: 1.03s\n",
      "85:\tlearn: 0.2331179\ttotal: 381ms\tremaining: 1.02s\n",
      "86:\tlearn: 0.2324403\ttotal: 385ms\tremaining: 1.02s\n",
      "87:\tlearn: 0.2317609\ttotal: 390ms\tremaining: 1.01s\n",
      "88:\tlearn: 0.2310521\ttotal: 394ms\tremaining: 1.01s\n",
      "89:\tlearn: 0.2303751\ttotal: 399ms\tremaining: 1s\n",
      "90:\tlearn: 0.2298306\ttotal: 403ms\tremaining: 1s\n",
      "91:\tlearn: 0.2291583\ttotal: 408ms\tremaining: 997ms\n",
      "92:\tlearn: 0.2284514\ttotal: 412ms\tremaining: 992ms\n"
     ]
    },
    {
     "name": "stdout",
     "output_type": "stream",
     "text": [
      "93:\tlearn: 0.2278696\ttotal: 417ms\tremaining: 989ms\n",
      "94:\tlearn: 0.2272965\ttotal: 422ms\tremaining: 985ms\n",
      "95:\tlearn: 0.2267371\ttotal: 426ms\tremaining: 981ms\n",
      "96:\tlearn: 0.2261810\ttotal: 430ms\tremaining: 976ms\n",
      "97:\tlearn: 0.2256765\ttotal: 435ms\tremaining: 971ms\n",
      "98:\tlearn: 0.2251213\ttotal: 439ms\tremaining: 968ms\n",
      "99:\tlearn: 0.2244972\ttotal: 444ms\tremaining: 963ms\n",
      "100:\tlearn: 0.2238868\ttotal: 450ms\tremaining: 961ms\n",
      "101:\tlearn: 0.2233159\ttotal: 454ms\tremaining: 957ms\n"
     ]
    },
    {
     "name": "stdout",
     "output_type": "stream",
     "text": [
      "102:\tlearn: 0.2226591\ttotal: 459ms\tremaining: 953ms\n",
      "103:\tlearn: 0.2221182\ttotal: 463ms\tremaining: 949ms\n",
      "104:\tlearn: 0.2215340\ttotal: 469ms\tremaining: 946ms\n",
      "105:\tlearn: 0.2209681\ttotal: 473ms\tremaining: 942ms\n",
      "106:\tlearn: 0.2204591\ttotal: 478ms\tremaining: 937ms\n",
      "107:\tlearn: 0.2199252\ttotal: 482ms\tremaining: 933ms\n",
      "108:\tlearn: 0.2193291\ttotal: 487ms\tremaining: 929ms\n",
      "109:\tlearn: 0.2188876\ttotal: 492ms\tremaining: 925ms\n",
      "110:\tlearn: 0.2184116\ttotal: 496ms\tremaining: 921ms\n",
      "111:\tlearn: 0.2179318\ttotal: 501ms\tremaining: 917ms\n",
      "112:\tlearn: 0.2174638\ttotal: 506ms\tremaining: 913ms\n",
      "113:\tlearn: 0.2169541\ttotal: 511ms\tremaining: 909ms\n",
      "114:\tlearn: 0.2165480\ttotal: 515ms\tremaining: 905ms\n",
      "115:\tlearn: 0.2160247\ttotal: 519ms\tremaining: 900ms\n",
      "116:\tlearn: 0.2155270\ttotal: 524ms\tremaining: 896ms\n",
      "117:\tlearn: 0.2149709\ttotal: 529ms\tremaining: 892ms\n",
      "118:\tlearn: 0.2145198\ttotal: 534ms\tremaining: 888ms\n",
      "119:\tlearn: 0.2141364\ttotal: 538ms\tremaining: 884ms\n",
      "120:\tlearn: 0.2135739\ttotal: 543ms\tremaining: 880ms\n",
      "121:\tlearn: 0.2130610\ttotal: 548ms\tremaining: 876ms\n",
      "122:\tlearn: 0.2126427\ttotal: 553ms\tremaining: 873ms\n",
      "123:\tlearn: 0.2122187\ttotal: 558ms\tremaining: 868ms\n",
      "124:\tlearn: 0.2117656\ttotal: 564ms\tremaining: 866ms\n",
      "125:\tlearn: 0.2112876\ttotal: 568ms\tremaining: 861ms\n",
      "126:\tlearn: 0.2108402\ttotal: 573ms\tremaining: 857ms\n",
      "127:\tlearn: 0.2103659\ttotal: 577ms\tremaining: 853ms\n",
      "128:\tlearn: 0.2099096\ttotal: 582ms\tremaining: 849ms\n",
      "129:\tlearn: 0.2094744\ttotal: 587ms\tremaining: 844ms\n",
      "130:\tlearn: 0.2092821\ttotal: 587ms\tremaining: 833ms\n",
      "131:\tlearn: 0.2089016\ttotal: 591ms\tremaining: 829ms\n",
      "132:\tlearn: 0.2084988\ttotal: 596ms\tremaining: 824ms\n",
      "133:\tlearn: 0.2080349\ttotal: 601ms\tremaining: 820ms\n",
      "134:\tlearn: 0.2076300\ttotal: 606ms\tremaining: 816ms\n",
      "135:\tlearn: 0.2071801\ttotal: 610ms\tremaining: 812ms\n"
     ]
    },
    {
     "name": "stdout",
     "output_type": "stream",
     "text": [
      "136:\tlearn: 0.2067932\ttotal: 615ms\tremaining: 808ms\n",
      "137:\tlearn: 0.2064093\ttotal: 619ms\tremaining: 804ms\n",
      "138:\tlearn: 0.2059960\ttotal: 624ms\tremaining: 799ms\n",
      "139:\tlearn: 0.2056085\ttotal: 629ms\tremaining: 795ms\n",
      "140:\tlearn: 0.2051910\ttotal: 633ms\tremaining: 790ms\n",
      "141:\tlearn: 0.2048528\ttotal: 638ms\tremaining: 786ms\n",
      "142:\tlearn: 0.2044333\ttotal: 642ms\tremaining: 782ms\n",
      "143:\tlearn: 0.2040431\ttotal: 647ms\tremaining: 777ms\n",
      "144:\tlearn: 0.2036744\ttotal: 651ms\tremaining: 773ms\n"
     ]
    },
    {
     "name": "stdout",
     "output_type": "stream",
     "text": [
      "145:\tlearn: 0.2032612\ttotal: 657ms\tremaining: 770ms\n",
      "146:\tlearn: 0.2029844\ttotal: 662ms\tremaining: 765ms\n",
      "147:\tlearn: 0.2025758\ttotal: 666ms\tremaining: 761ms\n",
      "148:\tlearn: 0.2023924\ttotal: 667ms\tremaining: 752ms\n",
      "149:\tlearn: 0.2020425\ttotal: 672ms\tremaining: 748ms\n",
      "150:\tlearn: 0.2017326\ttotal: 673ms\tremaining: 740ms\n",
      "151:\tlearn: 0.2014057\ttotal: 678ms\tremaining: 736ms\n",
      "152:\tlearn: 0.2010576\ttotal: 682ms\tremaining: 731ms\n",
      "153:\tlearn: 0.2006664\ttotal: 687ms\tremaining: 727ms\n",
      "154:\tlearn: 0.2003844\ttotal: 692ms\tremaining: 723ms\n",
      "155:\tlearn: 0.2000922\ttotal: 696ms\tremaining: 719ms\n",
      "156:\tlearn: 0.1997418\ttotal: 701ms\tremaining: 714ms\n",
      "157:\tlearn: 0.1994517\ttotal: 706ms\tremaining: 710ms\n",
      "158:\tlearn: 0.1990842\ttotal: 710ms\tremaining: 706ms\n",
      "159:\tlearn: 0.1987728\ttotal: 715ms\tremaining: 701ms\n",
      "160:\tlearn: 0.1983809\ttotal: 719ms\tremaining: 697ms\n",
      "161:\tlearn: 0.1980386\ttotal: 724ms\tremaining: 693ms\n",
      "162:\tlearn: 0.1976885\ttotal: 729ms\tremaining: 688ms\n",
      "163:\tlearn: 0.1973202\ttotal: 733ms\tremaining: 684ms\n",
      "164:\tlearn: 0.1970093\ttotal: 738ms\tremaining: 680ms\n",
      "165:\tlearn: 0.1967656\ttotal: 743ms\tremaining: 676ms\n",
      "166:\tlearn: 0.1965021\ttotal: 748ms\tremaining: 672ms\n",
      "167:\tlearn: 0.1962127\ttotal: 753ms\tremaining: 668ms\n",
      "168:\tlearn: 0.1959394\ttotal: 757ms\tremaining: 663ms\n",
      "169:\tlearn: 0.1955656\ttotal: 762ms\tremaining: 659ms\n",
      "170:\tlearn: 0.1952555\ttotal: 766ms\tremaining: 654ms\n",
      "171:\tlearn: 0.1949194\ttotal: 770ms\tremaining: 650ms\n",
      "172:\tlearn: 0.1945572\ttotal: 775ms\tremaining: 645ms\n",
      "173:\tlearn: 0.1942841\ttotal: 779ms\tremaining: 641ms\n",
      "174:\tlearn: 0.1939238\ttotal: 784ms\tremaining: 636ms\n",
      "175:\tlearn: 0.1935603\ttotal: 789ms\tremaining: 632ms\n",
      "176:\tlearn: 0.1931648\ttotal: 794ms\tremaining: 628ms\n",
      "177:\tlearn: 0.1928694\ttotal: 798ms\tremaining: 623ms\n",
      "178:\tlearn: 0.1925699\ttotal: 802ms\tremaining: 619ms\n",
      "179:\tlearn: 0.1922640\ttotal: 807ms\tremaining: 614ms\n"
     ]
    },
    {
     "name": "stdout",
     "output_type": "stream",
     "text": [
      "180:\tlearn: 0.1920167\ttotal: 811ms\tremaining: 610ms\n",
      "181:\tlearn: 0.1916851\ttotal: 816ms\tremaining: 605ms\n",
      "182:\tlearn: 0.1914034\ttotal: 821ms\tremaining: 601ms\n",
      "183:\tlearn: 0.1911538\ttotal: 826ms\tremaining: 597ms\n",
      "184:\tlearn: 0.1909153\ttotal: 830ms\tremaining: 592ms\n",
      "185:\tlearn: 0.1906587\ttotal: 835ms\tremaining: 588ms\n",
      "186:\tlearn: 0.1903764\ttotal: 839ms\tremaining: 583ms\n",
      "187:\tlearn: 0.1901439\ttotal: 844ms\tremaining: 579ms\n",
      "188:\tlearn: 0.1899044\ttotal: 849ms\tremaining: 575ms\n"
     ]
    },
    {
     "name": "stdout",
     "output_type": "stream",
     "text": [
      "189:\tlearn: 0.1895608\ttotal: 853ms\tremaining: 570ms\n",
      "190:\tlearn: 0.1892852\ttotal: 858ms\tremaining: 566ms\n",
      "191:\tlearn: 0.1889795\ttotal: 863ms\tremaining: 562ms\n",
      "192:\tlearn: 0.1887150\ttotal: 867ms\tremaining: 557ms\n",
      "193:\tlearn: 0.1883888\ttotal: 872ms\tremaining: 553ms\n",
      "194:\tlearn: 0.1882094\ttotal: 876ms\tremaining: 548ms\n",
      "195:\tlearn: 0.1879711\ttotal: 881ms\tremaining: 544ms\n",
      "196:\tlearn: 0.1877316\ttotal: 886ms\tremaining: 539ms\n",
      "197:\tlearn: 0.1875030\ttotal: 890ms\tremaining: 535ms\n",
      "198:\tlearn: 0.1872449\ttotal: 896ms\tremaining: 531ms\n",
      "199:\tlearn: 0.1869370\ttotal: 901ms\tremaining: 527ms\n",
      "200:\tlearn: 0.1867155\ttotal: 905ms\tremaining: 522ms\n",
      "201:\tlearn: 0.1864632\ttotal: 910ms\tremaining: 518ms\n",
      "202:\tlearn: 0.1862242\ttotal: 915ms\tremaining: 514ms\n",
      "203:\tlearn: 0.1859756\ttotal: 920ms\tremaining: 509ms\n",
      "204:\tlearn: 0.1857801\ttotal: 924ms\tremaining: 505ms\n",
      "205:\tlearn: 0.1855322\ttotal: 929ms\tremaining: 501ms\n",
      "206:\tlearn: 0.1853865\ttotal: 934ms\tremaining: 496ms\n",
      "207:\tlearn: 0.1851565\ttotal: 938ms\tremaining: 492ms\n",
      "208:\tlearn: 0.1849454\ttotal: 943ms\tremaining: 487ms\n",
      "209:\tlearn: 0.1846731\ttotal: 947ms\tremaining: 483ms\n",
      "210:\tlearn: 0.1844694\ttotal: 952ms\tremaining: 478ms\n",
      "211:\tlearn: 0.1843240\ttotal: 956ms\tremaining: 474ms\n",
      "212:\tlearn: 0.1841285\ttotal: 960ms\tremaining: 469ms\n",
      "213:\tlearn: 0.1838558\ttotal: 965ms\tremaining: 465ms\n",
      "214:\tlearn: 0.1835999\ttotal: 970ms\tremaining: 460ms\n",
      "215:\tlearn: 0.1833751\ttotal: 975ms\tremaining: 456ms\n",
      "216:\tlearn: 0.1831073\ttotal: 979ms\tremaining: 451ms\n",
      "217:\tlearn: 0.1828727\ttotal: 984ms\tremaining: 447ms\n",
      "218:\tlearn: 0.1825733\ttotal: 989ms\tremaining: 442ms\n",
      "219:\tlearn: 0.1823820\ttotal: 993ms\tremaining: 438ms\n",
      "220:\tlearn: 0.1822033\ttotal: 999ms\tremaining: 434ms\n",
      "221:\tlearn: 0.1819607\ttotal: 1s\tremaining: 430ms\n"
     ]
    },
    {
     "name": "stdout",
     "output_type": "stream",
     "text": [
      "222:\tlearn: 0.1817049\ttotal: 1.01s\tremaining: 425ms\n",
      "223:\tlearn: 0.1815032\ttotal: 1.01s\tremaining: 421ms\n",
      "224:\tlearn: 0.1812890\ttotal: 1.02s\tremaining: 416ms\n",
      "225:\tlearn: 0.1810256\ttotal: 1.02s\tremaining: 412ms\n",
      "226:\tlearn: 0.1808302\ttotal: 1.03s\tremaining: 407ms\n",
      "227:\tlearn: 0.1805886\ttotal: 1.03s\tremaining: 403ms\n",
      "228:\tlearn: 0.1803485\ttotal: 1.04s\tremaining: 398ms\n",
      "229:\tlearn: 0.1800858\ttotal: 1.04s\tremaining: 394ms\n",
      "230:\tlearn: 0.1798427\ttotal: 1.05s\tremaining: 390ms\n"
     ]
    },
    {
     "name": "stdout",
     "output_type": "stream",
     "text": [
      "231:\tlearn: 0.1796007\ttotal: 1.05s\tremaining: 385ms\n",
      "232:\tlearn: 0.1794278\ttotal: 1.05s\tremaining: 381ms\n",
      "233:\tlearn: 0.1791598\ttotal: 1.06s\tremaining: 376ms\n",
      "234:\tlearn: 0.1789511\ttotal: 1.06s\tremaining: 372ms\n",
      "235:\tlearn: 0.1787396\ttotal: 1.07s\tremaining: 367ms\n",
      "236:\tlearn: 0.1785483\ttotal: 1.07s\tremaining: 362ms\n",
      "237:\tlearn: 0.1783536\ttotal: 1.08s\tremaining: 358ms\n",
      "238:\tlearn: 0.1781328\ttotal: 1.08s\tremaining: 354ms\n",
      "239:\tlearn: 0.1779309\ttotal: 1.09s\tremaining: 349ms\n",
      "240:\tlearn: 0.1777042\ttotal: 1.09s\tremaining: 345ms\n",
      "241:\tlearn: 0.1774374\ttotal: 1.1s\tremaining: 340ms\n",
      "242:\tlearn: 0.1772524\ttotal: 1.1s\tremaining: 336ms\n",
      "243:\tlearn: 0.1770227\ttotal: 1.11s\tremaining: 331ms\n",
      "244:\tlearn: 0.1768568\ttotal: 1.11s\tremaining: 327ms\n",
      "245:\tlearn: 0.1766887\ttotal: 1.12s\tremaining: 322ms\n",
      "246:\tlearn: 0.1764874\ttotal: 1.12s\tremaining: 318ms\n",
      "247:\tlearn: 0.1762958\ttotal: 1.13s\tremaining: 313ms\n",
      "248:\tlearn: 0.1761283\ttotal: 1.13s\tremaining: 309ms\n",
      "249:\tlearn: 0.1759273\ttotal: 1.13s\tremaining: 304ms\n",
      "250:\tlearn: 0.1757630\ttotal: 1.14s\tremaining: 300ms\n",
      "251:\tlearn: 0.1755355\ttotal: 1.14s\tremaining: 295ms\n",
      "252:\tlearn: 0.1753440\ttotal: 1.15s\tremaining: 291ms\n",
      "253:\tlearn: 0.1751141\ttotal: 1.15s\tremaining: 286ms\n",
      "254:\tlearn: 0.1748868\ttotal: 1.16s\tremaining: 281ms\n",
      "255:\tlearn: 0.1746723\ttotal: 1.16s\tremaining: 277ms\n",
      "256:\tlearn: 0.1744650\ttotal: 1.17s\tremaining: 273ms\n",
      "257:\tlearn: 0.1742948\ttotal: 1.17s\tremaining: 269ms\n",
      "258:\tlearn: 0.1741081\ttotal: 1.18s\tremaining: 264ms\n",
      "259:\tlearn: 0.1739212\ttotal: 1.18s\tremaining: 259ms\n",
      "260:\tlearn: 0.1736833\ttotal: 1.19s\tremaining: 255ms\n",
      "261:\tlearn: 0.1734672\ttotal: 1.19s\tremaining: 250ms\n",
      "262:\tlearn: 0.1734089\ttotal: 1.19s\tremaining: 245ms\n",
      "263:\tlearn: 0.1731383\ttotal: 1.2s\tremaining: 240ms\n",
      "264:\tlearn: 0.1729931\ttotal: 1.2s\tremaining: 236ms\n"
     ]
    },
    {
     "name": "stdout",
     "output_type": "stream",
     "text": [
      "265:\tlearn: 0.1728689\ttotal: 1.21s\tremaining: 232ms\n",
      "266:\tlearn: 0.1726702\ttotal: 1.21s\tremaining: 227ms\n",
      "267:\tlearn: 0.1724950\ttotal: 1.22s\tremaining: 223ms\n",
      "268:\tlearn: 0.1723174\ttotal: 1.22s\tremaining: 218ms\n",
      "269:\tlearn: 0.1721744\ttotal: 1.23s\tremaining: 214ms\n",
      "270:\tlearn: 0.1720066\ttotal: 1.23s\tremaining: 209ms\n",
      "271:\tlearn: 0.1718574\ttotal: 1.24s\tremaining: 204ms\n",
      "272:\tlearn: 0.1716786\ttotal: 1.24s\tremaining: 200ms\n",
      "273:\tlearn: 0.1714874\ttotal: 1.25s\tremaining: 195ms\n"
     ]
    },
    {
     "name": "stdout",
     "output_type": "stream",
     "text": [
      "274:\tlearn: 0.1713061\ttotal: 1.25s\tremaining: 191ms\n",
      "275:\tlearn: 0.1711195\ttotal: 1.25s\tremaining: 186ms\n",
      "276:\tlearn: 0.1709821\ttotal: 1.26s\tremaining: 182ms\n",
      "277:\tlearn: 0.1708151\ttotal: 1.26s\tremaining: 177ms\n",
      "278:\tlearn: 0.1706612\ttotal: 1.27s\tremaining: 173ms\n",
      "279:\tlearn: 0.1705835\ttotal: 1.27s\tremaining: 168ms\n",
      "280:\tlearn: 0.1704485\ttotal: 1.28s\tremaining: 164ms\n",
      "281:\tlearn: 0.1702416\ttotal: 1.28s\tremaining: 159ms\n",
      "282:\tlearn: 0.1700511\ttotal: 1.29s\tremaining: 155ms\n",
      "283:\tlearn: 0.1698733\ttotal: 1.29s\tremaining: 150ms\n",
      "284:\tlearn: 0.1697421\ttotal: 1.29s\tremaining: 145ms\n",
      "285:\tlearn: 0.1695638\ttotal: 1.3s\tremaining: 141ms\n",
      "286:\tlearn: 0.1693488\ttotal: 1.3s\tremaining: 136ms\n",
      "287:\tlearn: 0.1692507\ttotal: 1.31s\tremaining: 132ms\n",
      "288:\tlearn: 0.1690585\ttotal: 1.31s\tremaining: 127ms\n",
      "289:\tlearn: 0.1689202\ttotal: 1.32s\tremaining: 123ms\n",
      "290:\tlearn: 0.1687932\ttotal: 1.32s\tremaining: 118ms\n",
      "291:\tlearn: 0.1686017\ttotal: 1.33s\tremaining: 114ms\n",
      "292:\tlearn: 0.1684403\ttotal: 1.33s\tremaining: 109ms\n",
      "293:\tlearn: 0.1682390\ttotal: 1.34s\tremaining: 105ms\n",
      "294:\tlearn: 0.1680760\ttotal: 1.34s\tremaining: 100ms\n",
      "295:\tlearn: 0.1679349\ttotal: 1.35s\tremaining: 95.5ms\n",
      "296:\tlearn: 0.1677567\ttotal: 1.35s\tremaining: 91ms\n",
      "297:\tlearn: 0.1676536\ttotal: 1.35s\tremaining: 86.4ms\n",
      "298:\tlearn: 0.1675305\ttotal: 1.36s\tremaining: 81.9ms\n",
      "299:\tlearn: 0.1673764\ttotal: 1.36s\tremaining: 77.4ms\n",
      "300:\tlearn: 0.1671908\ttotal: 1.37s\tremaining: 72.8ms\n",
      "301:\tlearn: 0.1670640\ttotal: 1.37s\tremaining: 68.3ms\n",
      "302:\tlearn: 0.1668753\ttotal: 1.38s\tremaining: 63.7ms\n",
      "303:\tlearn: 0.1666700\ttotal: 1.38s\tremaining: 59.2ms\n",
      "304:\tlearn: 0.1664823\ttotal: 1.39s\tremaining: 54.6ms\n",
      "305:\tlearn: 0.1663359\ttotal: 1.39s\tremaining: 50.1ms\n",
      "306:\tlearn: 0.1661186\ttotal: 1.4s\tremaining: 45.5ms\n",
      "307:\tlearn: 0.1660204\ttotal: 1.4s\tremaining: 40.9ms\n"
     ]
    },
    {
     "name": "stdout",
     "output_type": "stream",
     "text": [
      "308:\tlearn: 0.1658314\ttotal: 1.4s\tremaining: 36.3ms\n",
      "309:\tlearn: 0.1657033\ttotal: 1.41s\tremaining: 31.8ms\n",
      "310:\tlearn: 0.1655066\ttotal: 1.41s\tremaining: 27.3ms\n",
      "311:\tlearn: 0.1653731\ttotal: 1.42s\tremaining: 22.7ms\n",
      "312:\tlearn: 0.1652341\ttotal: 1.42s\tremaining: 18.2ms\n",
      "313:\tlearn: 0.1650647\ttotal: 1.43s\tremaining: 13.6ms\n",
      "314:\tlearn: 0.1649257\ttotal: 1.43s\tremaining: 9.08ms\n",
      "315:\tlearn: 0.1647367\ttotal: 1.44s\tremaining: 4.54ms\n",
      "316:\tlearn: 0.1645681\ttotal: 1.44s\tremaining: 0us\n"
     ]
    }
   ],
   "source": [
    "sample = 'val'\n",
    "models = {}\n",
    "for task in TASKS:\n",
    "    model = cb.CatBoostRegressor(**best_params_dict[task])\n",
    "    model.fit(X[f'{sample}-{task}'], y[f'{sample}-{task}']['p'])\n",
    "    models[task] = model"
   ]
  },
  {
   "cell_type": "markdown",
   "metadata": {},
   "source": [
    "## Predict"
   ]
  },
  {
   "cell_type": "code",
   "execution_count": 23,
   "metadata": {
    "execution": {
     "iopub.execute_input": "2024-04-02T08:39:56.431419Z",
     "iopub.status.busy": "2024-04-02T08:39:56.431191Z",
     "iopub.status.idle": "2024-04-02T08:39:56.441250Z",
     "shell.execute_reply": "2024-04-02T08:39:56.440758Z"
    }
   },
   "outputs": [
    {
     "name": "stdout",
     "output_type": "stream",
     "text": [
      "test-agnostic - done!\n",
      "test-aware - done!\n"
     ]
    }
   ],
   "source": [
    "sample = 'test'\n",
    "preds_proba = {}\n",
    "for task in TASKS:\n",
    "    preds_proba[task] = models[task].predict(X[f'{sample}-{task}'])\n",
    "\n",
    "    # Postprocessing\n",
    "    np.clip(preds_proba[task], 0.0, 1.0, out=preds_proba[task])\n",
    "\n",
    "    print(f'{sample}-{task} - done!')"
   ]
  },
  {
   "cell_type": "markdown",
   "metadata": {},
   "source": [
    "# Submit\n",
    "## Form dataframe"
   ]
  },
  {
   "cell_type": "code",
   "execution_count": 24,
   "metadata": {
    "execution": {
     "iopub.execute_input": "2024-04-02T08:39:56.443733Z",
     "iopub.status.busy": "2024-04-02T08:39:56.443529Z",
     "iopub.status.idle": "2024-04-02T08:39:56.460193Z",
     "shell.execute_reply": "2024-04-02T08:39:56.459740Z"
    }
   },
   "outputs": [
    {
     "data": {
      "text/html": [
       "<div>\n",
       "<style scoped>\n",
       "    .dataframe tbody tr th:only-of-type {\n",
       "        vertical-align: middle;\n",
       "    }\n",
       "\n",
       "    .dataframe tbody tr th {\n",
       "        vertical-align: top;\n",
       "    }\n",
       "\n",
       "    .dataframe thead th {\n",
       "        text-align: right;\n",
       "    }\n",
       "</style>\n",
       "<table border=\"1\" class=\"dataframe\">\n",
       "  <thead>\n",
       "    <tr style=\"text-align: right;\">\n",
       "      <th></th>\n",
       "      <th>id</th>\n",
       "      <th>label</th>\n",
       "      <th>p(Hallucination)</th>\n",
       "    </tr>\n",
       "  </thead>\n",
       "  <tbody>\n",
       "    <tr>\n",
       "      <th>0</th>\n",
       "      <td>1</td>\n",
       "      <td>Not Hallucination</td>\n",
       "      <td>0.285036</td>\n",
       "    </tr>\n",
       "    <tr>\n",
       "      <th>1</th>\n",
       "      <td>2</td>\n",
       "      <td>Not Hallucination</td>\n",
       "      <td>0.369860</td>\n",
       "    </tr>\n",
       "    <tr>\n",
       "      <th>2</th>\n",
       "      <td>3</td>\n",
       "      <td>Not Hallucination</td>\n",
       "      <td>0.184247</td>\n",
       "    </tr>\n",
       "    <tr>\n",
       "      <th>3</th>\n",
       "      <td>6</td>\n",
       "      <td>Hallucination</td>\n",
       "      <td>0.940665</td>\n",
       "    </tr>\n",
       "    <tr>\n",
       "      <th>4</th>\n",
       "      <td>7</td>\n",
       "      <td>Hallucination</td>\n",
       "      <td>0.566837</td>\n",
       "    </tr>\n",
       "    <tr>\n",
       "      <th>...</th>\n",
       "      <td>...</td>\n",
       "      <td>...</td>\n",
       "      <td>...</td>\n",
       "    </tr>\n",
       "    <tr>\n",
       "      <th>1495</th>\n",
       "      <td>2992</td>\n",
       "      <td>Not Hallucination</td>\n",
       "      <td>0.144588</td>\n",
       "    </tr>\n",
       "    <tr>\n",
       "      <th>1496</th>\n",
       "      <td>2993</td>\n",
       "      <td>Hallucination</td>\n",
       "      <td>0.897099</td>\n",
       "    </tr>\n",
       "    <tr>\n",
       "      <th>1497</th>\n",
       "      <td>2994</td>\n",
       "      <td>Not Hallucination</td>\n",
       "      <td>0.335924</td>\n",
       "    </tr>\n",
       "    <tr>\n",
       "      <th>1498</th>\n",
       "      <td>2996</td>\n",
       "      <td>Not Hallucination</td>\n",
       "      <td>0.166182</td>\n",
       "    </tr>\n",
       "    <tr>\n",
       "      <th>1499</th>\n",
       "      <td>2999</td>\n",
       "      <td>Not Hallucination</td>\n",
       "      <td>0.238441</td>\n",
       "    </tr>\n",
       "  </tbody>\n",
       "</table>\n",
       "<p>1500 rows × 3 columns</p>\n",
       "</div>"
      ],
      "text/plain": [
       "        id              label  p(Hallucination)\n",
       "0        1  Not Hallucination          0.285036\n",
       "1        2  Not Hallucination          0.369860\n",
       "2        3  Not Hallucination          0.184247\n",
       "3        6      Hallucination          0.940665\n",
       "4        7      Hallucination          0.566837\n",
       "...    ...                ...               ...\n",
       "1495  2992  Not Hallucination          0.144588\n",
       "1496  2993      Hallucination          0.897099\n",
       "1497  2994  Not Hallucination          0.335924\n",
       "1498  2996  Not Hallucination          0.166182\n",
       "1499  2999  Not Hallucination          0.238441\n",
       "\n",
       "[1500 rows x 3 columns]"
      ]
     },
     "metadata": {},
     "output_type": "display_data"
    },
    {
     "data": {
      "text/html": [
       "<div>\n",
       "<style scoped>\n",
       "    .dataframe tbody tr th:only-of-type {\n",
       "        vertical-align: middle;\n",
       "    }\n",
       "\n",
       "    .dataframe tbody tr th {\n",
       "        vertical-align: top;\n",
       "    }\n",
       "\n",
       "    .dataframe thead th {\n",
       "        text-align: right;\n",
       "    }\n",
       "</style>\n",
       "<table border=\"1\" class=\"dataframe\">\n",
       "  <thead>\n",
       "    <tr style=\"text-align: right;\">\n",
       "      <th></th>\n",
       "      <th>id</th>\n",
       "      <th>label</th>\n",
       "      <th>p(Hallucination)</th>\n",
       "    </tr>\n",
       "  </thead>\n",
       "  <tbody>\n",
       "    <tr>\n",
       "      <th>0</th>\n",
       "      <td>0</td>\n",
       "      <td>Not Hallucination</td>\n",
       "      <td>0.153799</td>\n",
       "    </tr>\n",
       "    <tr>\n",
       "      <th>1</th>\n",
       "      <td>4</td>\n",
       "      <td>Not Hallucination</td>\n",
       "      <td>0.306519</td>\n",
       "    </tr>\n",
       "    <tr>\n",
       "      <th>2</th>\n",
       "      <td>5</td>\n",
       "      <td>Not Hallucination</td>\n",
       "      <td>0.448077</td>\n",
       "    </tr>\n",
       "    <tr>\n",
       "      <th>3</th>\n",
       "      <td>9</td>\n",
       "      <td>Hallucination</td>\n",
       "      <td>0.775503</td>\n",
       "    </tr>\n",
       "    <tr>\n",
       "      <th>4</th>\n",
       "      <td>11</td>\n",
       "      <td>Not Hallucination</td>\n",
       "      <td>0.123365</td>\n",
       "    </tr>\n",
       "    <tr>\n",
       "      <th>...</th>\n",
       "      <td>...</td>\n",
       "      <td>...</td>\n",
       "      <td>...</td>\n",
       "    </tr>\n",
       "    <tr>\n",
       "      <th>1495</th>\n",
       "      <td>2988</td>\n",
       "      <td>Not Hallucination</td>\n",
       "      <td>0.474919</td>\n",
       "    </tr>\n",
       "    <tr>\n",
       "      <th>1496</th>\n",
       "      <td>2991</td>\n",
       "      <td>Not Hallucination</td>\n",
       "      <td>0.372153</td>\n",
       "    </tr>\n",
       "    <tr>\n",
       "      <th>1497</th>\n",
       "      <td>2995</td>\n",
       "      <td>Not Hallucination</td>\n",
       "      <td>0.149408</td>\n",
       "    </tr>\n",
       "    <tr>\n",
       "      <th>1498</th>\n",
       "      <td>2997</td>\n",
       "      <td>Not Hallucination</td>\n",
       "      <td>0.198539</td>\n",
       "    </tr>\n",
       "    <tr>\n",
       "      <th>1499</th>\n",
       "      <td>2998</td>\n",
       "      <td>Hallucination</td>\n",
       "      <td>0.553091</td>\n",
       "    </tr>\n",
       "  </tbody>\n",
       "</table>\n",
       "<p>1500 rows × 3 columns</p>\n",
       "</div>"
      ],
      "text/plain": [
       "        id              label  p(Hallucination)\n",
       "0        0  Not Hallucination          0.153799\n",
       "1        4  Not Hallucination          0.306519\n",
       "2        5  Not Hallucination          0.448077\n",
       "3        9      Hallucination          0.775503\n",
       "4       11  Not Hallucination          0.123365\n",
       "...    ...                ...               ...\n",
       "1495  2988  Not Hallucination          0.474919\n",
       "1496  2991  Not Hallucination          0.372153\n",
       "1497  2995  Not Hallucination          0.149408\n",
       "1498  2997  Not Hallucination          0.198539\n",
       "1499  2998      Hallucination          0.553091\n",
       "\n",
       "[1500 rows x 3 columns]"
      ]
     },
     "metadata": {},
     "output_type": "display_data"
    }
   ],
   "source": [
    "sample = 'test'\n",
    "submission = {}\n",
    "for task in TASKS:\n",
    "    if USE_CATBOOST_CLASSIFIER:\n",
    "        labels = preds_label[task]\n",
    "    else:\n",
    "        labels = pd.Series(preds_proba[task]).apply(lambda x: 'Hallucination' if x > 0.5 else 'Not Hallucination').to_list()\n",
    "    \n",
    "    submission[task] = pd.DataFrame({\n",
    "        'id': X[f'{sample}-{task}'].index.to_list(),\n",
    "        'label': labels,\n",
    "        'p(Hallucination)': preds_proba[task],\n",
    "        })\n",
    "    display(submission[task])"
   ]
  },
  {
   "cell_type": "markdown",
   "metadata": {},
   "source": [
    "## Save to json"
   ]
  },
  {
   "cell_type": "code",
   "execution_count": 25,
   "metadata": {
    "execution": {
     "iopub.execute_input": "2024-04-02T08:39:56.462679Z",
     "iopub.status.busy": "2024-04-02T08:39:56.462423Z",
     "iopub.status.idle": "2024-04-02T08:39:56.471375Z",
     "shell.execute_reply": "2024-04-02T08:39:56.470837Z"
    }
   },
   "outputs": [
    {
     "name": "stdout",
     "output_type": "stream",
     "text": [
      "./output/catboost/test6/test.model-agnostic.json\n",
      "./output/catboost/test6/test.model-aware.json\n"
     ]
    }
   ],
   "source": [
    "sample = 'test'\n",
    "for task in TASKS:\n",
    "    json_file_path = f'{SUBMISSION_PATH}{sample}.model-{task}.json'\n",
    "\n",
    "    # Check if file exists\n",
    "    assert not os.path.exists(json_file_path), 'File already exists.'\n",
    "\n",
    "    # Save to .json file\n",
    "    submission[task].to_json(path_or_buf=json_file_path, orient='records')\n",
    "\n",
    "    print(json_file_path)"
   ]
  },
  {
   "cell_type": "markdown",
   "metadata": {},
   "source": [
    "## Check file format"
   ]
  },
  {
   "cell_type": "code",
   "execution_count": 26,
   "metadata": {
    "execution": {
     "iopub.execute_input": "2024-04-02T08:39:56.473773Z",
     "iopub.status.busy": "2024-04-02T08:39:56.473571Z",
     "iopub.status.idle": "2024-04-02T08:39:56.864690Z",
     "shell.execute_reply": "2024-04-02T08:39:56.864113Z"
    }
   },
   "outputs": [
    {
     "name": "stdout",
     "output_type": "stream",
     "text": [
      "all clear!\r\n"
     ]
    }
   ],
   "source": [
    "sample = 'test'\n",
    "if sample == 'val':\n",
    "    !python ./check_output.py {SUBMISSION_PATH} --is_val\n",
    "elif sample == 'test':\n",
    "    !python ./check_output.py {SUBMISSION_PATH}"
   ]
  },
  {
   "cell_type": "markdown",
   "metadata": {},
   "source": [
    "## Evaluate"
   ]
  },
  {
   "cell_type": "code",
   "execution_count": 27,
   "metadata": {
    "execution": {
     "iopub.execute_input": "2024-04-02T08:39:56.867705Z",
     "iopub.status.busy": "2024-04-02T08:39:56.867470Z",
     "iopub.status.idle": "2024-04-02T08:39:57.936423Z",
     "shell.execute_reply": "2024-04-02T08:39:57.935832Z"
    }
   },
   "outputs": [
    {
     "name": "stdout",
     "output_type": "stream",
     "text": [
      "agnostic_acc:0.8253333333333334\n",
      "agnostic_rho:0.7571334944036751\n",
      "aware_acc:0.7993333333333333\n",
      "aware_rho:0.7217873788633554\n",
      "\n"
     ]
    }
   ],
   "source": [
    "sample = 'test'\n",
    "if sample == 'val':\n",
    "    !python ./score.py {SUBMISSION_PATH} {REFERENCE_PATH} {RESULT_PATH} --is_val\n",
    "elif sample == 'test':\n",
    "    !python ./score.py {SUBMISSION_PATH} {REFERENCE_PATH} {RESULT_PATH}\n",
    "\n",
    "with open(RESULT_PATH) as fp:\n",
    "    print(fp.read())"
   ]
  },
  {
   "cell_type": "markdown",
   "metadata": {},
   "source": [
    "# Feature importance"
   ]
  },
  {
   "cell_type": "code",
   "execution_count": 28,
   "metadata": {
    "execution": {
     "iopub.execute_input": "2024-04-02T08:39:57.939390Z",
     "iopub.status.busy": "2024-04-02T08:39:57.939163Z",
     "iopub.status.idle": "2024-04-02T08:39:57.969022Z",
     "shell.execute_reply": "2024-04-02T08:39:57.968477Z"
    }
   },
   "outputs": [
    {
     "name": "stdout",
     "output_type": "stream",
     "text": [
      "agnostic\n"
     ]
    },
    {
     "data": {
      "text/html": [
       "<div>\n",
       "<style scoped>\n",
       "    .dataframe tbody tr th:only-of-type {\n",
       "        vertical-align: middle;\n",
       "    }\n",
       "\n",
       "    .dataframe tbody tr th {\n",
       "        vertical-align: top;\n",
       "    }\n",
       "\n",
       "    .dataframe thead th {\n",
       "        text-align: right;\n",
       "    }\n",
       "</style>\n",
       "<table border=\"1\" class=\"dataframe\">\n",
       "  <thead>\n",
       "    <tr style=\"text-align: right;\">\n",
       "      <th></th>\n",
       "      <th>feature_importance</th>\n",
       "      <th>feature_names</th>\n",
       "    </tr>\n",
       "  </thead>\n",
       "  <tbody>\n",
       "    <tr>\n",
       "      <th>5</th>\n",
       "      <td>15.161205</td>\n",
       "      <td>p(Contr)_google_t5_xxl_true_nli_mixture</td>\n",
       "    </tr>\n",
       "    <tr>\n",
       "      <th>6</th>\n",
       "      <td>9.723069</td>\n",
       "      <td>p(Contr)_sentence-transformers-nli-roberta-large</td>\n",
       "    </tr>\n",
       "    <tr>\n",
       "      <th>16</th>\n",
       "      <td>8.870520</td>\n",
       "      <td>p(Entl)_microsoft-deberta-v2-xxlarge-mnli</td>\n",
       "    </tr>\n",
       "    <tr>\n",
       "      <th>3</th>\n",
       "      <td>7.117579</td>\n",
       "      <td>p(Contr)_FacebookAI-roberta-large-mnli</td>\n",
       "    </tr>\n",
       "    <tr>\n",
       "      <th>2</th>\n",
       "      <td>6.703525</td>\n",
       "      <td>src_len</td>\n",
       "    </tr>\n",
       "    <tr>\n",
       "      <th>8</th>\n",
       "      <td>6.317207</td>\n",
       "      <td>p(Entl)_microsoft-deberta-base-mnli</td>\n",
       "    </tr>\n",
       "    <tr>\n",
       "      <th>14</th>\n",
       "      <td>5.264956</td>\n",
       "      <td>p(Entl)_microsoft-deberta-v2-xlarge-mnli</td>\n",
       "    </tr>\n",
       "    <tr>\n",
       "      <th>12</th>\n",
       "      <td>5.149985</td>\n",
       "      <td>p(Entl)_microsoft-deberta-xlarge-mnli</td>\n",
       "    </tr>\n",
       "    <tr>\n",
       "      <th>1</th>\n",
       "      <td>4.458982</td>\n",
       "      <td>tgt_len</td>\n",
       "    </tr>\n",
       "    <tr>\n",
       "      <th>15</th>\n",
       "      <td>4.426080</td>\n",
       "      <td>p(Contr)_microsoft-deberta-v2-xxlarge-mnli</td>\n",
       "    </tr>\n",
       "    <tr>\n",
       "      <th>4</th>\n",
       "      <td>4.392366</td>\n",
       "      <td>p(Contr)_deberta-selfchecknli</td>\n",
       "    </tr>\n",
       "    <tr>\n",
       "      <th>0</th>\n",
       "      <td>4.369568</td>\n",
       "      <td>hyp_len</td>\n",
       "    </tr>\n",
       "    <tr>\n",
       "      <th>13</th>\n",
       "      <td>4.133230</td>\n",
       "      <td>p(Contr)_microsoft-deberta-v2-xlarge-mnli</td>\n",
       "    </tr>\n",
       "    <tr>\n",
       "      <th>10</th>\n",
       "      <td>3.821615</td>\n",
       "      <td>p(Entl)_microsoft-deberta-large-mnli</td>\n",
       "    </tr>\n",
       "    <tr>\n",
       "      <th>9</th>\n",
       "      <td>3.802890</td>\n",
       "      <td>p(Contr)_microsoft-deberta-large-mnli</td>\n",
       "    </tr>\n",
       "    <tr>\n",
       "      <th>7</th>\n",
       "      <td>3.205744</td>\n",
       "      <td>p(Contr)_microsoft-deberta-base-mnli</td>\n",
       "    </tr>\n",
       "    <tr>\n",
       "      <th>11</th>\n",
       "      <td>3.081480</td>\n",
       "      <td>p(Contr)_microsoft-deberta-xlarge-mnli</td>\n",
       "    </tr>\n",
       "  </tbody>\n",
       "</table>\n",
       "</div>"
      ],
      "text/plain": [
       "    feature_importance                                     feature_names\n",
       "5            15.161205           p(Contr)_google_t5_xxl_true_nli_mixture\n",
       "6             9.723069  p(Contr)_sentence-transformers-nli-roberta-large\n",
       "16            8.870520         p(Entl)_microsoft-deberta-v2-xxlarge-mnli\n",
       "3             7.117579            p(Contr)_FacebookAI-roberta-large-mnli\n",
       "2             6.703525                                           src_len\n",
       "8             6.317207               p(Entl)_microsoft-deberta-base-mnli\n",
       "14            5.264956          p(Entl)_microsoft-deberta-v2-xlarge-mnli\n",
       "12            5.149985             p(Entl)_microsoft-deberta-xlarge-mnli\n",
       "1             4.458982                                           tgt_len\n",
       "15            4.426080        p(Contr)_microsoft-deberta-v2-xxlarge-mnli\n",
       "4             4.392366                     p(Contr)_deberta-selfchecknli\n",
       "0             4.369568                                           hyp_len\n",
       "13            4.133230         p(Contr)_microsoft-deberta-v2-xlarge-mnli\n",
       "10            3.821615              p(Entl)_microsoft-deberta-large-mnli\n",
       "9             3.802890             p(Contr)_microsoft-deberta-large-mnli\n",
       "7             3.205744              p(Contr)_microsoft-deberta-base-mnli\n",
       "11            3.081480            p(Contr)_microsoft-deberta-xlarge-mnli"
      ]
     },
     "metadata": {},
     "output_type": "display_data"
    },
    {
     "name": "stdout",
     "output_type": "stream",
     "text": [
      "aware\n"
     ]
    },
    {
     "data": {
      "text/html": [
       "<div>\n",
       "<style scoped>\n",
       "    .dataframe tbody tr th:only-of-type {\n",
       "        vertical-align: middle;\n",
       "    }\n",
       "\n",
       "    .dataframe tbody tr th {\n",
       "        vertical-align: top;\n",
       "    }\n",
       "\n",
       "    .dataframe thead th {\n",
       "        text-align: right;\n",
       "    }\n",
       "</style>\n",
       "<table border=\"1\" class=\"dataframe\">\n",
       "  <thead>\n",
       "    <tr style=\"text-align: right;\">\n",
       "      <th></th>\n",
       "      <th>feature_importance</th>\n",
       "      <th>feature_names</th>\n",
       "    </tr>\n",
       "  </thead>\n",
       "  <tbody>\n",
       "    <tr>\n",
       "      <th>6</th>\n",
       "      <td>18.408850</td>\n",
       "      <td>p(Contr)_sentence-transformers-nli-roberta-large</td>\n",
       "    </tr>\n",
       "    <tr>\n",
       "      <th>4</th>\n",
       "      <td>8.687278</td>\n",
       "      <td>p(Contr)_deberta-selfchecknli</td>\n",
       "    </tr>\n",
       "    <tr>\n",
       "      <th>1</th>\n",
       "      <td>6.915558</td>\n",
       "      <td>tgt_len</td>\n",
       "    </tr>\n",
       "    <tr>\n",
       "      <th>0</th>\n",
       "      <td>6.913941</td>\n",
       "      <td>hyp_len</td>\n",
       "    </tr>\n",
       "    <tr>\n",
       "      <th>2</th>\n",
       "      <td>5.900871</td>\n",
       "      <td>src_len</td>\n",
       "    </tr>\n",
       "    <tr>\n",
       "      <th>5</th>\n",
       "      <td>5.689571</td>\n",
       "      <td>p(Contr)_google_t5_xxl_true_nli_mixture</td>\n",
       "    </tr>\n",
       "    <tr>\n",
       "      <th>10</th>\n",
       "      <td>5.351988</td>\n",
       "      <td>p(Entl)_microsoft-deberta-large-mnli</td>\n",
       "    </tr>\n",
       "    <tr>\n",
       "      <th>16</th>\n",
       "      <td>5.144338</td>\n",
       "      <td>p(Entl)_microsoft-deberta-v2-xxlarge-mnli</td>\n",
       "    </tr>\n",
       "    <tr>\n",
       "      <th>3</th>\n",
       "      <td>4.894154</td>\n",
       "      <td>p(Contr)_FacebookAI-roberta-large-mnli</td>\n",
       "    </tr>\n",
       "    <tr>\n",
       "      <th>12</th>\n",
       "      <td>4.851402</td>\n",
       "      <td>p(Entl)_microsoft-deberta-xlarge-mnli</td>\n",
       "    </tr>\n",
       "    <tr>\n",
       "      <th>9</th>\n",
       "      <td>4.478758</td>\n",
       "      <td>p(Contr)_microsoft-deberta-large-mnli</td>\n",
       "    </tr>\n",
       "    <tr>\n",
       "      <th>11</th>\n",
       "      <td>4.135147</td>\n",
       "      <td>p(Contr)_microsoft-deberta-xlarge-mnli</td>\n",
       "    </tr>\n",
       "    <tr>\n",
       "      <th>14</th>\n",
       "      <td>4.092593</td>\n",
       "      <td>p(Entl)_microsoft-deberta-v2-xlarge-mnli</td>\n",
       "    </tr>\n",
       "    <tr>\n",
       "      <th>7</th>\n",
       "      <td>3.891929</td>\n",
       "      <td>p(Contr)_microsoft-deberta-base-mnli</td>\n",
       "    </tr>\n",
       "    <tr>\n",
       "      <th>15</th>\n",
       "      <td>3.719675</td>\n",
       "      <td>p(Contr)_microsoft-deberta-v2-xxlarge-mnli</td>\n",
       "    </tr>\n",
       "    <tr>\n",
       "      <th>8</th>\n",
       "      <td>3.506895</td>\n",
       "      <td>p(Entl)_microsoft-deberta-base-mnli</td>\n",
       "    </tr>\n",
       "    <tr>\n",
       "      <th>13</th>\n",
       "      <td>3.417052</td>\n",
       "      <td>p(Contr)_microsoft-deberta-v2-xlarge-mnli</td>\n",
       "    </tr>\n",
       "  </tbody>\n",
       "</table>\n",
       "</div>"
      ],
      "text/plain": [
       "    feature_importance                                     feature_names\n",
       "6            18.408850  p(Contr)_sentence-transformers-nli-roberta-large\n",
       "4             8.687278                     p(Contr)_deberta-selfchecknli\n",
       "1             6.915558                                           tgt_len\n",
       "0             6.913941                                           hyp_len\n",
       "2             5.900871                                           src_len\n",
       "5             5.689571           p(Contr)_google_t5_xxl_true_nli_mixture\n",
       "10            5.351988              p(Entl)_microsoft-deberta-large-mnli\n",
       "16            5.144338         p(Entl)_microsoft-deberta-v2-xxlarge-mnli\n",
       "3             4.894154            p(Contr)_FacebookAI-roberta-large-mnli\n",
       "12            4.851402             p(Entl)_microsoft-deberta-xlarge-mnli\n",
       "9             4.478758             p(Contr)_microsoft-deberta-large-mnli\n",
       "11            4.135147            p(Contr)_microsoft-deberta-xlarge-mnli\n",
       "14            4.092593          p(Entl)_microsoft-deberta-v2-xlarge-mnli\n",
       "7             3.891929              p(Contr)_microsoft-deberta-base-mnli\n",
       "15            3.719675        p(Contr)_microsoft-deberta-v2-xxlarge-mnli\n",
       "8             3.506895               p(Entl)_microsoft-deberta-base-mnli\n",
       "13            3.417052         p(Contr)_microsoft-deberta-v2-xlarge-mnli"
      ]
     },
     "metadata": {},
     "output_type": "display_data"
    }
   ],
   "source": [
    "for task in TASKS:\n",
    "    print(task)\n",
    "    display(pd.DataFrame({\n",
    "        'feature_importance': models[task].get_feature_importance(), \n",
    "        'feature_names': X[f'val-{task}'].columns,\n",
    "    }).sort_values(by=['feature_importance'], ascending=False))"
   ]
  }
 ],
 "metadata": {
  "kernelspec": {
   "display_name": ".venv",
   "language": "python",
   "name": "python3"
  },
  "language_info": {
   "codemirror_mode": {
    "name": "ipython",
    "version": 3
   },
   "file_extension": ".py",
   "mimetype": "text/x-python",
   "name": "python",
   "nbconvert_exporter": "python",
   "pygments_lexer": "ipython3",
   "version": "3.11.8"
  }
 },
 "nbformat": 4,
 "nbformat_minor": 2
}
